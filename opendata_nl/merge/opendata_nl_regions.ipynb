{
 "cells": [
  {
   "cell_type": "code",
   "execution_count": 3,
   "metadata": {},
   "outputs": [],
   "source": [
    "# code using import from opendata.nl\n"
   ]
  },
  {
   "cell_type": "code",
   "execution_count": 4,
   "metadata": {},
   "outputs": [
    {
     "name": "stdout",
     "output_type": "stream",
     "text": [
      "Requirement already satisfied: requests in c:\\users\\hp\\anaconda3\\lib\\site-packages (2.27.1)\n",
      "Requirement already satisfied: charset-normalizer~=2.0.0 in c:\\users\\hp\\anaconda3\\lib\\site-packages (from requests) (2.0.4)\n",
      "Requirement already satisfied: urllib3<1.27,>=1.21.1 in c:\\users\\hp\\anaconda3\\lib\\site-packages (from requests) (1.26.9)\n",
      "Requirement already satisfied: idna<4,>=2.5 in c:\\users\\hp\\anaconda3\\lib\\site-packages (from requests) (3.3)\n",
      "Requirement already satisfied: certifi>=2017.4.17 in c:\\users\\hp\\anaconda3\\lib\\site-packages (from requests) (2021.10.8)\n",
      "Note: you may need to restart the kernel to use updated packages.\n",
      "Requirement already satisfied: cbsodata in c:\\users\\hp\\appdata\\roaming\\python\\python39\\site-packages (1.3.5)\n",
      "Requirement already satisfied: requests in c:\\users\\hp\\anaconda3\\lib\\site-packages (from cbsodata) (2.27.1)\n",
      "Requirement already satisfied: idna<4,>=2.5 in c:\\users\\hp\\anaconda3\\lib\\site-packages (from requests->cbsodata) (3.3)\n",
      "Requirement already satisfied: charset-normalizer~=2.0.0 in c:\\users\\hp\\anaconda3\\lib\\site-packages (from requests->cbsodata) (2.0.4)\n",
      "Requirement already satisfied: urllib3<1.27,>=1.21.1 in c:\\users\\hp\\anaconda3\\lib\\site-packages (from requests->cbsodata) (1.26.9)\n",
      "Requirement already satisfied: certifi>=2017.4.17 in c:\\users\\hp\\anaconda3\\lib\\site-packages (from requests->cbsodata) (2021.10.8)\n",
      "Note: you may need to restart the kernel to use updated packages.\n"
     ]
    }
   ],
   "source": [
    "%pip install requests\n",
    "%pip install --user cbsodata \n",
    "import pandas as pd\n",
    "import numpy as np\n",
    "import statistics\n",
    "import requests\n",
    "import cbsodata\n"
   ]
  },
  {
   "cell_type": "code",
   "execution_count": 9,
   "metadata": {},
   "outputs": [
    {
     "name": "stdout",
     "output_type": "stream",
     "text": [
      "          ID ModesOfTravel                   Population TravelPurposes  \\\n",
      "29        29         Total  Population 6 years or older          Total   \n",
      "34        34         Total  Population 6 years or older          Total   \n",
      "39        39         Total  Population 6 years or older          Total   \n",
      "44        44         Total  Population 6 years or older          Total   \n",
      "49        49         Total  Population 6 years or older          Total   \n",
      "...      ...           ...                          ...            ...   \n",
      "36019  36019          Bike  Population 6 years or older          Other   \n",
      "36024  36024          Bike  Population 6 years or older          Other   \n",
      "36029  36029          Bike  Population 6 years or older          Other   \n",
      "36044  36044          Bike  Population 6 years or older          Other   \n",
      "36054  36054          Bike  Population 6 years or older          Other   \n",
      "\n",
      "      Margins          Regions Periods  AverageDistanceTravelledPerTrip_1  \\\n",
      "29      Value   Groningen (PV)    2022                              12.81   \n",
      "34      Value     Fryslân (PV)    2022                              13.32   \n",
      "39      Value     Drenthe (PV)    2022                              13.18   \n",
      "44      Value  Overijssel (PV)    2022                              11.16   \n",
      "49      Value   Flevoland (PV)    2022                              14.41   \n",
      "...       ...              ...     ...                                ...   \n",
      "36019   Value   Flevoland (PV)    2022                               2.34   \n",
      "36024   Value  Gelderland (PV)    2022                               2.01   \n",
      "36029   Value     Utrecht (PV)    2022                               2.20   \n",
      "36044   Value     Zeeland (PV)    2022                                NaN   \n",
      "36054   Value     Limburg (PV)    2022                               1.91   \n",
      "\n",
      "       AverageTravelTimePerTrip_2  \n",
      "29                          27.42  \n",
      "34                          27.83  \n",
      "39                          27.88  \n",
      "44                          24.97  \n",
      "49                          28.49  \n",
      "...                           ...  \n",
      "36019                       14.11  \n",
      "36024                       10.56  \n",
      "36029                       12.93  \n",
      "36044                         NaN  \n",
      "36054                       10.99  \n",
      "\n",
      "[540 rows x 9 columns]\n",
      "                                 Key                                Title\n",
      "0                      ModesOfTravel                      Modes of travel\n",
      "1                         Population                           Population\n",
      "2                     TravelPurposes                      Travel purposes\n",
      "3                            Margins                              Margins\n",
      "4              RegionCharacteristics               Region characteristics\n",
      "5                            Periods                              Periods\n",
      "6  AverageDistanceTravelledPerTrip_1  Average distance travelled per trip\n",
      "7         AverageTravelTimePerTrip_2       Average travel time per trip  \n"
     ]
    }
   ],
   "source": [
    "# Downloading table list\n",
    "toc = pd.DataFrame(cbsodata.get_table_list())\n",
    "\n",
    "# Downloading entire dataset \n",
    "data = pd.DataFrame(cbsodata.get_data(\"84711ENG\"))\n",
    "\n",
    "# changing the column name to \"regions\"\n",
    "data.rename(columns={\"RegionCharacteristics\" : \"Regions\"}, inplace=True)\n",
    "\n",
    "#cleaning and limiting data to relevant parts \n",
    "conditions = (\n",
    "    (data['Population'] == \"Population 6 years or older\") &\n",
    "    (data['Regions'].isin([\"Groningen (PV)\", \"Fryslân (PV)\", \"Drenthe (PV)\", \"Overijssel (PV)\", \"Flevoland (PV)\", \"Gelderland (PV)\", \"Utrecht (PV)\", \"North Holland (PV)\", \"South Holland (PV)\", \"Zeeland (PV)\", \"North Brabant (PV)\", \"Limburg (PV)\"])) & \n",
    "    (data['Margins'] == \"Value\") &\n",
    "    (data['Periods'] == \"2022\") &\n",
    "    (data['ModesOfTravel'] != \"Walking\") &\n",
    "    (data['ModesOfTravel'] != \"Other\")\n",
    ")\n",
    "\n",
    "# Apply the filtering conditions\n",
    "filtered_data = data[conditions]\n",
    "\n",
    "# Display the filtered data\n",
    "print(filtered_data)\n",
    "\n",
    "# Downloading metadata\n",
    "metadata = pd.DataFrame(cbsodata.get_meta(\"84711ENG\", \"DataProperties\"))\n",
    "print(metadata[['Key','Title']])\n",
    "\n",
    "filtered_data.to_csv(\"trip_data_region.csv\", index=False)\n",
    "\n",
    "# Save metadata to a CSV file\n",
    "metadata.to_csv(\"metatripdata_region.csv\", index=False)"
   ]
  },
  {
   "cell_type": "code",
   "execution_count": null,
   "metadata": {},
   "outputs": [],
   "source": []
  },
  {
   "cell_type": "code",
   "execution_count": null,
   "metadata": {},
   "outputs": [],
   "source": []
  },
  {
   "cell_type": "code",
   "execution_count": null,
   "metadata": {},
   "outputs": [],
   "source": []
  }
 ],
 "metadata": {
  "kernelspec": {
   "display_name": "Python 3",
   "language": "python",
   "name": "python3"
  },
  "language_info": {
   "codemirror_mode": {
    "name": "ipython",
    "version": 3
   },
   "file_extension": ".py",
   "mimetype": "text/x-python",
   "name": "python",
   "nbconvert_exporter": "python",
   "pygments_lexer": "ipython3",
   "version": "3.9.12"
  }
 },
 "nbformat": 4,
 "nbformat_minor": 2
}
