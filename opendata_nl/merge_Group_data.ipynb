{
 "cells": [
  {
   "cell_type": "code",
   "execution_count": 2,
   "metadata": {},
   "outputs": [],
   "source": [
    "\n",
    "import pandas as pd\n",
    "import numpy as np\n",
    "\n",
    "\n",
    "mobility_df = pd.read_csv('cbs_mobility.csv', header=None, skiprows=4)\n",
    "GDP_df = pd.read_csv('cbs_GDP.csv', sep = ';')\n",
    "\n",
    "\n",
    "df = mobility_df.drop(index=[12])\n",
    "\n",
    "df = df[0].str.split(';', expand=True)\n",
    "df = df.drop(index=[1,2,3])\n",
    "df = df.drop(columns=[0])\n",
    "\n",
    "df = df.replace(to_replace='\"', value='', regex=True)\n",
    "df = df.replace(to_replace='.', value=np.nan)\n",
    "\n",
    "GDP_df = pd.read_csv('cbs_GDP.csv', sep = ';')\n",
    "GDP_df = GDP_df.drop(columns='Periods')\n",
    "GDP_df = GDP_df.transpose()\n",
    "\n",
    "\n",
    "#GDP_df.to_excel('GDP.xlsx')\n",
    "#print(df)\n",
    "#print(GDP_df)\n",
    "\n",
    "# Concatenate the DataFrames vertically\n",
    "merged_df = pd.concat([df, GDP_df], ignore_index=True)\n",
    "\n",
    "#print(merged_df)\n",
    "merged_df.to_excel('merggg.xlsx')\n",
    "\n"
   ]
  },
  {
   "cell_type": "code",
   "execution_count": 11,
   "metadata": {},
   "outputs": [
    {
     "name": "stdout",
     "output_type": "stream",
     "text": [
      "Variance of the merged data from Opendata.nl: 1     1.295727e+08\n",
      "2     2.254413e+08\n",
      "3     1.665465e+08\n",
      "4     4.596094e+08\n",
      "5     2.051291e+08\n",
      "6     9.950487e+08\n",
      "7     1.050124e+09\n",
      "8     4.250970e+09\n",
      "9     3.659216e+09\n",
      "10    2.041370e+08\n",
      "11    1.954965e+09\n",
      "12    4.946300e+08\n",
      "13    2.549660e+02\n",
      "14    4.408388e+02\n",
      "0     2.042489e+11\n",
      "dtype: float64\n",
      "mean1      43949.000000\n",
      "2       9232.807143\n",
      "3       6957.611250\n",
      "4      12341.265000\n",
      "5       8207.147143\n",
      "6      15657.125556\n",
      "7      17078.655556\n",
      "8      30524.667778\n",
      "9      25418.673000\n",
      "10      6416.895000\n",
      "11     19835.276000\n",
      "12     12825.558750\n",
      "13        18.781429\n",
      "14        18.568571\n",
      "0     506610.000000\n",
      "dtype: float64\n",
      "this is the standart deviation1      11383.000000\n",
      "2      15014.701434\n",
      "3      12905.291153\n",
      "4      21438.502405\n",
      "5      14322.328530\n",
      "6      31544.392007\n",
      "7      32405.622987\n",
      "8      65199.460250\n",
      "9      60491.450677\n",
      "10     14287.650423\n",
      "11     44214.989240\n",
      "12     22240.277709\n",
      "13        15.967653\n",
      "14        20.996163\n",
      "0     451939.000000\n",
      "dtype: float64\n"
     ]
    }
   ],
   "source": [
    "#varaince of data set \n",
    "numeric_df = merged_df.apply(pd.to_numeric, errors='coerce')\n",
    "variance_1 = np.var(numeric_df)\n",
    "\n",
    "print(\"Variance of the merged data from Opendata.nl:\", variance_1)\n",
    "\n",
    "mean_values = numeric_df.mean()\n",
    "print(f\"mean{mean_values}\")\n",
    "\n",
    "std_dev = np.sqrt(variance_1)\n",
    "print(f\"this is the standart deviation{std_dev}\")"
   ]
  },
  {
   "cell_type": "code",
   "execution_count": null,
   "metadata": {},
   "outputs": [],
   "source": []
  }
 ],
 "metadata": {
  "kernelspec": {
   "display_name": "base",
   "language": "python",
   "name": "python3"
  },
  "language_info": {
   "codemirror_mode": {
    "name": "ipython",
    "version": 3
   },
   "file_extension": ".py",
   "mimetype": "text/x-python",
   "name": "python",
   "nbconvert_exporter": "python",
   "pygments_lexer": "ipython3",
   "version": "3.9.6"
  }
 },
 "nbformat": 4,
 "nbformat_minor": 2
}
