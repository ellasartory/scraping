{
 "cells": [
  {
   "cell_type": "code",
   "execution_count": 86,
   "metadata": {},
   "outputs": [],
   "source": [
    "\n",
    "import pandas as pd\n",
    "import numpy as np\n",
    "\n",
    "\n",
    "mobility_df = pd.read_csv('cbs_mobility.csv', header=None, skiprows=4)\n",
    "GDP_df = pd.read_csv('cbs_GDP.csv', sep = ';')\n",
    "\n",
    "\n",
    "df = mobility_df.drop(index=[12])\n",
    "\n",
    "df = df[0].str.split(';', expand=True)\n",
    "df = df.drop(index=[1,2,3])\n",
    "df = df.drop(columns=[0])\n",
    "\n",
    "df = df.replace(to_replace='\"', value='', regex=True)\n",
    "df = df.replace(to_replace='.', value=np.nan)\n",
    "\n",
    "GDP_df = pd.read_csv('cbs_GDP.csv', sep = ';')\n",
    "GDP_df = GDP_df.drop(columns='Periods')\n",
    "GDP_df = GDP_df.transpose()\n",
    "\n",
    "\n",
    "#GDP_df.to_excel('GDP.xlsx')\n",
    "#print(df)\n",
    "#print(GDP_df)\n",
    "\n",
    "# Concatenate the DataFrames vertically\n",
    "merged_df = pd.concat([df, GDP_df], ignore_index=True)\n",
    "\n",
    "#print(merged_df)\n",
    "merged_df.to_excel('merggg.xlsx')\n",
    "\n"
   ]
  },
  {
   "cell_type": "code",
   "execution_count": null,
   "metadata": {},
   "outputs": [],
   "source": []
  }
 ],
 "metadata": {
  "kernelspec": {
   "display_name": "base",
   "language": "python",
   "name": "python3"
  },
  "language_info": {
   "name": "python",
   "version": "3.9.7"
  }
 },
 "nbformat": 4,
 "nbformat_minor": 2
}
