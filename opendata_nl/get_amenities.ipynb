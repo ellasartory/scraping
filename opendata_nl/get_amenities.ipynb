{
 "cells": [
  {
   "cell_type": "code",
   "execution_count": 1,
   "id": "6d1bab16-938f-4293-a543-bc6a3e0a3035",
   "metadata": {},
   "outputs": [],
   "source": [
    "import overpy\n",
    "from geopy.geocoders import Nominatim\n",
    "import pandas as pd\n",
    "\n",
    "def geocode_address(address):\n",
    "    geolocator = Nominatim(user_agent=\"your_app_name\")\n",
    "    location = geolocator.geocode(address)\n",
    "    return (location.latitude, location.longitude)\n",
    "\n",
    "\n",
    "def get_nearby_amenities(address):\n",
    "    try:\n",
    "        coordinates = geocode_address(address)\n",
    "\n",
    "        overpass_query = f\"\"\"\n",
    "            node(around:500, {coordinates[0]}, {coordinates[1]})\n",
    "            [\"amenity\"];\n",
    "            out;\n",
    "        \"\"\"\n",
    "\n",
    "        api = overpy.Overpass()\n",
    "        result = api.query(overpass_query)\n",
    "\n",
    "        amenities = [node.tags.get('amenity', 'N/A') for node in result.nodes]\n",
    "        return \", \".join(amenities)\n",
    "    \n",
    "    except Exception as e:\n",
    "        return str(e)\n",
    "\n",
    "def process_excel(input_file, output_file):\n",
    "    df = pd.read_excel(input_file)\n",
    "\n",
    "    df['Amenities'] = df['Address'].apply(get_nearby_amenities)\n",
    "\n",
    "    df.to_csv(output_file, index=False)\n",
    "\n",
    "# Example usage\n",
    "input_excel_file = \"input_file.xlsx\"\n",
    "output_csv_file = \"output_amenities.csv\"\n",
    "process_excel(input_excel_file, output_csv_file)\n"
   ]
  }
 ],
 "metadata": {
  "kernelspec": {
   "display_name": "Python 3 (ipykernel)",
   "language": "python",
   "name": "python3"
  },
  "language_info": {
   "codemirror_mode": {
    "name": "ipython",
    "version": 3
   },
   "file_extension": ".py",
   "mimetype": "text/x-python",
   "name": "python",
   "nbconvert_exporter": "python",
   "pygments_lexer": "ipython3",
   "version": "3.9.12"
  }
 },
 "nbformat": 4,
 "nbformat_minor": 5
}
