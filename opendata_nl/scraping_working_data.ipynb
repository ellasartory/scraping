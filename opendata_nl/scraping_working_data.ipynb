import pandas as pd
import numpy as np

GDP_df = pd.read_csv('cbs_GDP.csv', sep = ';')
GDP_df = GDP_df.drop(columns='Periods')
GDP_df = GDP_df.transpose()

# renaming the columns by creating a new dataframe
headers = GDP_df.iloc[0]
new_GDP  = pd.DataFrame(GDP_df.values[1:], columns=headers)  #index=GDP_df.index[1:]
#renaming the provinces to match the other data set
new_GDP = new_GDP.rename(columns={"The Netherlands": "the Netherlands","Fryslân (PV)": "Friesland (PV)", "Noord-Holland (PV)": "North Holland (PV)","Zuid-Holland (PV)": "South Holland (PV)", "Noord-Brabant (PV)": "North Brabant (PV)"})

display(new_GDP)

#skipping unnecessary rows and columns
mobility_df = pd.read_csv('cbs_mobility.csv', sep = ';', skiprows=4)
mobility_df = mobility_df.drop(index=[0,1,2,11])
mobility_df = mobility_df.drop(columns='Unnamed: 0')


# correcting missing values
mobility_df = mobility_df.replace(to_replace='"', value='', regex=True)
mobility_df = mobility_df.replace(to_replace='.', value=np.nan)
display(mobility_df)

# Concatenate the DataFrames vertically
merged_df = pd.concat([mobility_df, new_GDP], ignore_index=True)
merged_df.at[8,'Region characteristics'] = 'GDP (market prices) (million euros)'
merged_df.at[9,'Region characteristics'] = 'GDP per capita (euros)'

display(merged_df)
merged_df.to_excel('merged_data.xlsx')
