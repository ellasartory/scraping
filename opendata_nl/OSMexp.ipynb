{
 "cells": [
  {
   "cell_type": "code",
   "execution_count": 1,
   "id": "e26fb774-192d-4cf4-a7f5-4035dbbe71a0",
   "metadata": {
    "tags": []
   },
   "outputs": [
    {
     "name": "stdout",
     "output_type": "stream",
     "text": [
      "Defaulting to user installation because normal site-packages is not writeable\n",
      "Requirement already satisfied: overpy in /Users/ellasartory/Library/Python/3.9/lib/python/site-packages (0.6)\n",
      "Note: you may need to restart the kernel to use updated packages.\n"
     ]
    }
   ],
   "source": [
    "%pip install overpy\n",
    "import overpy\n",
    "\n",
    "\n",
    "api = overpy.Overpass()\n",
    "\n",
    "# # fetch all ways and nodes\n",
    "# result = api.query(\"\"\"\n",
    "#     way(50.746,7.154,50.748,7.157) [\"highway\"];\n",
    "#     (._;>;);\n",
    "#     out body;\n",
    "#     \"\"\")\n",
    "\n",
    "# for way in result.ways:\n",
    "#     print(\"Name: %s\" % way.tags.get(\"name\", \"n/a\"))\n",
    "#     print(\"  Highway: %s\" % way.tags.get(\"highway\", \"n/a\"))\n",
    "#     print(\"  Nodes:\")\n",
    "#     for node in way.nodes:\n",
    "#         print(\"    Lat: %f, Lon: %f\" % (node.lat, node.lon))"
   ]
  },
  {
   "cell_type": "code",
   "execution_count": 2,
   "id": "2725020f-4862-4da6-8ee0-76a13cc0a316",
   "metadata": {},
   "outputs": [
    {
     "name": "stderr",
     "output_type": "stream",
     "text": [
      "/Users/ellasartory/Library/Python/3.9/lib/python/site-packages/urllib3/__init__.py:34: NotOpenSSLWarning: urllib3 v2.0 only supports OpenSSL 1.1.1+, currently the 'ssl' module is compiled with 'LibreSSL 2.8.3'. See: https://github.com/urllib3/urllib3/issues/3020\n",
      "  warnings.warn(\n"
     ]
    }
   ],
   "source": [
    "import overpy\n",
    "from geopy.geocoders import Nominatim\n",
    "\n",
    "# def geocode_address(address):\n",
    "#     geolocator = Nominatim(user_agent=\"your_app_name\")\n",
    "#     location = geolocator.geocode(address)\n",
    "#     return (location.latitude, location.longitude)\n",
    "\n",
    "# def get_nearby_amenities(address):\n",
    "#     # Step 1: Geocode the address\n",
    "#     coordinates = geocode_address(address)\n",
    "\n",
    "#     # Step 2: Construct Overpass query\n",
    "#     overpass_query = f\"\"\"\n",
    "#         node(around:500, {coordinates[0]}, {coordinates[1]})\n",
    "#         [\"amenity\"];\n",
    "#         out;\n",
    "#     \"\"\"\n",
    "\n",
    "#     # Step 3: Query Overpass API\n",
    "#     api = overpy.Overpass()\n",
    "#     result = api.query(overpass_query)\n",
    "\n",
    "#     # Step 4: Parse and print results\n",
    "#     for node in result.nodes:\n",
    "#         print(f\"Amenity: {node.tags.get('amenity', 'N/A')}, Name: {node.tags.get('name', 'N/A')}\")\n",
    "\n",
    "# # Example usage\n",
    "# get_nearby_amenities(\"1600 Amphitheatre Parkway, Mountain View, CA\")\n"
   ]
  },
  {
   "cell_type": "code",
   "execution_count": 3,
   "metadata": {},
   "outputs": [],
   "source": [
    "#optimized code that works with errors and returns two seperate lists instead of print\n",
    "\n",
    "def geocode_address(address):\n",
    "    geolocator = Nominatim(user_agent=\"your_app_name\")\n",
    "    location = geolocator.geocode(address)\n",
    "    if location is not None:\n",
    "        return (location.latitude, location.longitude)\n",
    "    else:\n",
    "        return None\n",
    "\n",
    "def get_nearby_amenities(address):\n",
    "    # Step 1: Geocode the address\n",
    "    coordinates = geocode_address(address)\n",
    "\n",
    "    # Step 2: Construct Overpass query\n",
    "    if coordinates is not None:\n",
    "        overpass_query = f\"\"\"\n",
    "            node(around:500, {coordinates[0]}, {coordinates[1]})\n",
    "            [\"amenity\"];\n",
    "            out;\n",
    "        \"\"\"\n",
    "\n",
    "        # Step 3: Query Overpass API\n",
    "        api = overpy.Overpass()\n",
    "        result = api.query(overpass_query)\n",
    "\n",
    "        amenities = []\n",
    "        names = []\n",
    "        # Step 4: Parse and print results\n",
    "        for node in result.nodes:\n",
    "            amenity_name = node.tags.get('amenity', 'N/A')\n",
    "            name = node.tags.get('name', 'N/A')\n",
    "            amenities.append(amenity_name)\n",
    "            names.append(name)\n",
    "    \n",
    "        return amenities, names\n",
    "    else:\n",
    "        return [], []\n",
    "\n",
    "# Example usage\n",
    "amenities, names = get_nearby_amenities(\"1600 Amphitheatre Parkway, Mountain View, CA\")\n"
   ]
  },
  {
   "cell_type": "code",
   "execution_count": 4,
   "metadata": {},
   "outputs": [
    {
     "ename": "KeyError",
     "evalue": "'adress'",
     "output_type": "error",
     "traceback": [
      "\u001b[0;31m---------------------------------------------------------------------------\u001b[0m",
      "\u001b[0;31mKeyError\u001b[0m                                  Traceback (most recent call last)",
      "File \u001b[0;32m~/Library/Python/3.9/lib/python/site-packages/pandas/core/indexes/base.py:3790\u001b[0m, in \u001b[0;36mIndex.get_loc\u001b[0;34m(self, key)\u001b[0m\n\u001b[1;32m   3789\u001b[0m \u001b[39mtry\u001b[39;00m:\n\u001b[0;32m-> 3790\u001b[0m     \u001b[39mreturn\u001b[39;00m \u001b[39mself\u001b[39;49m\u001b[39m.\u001b[39;49m_engine\u001b[39m.\u001b[39;49mget_loc(casted_key)\n\u001b[1;32m   3791\u001b[0m \u001b[39mexcept\u001b[39;00m \u001b[39mKeyError\u001b[39;00m \u001b[39mas\u001b[39;00m err:\n",
      "File \u001b[0;32mindex.pyx:152\u001b[0m, in \u001b[0;36mpandas._libs.index.IndexEngine.get_loc\u001b[0;34m()\u001b[0m\n",
      "File \u001b[0;32mindex.pyx:181\u001b[0m, in \u001b[0;36mpandas._libs.index.IndexEngine.get_loc\u001b[0;34m()\u001b[0m\n",
      "File \u001b[0;32mpandas/_libs/hashtable_class_helper.pxi:7080\u001b[0m, in \u001b[0;36mpandas._libs.hashtable.PyObjectHashTable.get_item\u001b[0;34m()\u001b[0m\n",
      "File \u001b[0;32mpandas/_libs/hashtable_class_helper.pxi:7088\u001b[0m, in \u001b[0;36mpandas._libs.hashtable.PyObjectHashTable.get_item\u001b[0;34m()\u001b[0m\n",
      "\u001b[0;31mKeyError\u001b[0m: 'adress'",
      "\nThe above exception was the direct cause of the following exception:\n",
      "\u001b[0;31mKeyError\u001b[0m                                  Traceback (most recent call last)",
      "\u001b[1;32m/Users/ellasartory/Library/CloudStorage/OneDrive-UvA/scraping/opendata_nl/OSMexp.ipynb Cell 4\u001b[0m line \u001b[0;36m7\n\u001b[1;32m      <a href='vscode-notebook-cell:/Users/ellasartory/Library/CloudStorage/OneDrive-UvA/scraping/opendata_nl/OSMexp.ipynb#W3sZmlsZQ%3D%3D?line=3'>4</a>\u001b[0m reviews \u001b[39m=\u001b[39m pd\u001b[39m.\u001b[39mDataFrame(excel)\n\u001b[1;32m      <a href='vscode-notebook-cell:/Users/ellasartory/Library/CloudStorage/OneDrive-UvA/scraping/opendata_nl/OSMexp.ipynb#W3sZmlsZQ%3D%3D?line=5'>6</a>\u001b[0m \u001b[39m#apply function and add two new columns wit the amenities and names of places to data frame\u001b[39;00m\n\u001b[0;32m----> <a href='vscode-notebook-cell:/Users/ellasartory/Library/CloudStorage/OneDrive-UvA/scraping/opendata_nl/OSMexp.ipynb#W3sZmlsZQ%3D%3D?line=6'>7</a>\u001b[0m reviews[[\u001b[39m\"\u001b[39m\u001b[39mnearby_features\u001b[39m\u001b[39m\"\u001b[39m, \u001b[39m\"\u001b[39m\u001b[39mnames\u001b[39m\u001b[39m\"\u001b[39m]] \u001b[39m=\u001b[39m reviews[\u001b[39m\"\u001b[39;49m\u001b[39madress\u001b[39;49m\u001b[39m\"\u001b[39;49m]\u001b[39m.\u001b[39mapply(get_nearby_amenities, result_type \u001b[39m=\u001b[39m \u001b[39m\"\u001b[39m\u001b[39mexpand\u001b[39m\u001b[39m\"\u001b[39m) \u001b[39m# replace adress once we have column with adress \u001b[39;00m\n",
      "File \u001b[0;32m~/Library/Python/3.9/lib/python/site-packages/pandas/core/frame.py:3896\u001b[0m, in \u001b[0;36mDataFrame.__getitem__\u001b[0;34m(self, key)\u001b[0m\n\u001b[1;32m   3894\u001b[0m \u001b[39mif\u001b[39;00m \u001b[39mself\u001b[39m\u001b[39m.\u001b[39mcolumns\u001b[39m.\u001b[39mnlevels \u001b[39m>\u001b[39m \u001b[39m1\u001b[39m:\n\u001b[1;32m   3895\u001b[0m     \u001b[39mreturn\u001b[39;00m \u001b[39mself\u001b[39m\u001b[39m.\u001b[39m_getitem_multilevel(key)\n\u001b[0;32m-> 3896\u001b[0m indexer \u001b[39m=\u001b[39m \u001b[39mself\u001b[39;49m\u001b[39m.\u001b[39;49mcolumns\u001b[39m.\u001b[39;49mget_loc(key)\n\u001b[1;32m   3897\u001b[0m \u001b[39mif\u001b[39;00m is_integer(indexer):\n\u001b[1;32m   3898\u001b[0m     indexer \u001b[39m=\u001b[39m [indexer]\n",
      "File \u001b[0;32m~/Library/Python/3.9/lib/python/site-packages/pandas/core/indexes/base.py:3797\u001b[0m, in \u001b[0;36mIndex.get_loc\u001b[0;34m(self, key)\u001b[0m\n\u001b[1;32m   3792\u001b[0m     \u001b[39mif\u001b[39;00m \u001b[39misinstance\u001b[39m(casted_key, \u001b[39mslice\u001b[39m) \u001b[39mor\u001b[39;00m (\n\u001b[1;32m   3793\u001b[0m         \u001b[39misinstance\u001b[39m(casted_key, abc\u001b[39m.\u001b[39mIterable)\n\u001b[1;32m   3794\u001b[0m         \u001b[39mand\u001b[39;00m \u001b[39many\u001b[39m(\u001b[39misinstance\u001b[39m(x, \u001b[39mslice\u001b[39m) \u001b[39mfor\u001b[39;00m x \u001b[39min\u001b[39;00m casted_key)\n\u001b[1;32m   3795\u001b[0m     ):\n\u001b[1;32m   3796\u001b[0m         \u001b[39mraise\u001b[39;00m InvalidIndexError(key)\n\u001b[0;32m-> 3797\u001b[0m     \u001b[39mraise\u001b[39;00m \u001b[39mKeyError\u001b[39;00m(key) \u001b[39mfrom\u001b[39;00m \u001b[39merr\u001b[39;00m\n\u001b[1;32m   3798\u001b[0m \u001b[39mexcept\u001b[39;00m \u001b[39mTypeError\u001b[39;00m:\n\u001b[1;32m   3799\u001b[0m     \u001b[39m# If we have a listlike key, _check_indexing_error will raise\u001b[39;00m\n\u001b[1;32m   3800\u001b[0m     \u001b[39m#  InvalidIndexError. Otherwise we fall through and re-raise\u001b[39;00m\n\u001b[1;32m   3801\u001b[0m     \u001b[39m#  the TypeError.\u001b[39;00m\n\u001b[1;32m   3802\u001b[0m     \u001b[39mself\u001b[39m\u001b[39m.\u001b[39m_check_indexing_error(key)\n",
      "\u001b[0;31mKeyError\u001b[0m: 'adress'"
     ]
    }
   ],
   "source": [
    "import pandas as pd\n",
    "#read excel sheet and convert to data frame\n",
    "excel = pd.read_excel(\"Outscraper necessary columns version copy.xlsx\")\n",
    "reviews = pd.DataFrame(excel)\n",
    "\n",
    "#apply function and add two new columns wit the amenities and names of places to data frame\n",
    "reviews[[\"nearby_features\", \"names\"]] = reviews[\"adress\"].apply(get_nearby_amenities, result_type = \"expand\") # replace adress once we have column with adress \n",
    "    \n",
    "\n"
   ]
  },
  {
   "cell_type": "code",
   "execution_count": null,
   "metadata": {},
   "outputs": [],
   "source": []
  }
 ],
 "metadata": {
  "kernelspec": {
   "display_name": "Python 3 (ipykernel)",
   "language": "python",
   "name": "python3"
  },
  "language_info": {
   "codemirror_mode": {
    "name": "ipython",
    "version": 3
   },
   "file_extension": ".py",
   "mimetype": "text/x-python",
   "name": "python",
   "nbconvert_exporter": "python",
   "pygments_lexer": "ipython3",
   "version": "3.9.6"
  }
 },
 "nbformat": 4,
 "nbformat_minor": 5
}
