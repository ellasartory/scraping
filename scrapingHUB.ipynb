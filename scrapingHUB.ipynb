#group scraping
from selenium import webdriver
from selenium.webdriver.chrome.service import Service
from webdriver_manager.chrome import ChromeDriverManager
import time
from selenium.webdriver.common.by import By
from selenium.webdriver.common.keys import Keys

url= "https://www.sharedmobility.news/category/mob/"

# opening the browser
driver = webdriver.Chrome(service=Service(ChromeDriverManager().install()))
driver.get(url)

#accepting cookies 
button = driver.find_element('id','cookie-accept')
button.click()
