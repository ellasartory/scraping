{
 "cells": [
  {
   "cell_type": "code",
   "execution_count": 1,
   "metadata": {},
   "outputs": [
    {
     "name": "stderr",
     "output_type": "stream",
     "text": [
      "/Users/ellasartory/Library/Python/3.9/lib/python/site-packages/urllib3/__init__.py:34: NotOpenSSLWarning: urllib3 v2.0 only supports OpenSSL 1.1.1+, currently the 'ssl' module is compiled with 'LibreSSL 2.8.3'. See: https://github.com/urllib3/urllib3/issues/3020\n",
      "  warnings.warn(\n"
     ]
    },
    {
     "name": "stdout",
     "output_type": "stream",
     "text": [
      "Failed to retrieve the page. Status code: 404\n",
      "Total articles scraped: 760\n"
     ]
    }
   ],
   "source": [
    "# iterating over pages and count of articles works \n",
    "# Total articles scraped: 759\n",
    "#successfully saves all links to csv\n",
    "\n",
    "import requests\n",
    "from bs4 import BeautifulSoup\n",
    "import pandas as pd\n",
    "import concurrent.futures\n",
    "import re\n",
    "import numpy as np\n",
    "\n",
    "# Define the base URL\n",
    "base_url = \"https://www.sharedmobility.news/category/mob/\"\n",
    "page_number = 1\n",
    "article_count = 1\n",
    "\n",
    "#store the data in lists\n",
    "article_texts = []\n",
    "article_urls = []\n",
    "article_titles = []\n",
    "\n",
    "link_limit = 1000\n",
    "while article_count <= link_limit:\n",
    "    # Construct the URL for the current page\n",
    "    url = f\"{base_url}page/{page_number}/\" if page_number > 1 else base_url\n",
    "\n",
    "    response = requests.get(url)\n",
    "\n",
    "    if response.status_code == 200:\n",
    "        # Parse the HTML content\n",
    "        html_content = response.text\n",
    "        soup = BeautifulSoup(html_content, 'html.parser')\n",
    "\n",
    "        # Finding all the links within the 'a' element within the main section\n",
    "        link_elements = soup.find('main', class_='site-main rbc-content').find_all('a', class_='p-url')\n",
    "\n",
    "        for link_element in link_elements:\n",
    "            link = link_element.get('href')\n",
    "\n",
    "\n",
    "            article_response = requests.get(link)\n",
    "            if article_response.status_code == 200:\n",
    "                article_html_content = article_response.text\n",
    "                article_soup = BeautifulSoup(article_html_content, 'html.parser')\n",
    "\n",
    "                #get article title and text\n",
    "                article_title = article_soup.find('h1', class_='entry-title').get_text()\n",
    "                article_text = article_soup.find('div', class_='entry-content clearfix').get_text()\n",
    "\n",
    "                #add data to lists\n",
    "                article_titles.append(article_title)\n",
    "                article_texts.append(article_text)\n",
    "                article_urls.append(link)\n",
    "                #print(\"Article Title:\", article_title)\n",
    "\n",
    "\n",
    "\n",
    "                article_count += 1\n",
    "                #print(f\"Link {article_count}:\", link)\n",
    "\n",
    "        page_number += 1  #move to the next page\n",
    "    else:\n",
    "        print(\"Failed to retrieve the page. Status code:\", response.status_code)\n",
    "        break\n",
    "\n",
    "data = {\n",
    "    \"ID\": range(1, article_count),\n",
    "    \"Text\": article_texts,\n",
    "    \"URL\": article_urls,\n",
    "    \"Article Title\": article_titles\n",
    "}\n",
    "\n",
    "# saving to a xlsx file as a csv file was breaking after 165 articles\n",
    "df = pd.DataFrame(data)\n",
    "df.to_excel(\"ride_sharing_data_full_excel.xlsx\", index=False)\n",
    "print(f\"Total articles scraped: {article_count}\")"
   ]
  },
  {
   "cell_type": "code",
   "execution_count": 3,
   "metadata": {},
   "outputs": [
    {
     "name": "stdout",
     "output_type": "stream",
     "text": [
      "Variance of the merged data from Opendata.nl: ID               48006.666667\n",
      "Text                      NaN\n",
      "URL                       NaN\n",
      "Article Title             NaN\n",
      "dtype: float64\n",
      "ID               380.0\n",
      "Text               NaN\n",
      "URL                NaN\n",
      "Article Title      NaN\n",
      "dtype: float64\n"
     ]
    },
    {
     "name": "stderr",
     "output_type": "stream",
     "text": [
      "/Users/ellasartory/Library/Python/3.9/lib/python/site-packages/numpy/core/fromnumeric.py:3785: FutureWarning: The behavior of DataFrame.var with axis=None is deprecated, in a future version this will reduce over both axes and return a scalar. To retain the old behavior, pass axis=0 (or do not pass axis)\n",
      "  return var(axis=axis, dtype=dtype, out=out, ddof=ddof, **kwargs)\n"
     ]
    }
   ],
   "source": []
  },
  {
   "cell_type": "code",
   "execution_count": null,
   "metadata": {},
   "outputs": [],
   "source": []
  }
 ],
 "metadata": {
  "kernelspec": {
   "display_name": "base",
   "language": "python",
   "name": "python3"
  },
  "language_info": {
   "codemirror_mode": {
    "name": "ipython",
    "version": 3
   },
   "file_extension": ".py",
   "mimetype": "text/x-python",
   "name": "python",
   "nbconvert_exporter": "python",
   "pygments_lexer": "ipython3",
   "version": "3.9.6"
  }
 },
 "nbformat": 4,
 "nbformat_minor": 2
}
