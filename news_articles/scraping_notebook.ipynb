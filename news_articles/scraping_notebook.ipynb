{
 "cells": [
  {
   "cell_type": "code",
   "execution_count": 1,
   "metadata": {},
   "outputs": [
    {
     "name": "stdout",
     "output_type": "stream",
     "text": [
      "Failed to retrieve the page. Status code: 404\n",
      "Total articles scraped: 145\n"
     ]
    }
   ],
   "source": [
    "# iterating over pages and count of articles works \n",
    "# Total articles scraped: 759\n",
    "#successfully saves all links to csv\n",
    "\n",
    "import requests\n",
    "from bs4 import BeautifulSoup\n",
    "import pandas as pd\n",
    "import concurrent.futures\n",
    "import re\n",
    "\n",
    "# Define the base URL\n",
    "base_url = \"https://www.sharedmobility.news/category/mob/\"\n",
    "page_number = 1\n",
    "article_count = 1\n",
    "\n",
    "#store the data in lists\n",
    "article_texts = []\n",
    "article_urls = []\n",
    "article_titles = []\n",
    "\n",
    "link_limit = 200\n",
    "while article_count <= link_limit:\n",
    "    # Construct the URL for the current page\n",
    "    url = f\"{base_url}page/{page_number}/\" if page_number > 1 else base_url\n",
    "\n",
    "    response = requests.get(url)\n",
    "\n",
    "    if response.status_code == 200:\n",
    "        # Parse the HTML content\n",
    "        html_content = response.text\n",
    "        soup = BeautifulSoup(html_content, 'html.parser')\n",
    "\n",
    "        # Finding all the links within the 'a' element within the main section\n",
    "        link_elements = soup.find('main', class_='site-main rbc-content').find_all('a', class_='p-url')\n",
    "\n",
    "        for link_element in link_elements:\n",
    "            link = link_element.get('href')\n",
    "\n",
    "\n",
    "            article_response = requests.get(link)\n",
    "            if article_response.status_code == 200:\n",
    "                article_html_content = article_response.text\n",
    "                article_soup = BeautifulSoup(article_html_content, 'html.parser')\n",
    "\n",
    "                #get article title and text\n",
    "                article_title = article_soup.find('h1', class_='entry-title').get_text()\n",
    "                article_text = article_soup.find('div', class_='entry-content clearfix').get_text()\n",
    "\n",
    "                #add data to lists\n",
    "                article_titles.append(article_title)\n",
    "                article_texts.append(article_text)\n",
    "                article_urls.append(link)\n",
    "                #print(\"Article Title:\", article_title)\n",
    "\n",
    "\n",
    "\n",
    "                article_count += 1\n",
    "                #print(f\"Link {article_count}:\", link)\n",
    "\n",
    "        page_number += 1  #move to the next page\n",
    "    else:\n",
    "        print(\"Failed to retrieve the page. Status code:\", response.status_code)\n",
    "        break\n",
    "\n",
    "data = {\n",
    "    \"ID\": range(1, article_count),\n",
    "    \"Text\": article_texts,\n",
    "    \"URL\": article_urls,\n",
    "    \"Article Title\": article_titles\n",
    "}\n",
    "\n",
    "df = pd.DataFrame(data)\n",
    "\n",
    "df.to_csv(\"ride_sharing_data_full.csv\", index=False)\n",
    "print(f\"Total articles scraped: {article_count}\")"
   ]
  },
  {
   "cell_type": "code",
   "execution_count": null,
   "metadata": {},
   "outputs": [],
   "source": []
  }
 ],
 "metadata": {
  "kernelspec": {
   "display_name": "base",
   "language": "python",
   "name": "python3"
  },
  "language_info": {
   "codemirror_mode": {
    "name": "ipython",
    "version": 3
   },
   "file_extension": ".py",
   "mimetype": "text/x-python",
   "name": "python",
   "nbconvert_exporter": "python",
   "pygments_lexer": "ipython3",
   "version": "3.9.7"
  }
 },
 "nbformat": 4,
 "nbformat_minor": 2
}
