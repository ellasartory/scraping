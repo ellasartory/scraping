{
 "cells": [
  {
   "cell_type": "code",
   "execution_count": 4,
   "metadata": {},
   "outputs": [],
   "source": [
    "# Scraping \"Mobiliteithubscrow\" website for mobility hubs news in the Netherlands\n",
    "# iterating over pages and count of articles works \n",
    "# Total articles scraped: \n",
    "#successfully saves all links to csv?\n",
    "\n",
    "import pickle\n",
    "import requests\n",
    "from bs4 import BeautifulSoup\n",
    "\n",
    "url = \"https://www.mobiliteitshubs.nl/actueel/nieuws\"\n",
    "response = requests.get(url)\n",
    "\n",
    "# Check if the request was successful (status code 200)\n",
    "if response.status_code == 200:\n",
    "    soup = BeautifulSoup(response.text, 'html.parser')\n",
    "\n",
    "    # Initialize an empty list to store the paper details\n",
    "    data_list = []\n",
    "\n",
    "    # Use .select to select title, authors, and link text\n",
    "    title_list = soup.select(\"h1.content_title\")\n",
    "    text_list = soup.select(\"div.common-text.content.rich-text\")\n",
    "    link_list = soup.select('a[class=\"common-header-link\"]')\n",
    "\n",
    "    # Iterate through the selected elements to get only the text\n",
    "    for i in range(len(title_list)):\n",
    "        title = title_list[i].text.strip()\n",
    "        text = text_list[i].text.strip()\n",
    "        link = link_list[i].text.strip()\n",
    "\n",
    "        # Create a dictionary for the paper\n",
    "        paper_dict = {\n",
    "            'title': title,\n",
    "            'text': text,\n",
    "            'url': link,\n",
    "        }\n",
    "\n",
    "        # Append the paper dictionary to the list\n",
    "        data_list.append(paper_dict)\n",
    "\n",
    "    # list of dictionaries containing paper details with only text content\n",
    "    for paper in data_list:\n",
    "        print(f\"{paper['title']}\")\n",
    "        print(f\"{paper['text']}\")\n",
    "        print(f\"{paper['url']}\")\n",
    "else:\n",
    "    print(f\"Failed to retrieve the page. Status code: {response.status_code}\")\n",
    "\n"
   ]
  },
  {
   "cell_type": "code",
   "execution_count": null,
   "metadata": {},
   "outputs": [],
   "source": []
  }
 ],
 "metadata": {
  "kernelspec": {
   "display_name": "base",
   "language": "python",
   "name": "python3"
  },
  "language_info": {
   "codemirror_mode": {
    "name": "ipython",
    "version": 3
   },
   "file_extension": ".py",
   "mimetype": "text/x-python",
   "name": "python",
   "nbconvert_exporter": "python",
   "pygments_lexer": "ipython3",
   "version": "3.9.12"
  }
 },
 "nbformat": 4,
 "nbformat_minor": 2
}
