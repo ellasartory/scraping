{
 "cells": [
  {
   "cell_type": "code",
   "execution_count": 1,
   "metadata": {},
   "outputs": [
    {
     "name": "stdout",
     "output_type": "stream",
     "text": [
      "Defaulting to user installation because normal site-packages is not writeable\n",
      "Collecting googletrans==4.0.0rc1\n",
      "  Downloading googletrans-4.0.0rc1.tar.gz (20 kB)\n",
      "  Preparing metadata (setup.py) ... \u001b[?25ldone\n",
      "\u001b[?25hCollecting httpx==0.13.3 (from googletrans==4.0.0rc1)\n",
      "  Downloading httpx-0.13.3-py3-none-any.whl (55 kB)\n",
      "\u001b[2K     \u001b[90m━━━━━━━━━━━━━━━━━━━━━━━━━━━━━━━━━━━━━━━━\u001b[0m \u001b[32m55.1/55.1 kB\u001b[0m \u001b[31m5.3 MB/s\u001b[0m eta \u001b[36m0:00:00\u001b[0m\n",
      "\u001b[?25hRequirement already satisfied: certifi in /Users/ellasartory/Library/Python/3.9/lib/python/site-packages (from httpx==0.13.3->googletrans==4.0.0rc1) (2023.7.22)\n",
      "Collecting hstspreload (from httpx==0.13.3->googletrans==4.0.0rc1)\n",
      "  Downloading hstspreload-2023.1.1-py3-none-any.whl (1.5 MB)\n",
      "\u001b[2K     \u001b[90m━━━━━━━━━━━━━━━━━━━━━━━━━━━━━━━━━━━━━━━━\u001b[0m \u001b[32m1.5/1.5 MB\u001b[0m \u001b[31m21.4 MB/s\u001b[0m eta \u001b[36m0:00:00\u001b[0ma \u001b[36m0:00:01\u001b[0m\n",
      "\u001b[?25hRequirement already satisfied: sniffio in /Users/ellasartory/Library/Python/3.9/lib/python/site-packages (from httpx==0.13.3->googletrans==4.0.0rc1) (1.3.0)\n",
      "Collecting chardet==3.* (from httpx==0.13.3->googletrans==4.0.0rc1)\n",
      "  Downloading chardet-3.0.4-py2.py3-none-any.whl (133 kB)\n",
      "\u001b[2K     \u001b[90m━━━━━━━━━━━━━━━━━━━━━━━━━━━━━━━━━━━━━━\u001b[0m \u001b[32m133.4/133.4 kB\u001b[0m \u001b[31m13.0 MB/s\u001b[0m eta \u001b[36m0:00:00\u001b[0m\n",
      "\u001b[?25hCollecting idna==2.* (from httpx==0.13.3->googletrans==4.0.0rc1)\n",
      "  Downloading idna-2.10-py2.py3-none-any.whl (58 kB)\n",
      "\u001b[2K     \u001b[90m━━━━━━━━━━━━━━━━━━━━━━━━━━━━━━━━━━━━━━━━\u001b[0m \u001b[32m58.8/58.8 kB\u001b[0m \u001b[31m7.0 MB/s\u001b[0m eta \u001b[36m0:00:00\u001b[0m\n",
      "\u001b[?25hCollecting rfc3986<2,>=1.3 (from httpx==0.13.3->googletrans==4.0.0rc1)\n",
      "  Downloading rfc3986-1.5.0-py2.py3-none-any.whl (31 kB)\n",
      "Collecting httpcore==0.9.* (from httpx==0.13.3->googletrans==4.0.0rc1)\n",
      "  Downloading httpcore-0.9.1-py3-none-any.whl (42 kB)\n",
      "\u001b[2K     \u001b[90m━━━━━━━━━━━━━━━━━━━━━━━━━━━━━━━━━━━━━━━━\u001b[0m \u001b[32m42.6/42.6 kB\u001b[0m \u001b[31m9.2 MB/s\u001b[0m eta \u001b[36m0:00:00\u001b[0m\n",
      "\u001b[?25hCollecting h11<0.10,>=0.8 (from httpcore==0.9.*->httpx==0.13.3->googletrans==4.0.0rc1)\n",
      "  Downloading h11-0.9.0-py2.py3-none-any.whl (53 kB)\n",
      "\u001b[2K     \u001b[90m━━━━━━━━━━━━━━━━━━━━━━━━━━━━━━━━━━━━━━━━\u001b[0m \u001b[32m53.6/53.6 kB\u001b[0m \u001b[31m6.1 MB/s\u001b[0m eta \u001b[36m0:00:00\u001b[0m\n",
      "\u001b[?25hCollecting h2==3.* (from httpcore==0.9.*->httpx==0.13.3->googletrans==4.0.0rc1)\n",
      "  Downloading h2-3.2.0-py2.py3-none-any.whl (65 kB)\n",
      "\u001b[2K     \u001b[90m━━━━━━━━━━━━━━━━━━━━━━━━━━━━━━━━━━━━━━━━\u001b[0m \u001b[32m65.0/65.0 kB\u001b[0m \u001b[31m9.7 MB/s\u001b[0m eta \u001b[36m0:00:00\u001b[0m\n",
      "\u001b[?25hCollecting hyperframe<6,>=5.2.0 (from h2==3.*->httpcore==0.9.*->httpx==0.13.3->googletrans==4.0.0rc1)\n",
      "  Downloading hyperframe-5.2.0-py2.py3-none-any.whl (12 kB)\n",
      "Collecting hpack<4,>=3.0 (from h2==3.*->httpcore==0.9.*->httpx==0.13.3->googletrans==4.0.0rc1)\n",
      "  Downloading hpack-3.0.0-py2.py3-none-any.whl (38 kB)\n",
      "Building wheels for collected packages: googletrans\n",
      "  Building wheel for googletrans (setup.py) ... \u001b[?25ldone\n",
      "\u001b[?25h  Created wheel for googletrans: filename=googletrans-4.0.0rc1-py3-none-any.whl size=17415 sha256=a23a33e89c134ca659fd8bfee355f68e4aa40aa7b3564e522e883880402df133\n",
      "  Stored in directory: /Users/ellasartory/Library/Caches/pip/wheels/60/b3/27/d8aff3e2d5c2d0d97a117cdf0d5f13cd121e2c2b5fb49b55a0\n",
      "Successfully built googletrans\n",
      "Installing collected packages: rfc3986, hyperframe, hpack, h11, chardet, idna, hstspreload, h2, httpcore, httpx, googletrans\n",
      "  Attempting uninstall: h11\n",
      "    Found existing installation: h11 0.14.0\n",
      "    Uninstalling h11-0.14.0:\n",
      "      Successfully uninstalled h11-0.14.0\n",
      "  Attempting uninstall: idna\n",
      "    Found existing installation: idna 3.4\n",
      "    Uninstalling idna-3.4:\n",
      "      Successfully uninstalled idna-3.4\n",
      "Successfully installed chardet-3.0.4 googletrans-4.0.0rc1 h11-0.9.0 h2-3.2.0 hpack-3.0.0 hstspreload-2023.1.1 httpcore-0.9.1 httpx-0.13.3 hyperframe-5.2.0 idna-2.10 rfc3986-1.5.0\n",
      "Note: you may need to restart the kernel to use updated packages.\n",
      "Defaulting to user installation because normal site-packages is not writeable\n",
      "Requirement already satisfied: googletrans==4.0.0-rc1 in /Users/ellasartory/Library/Python/3.9/lib/python/site-packages (4.0.0rc1)\n",
      "Requirement already satisfied: httpx==0.13.3 in /Users/ellasartory/Library/Python/3.9/lib/python/site-packages (from googletrans==4.0.0-rc1) (0.13.3)\n",
      "Requirement already satisfied: certifi in /Users/ellasartory/Library/Python/3.9/lib/python/site-packages (from httpx==0.13.3->googletrans==4.0.0-rc1) (2023.7.22)\n",
      "Requirement already satisfied: hstspreload in /Users/ellasartory/Library/Python/3.9/lib/python/site-packages (from httpx==0.13.3->googletrans==4.0.0-rc1) (2023.1.1)\n",
      "Requirement already satisfied: sniffio in /Users/ellasartory/Library/Python/3.9/lib/python/site-packages (from httpx==0.13.3->googletrans==4.0.0-rc1) (1.3.0)\n",
      "Requirement already satisfied: chardet==3.* in /Users/ellasartory/Library/Python/3.9/lib/python/site-packages (from httpx==0.13.3->googletrans==4.0.0-rc1) (3.0.4)\n",
      "Requirement already satisfied: idna==2.* in /Users/ellasartory/Library/Python/3.9/lib/python/site-packages (from httpx==0.13.3->googletrans==4.0.0-rc1) (2.10)\n",
      "Requirement already satisfied: rfc3986<2,>=1.3 in /Users/ellasartory/Library/Python/3.9/lib/python/site-packages (from httpx==0.13.3->googletrans==4.0.0-rc1) (1.5.0)\n",
      "Requirement already satisfied: httpcore==0.9.* in /Users/ellasartory/Library/Python/3.9/lib/python/site-packages (from httpx==0.13.3->googletrans==4.0.0-rc1) (0.9.1)\n",
      "Requirement already satisfied: h11<0.10,>=0.8 in /Users/ellasartory/Library/Python/3.9/lib/python/site-packages (from httpcore==0.9.*->httpx==0.13.3->googletrans==4.0.0-rc1) (0.9.0)\n",
      "Requirement already satisfied: h2==3.* in /Users/ellasartory/Library/Python/3.9/lib/python/site-packages (from httpcore==0.9.*->httpx==0.13.3->googletrans==4.0.0-rc1) (3.2.0)\n",
      "Requirement already satisfied: hyperframe<6,>=5.2.0 in /Users/ellasartory/Library/Python/3.9/lib/python/site-packages (from h2==3.*->httpcore==0.9.*->httpx==0.13.3->googletrans==4.0.0-rc1) (5.2.0)\n",
      "Requirement already satisfied: hpack<4,>=3.0 in /Users/ellasartory/Library/Python/3.9/lib/python/site-packages (from h2==3.*->httpcore==0.9.*->httpx==0.13.3->googletrans==4.0.0-rc1) (3.0.0)\n",
      "Note: you may need to restart the kernel to use updated packages.\n"
     ]
    },
    {
     "name": "stderr",
     "output_type": "stream",
     "text": [
      "/Users/ellasartory/Library/Python/3.9/lib/python/site-packages/urllib3/__init__.py:34: NotOpenSSLWarning: urllib3 v2.0 only supports OpenSSL 1.1.1+, currently the 'ssl' module is compiled with 'LibreSSL 2.8.3'. See: https://github.com/urllib3/urllib3/issues/3020\n",
      "  warnings.warn(\n"
     ]
    }
   ],
   "source": [
    "# Translate the Google Maps reviews with the Google API\n",
    "%pip install googletrans==4.0.0rc1\n",
    "%pip install --upgrade googletrans==4.0.0-rc1\n",
    "\n",
    "from googletrans import Translator\n",
    "import pandas as pd"
   ]
  },
  {
   "cell_type": "code",
   "execution_count": 12,
   "metadata": {},
   "outputs": [
    {
     "name": "stdout",
     "output_type": "stream",
     "text": [
      "Index(['query', 'name', 'google_id', 'place_id', 'location_link',\n",
      "       'reviews_link', 'reviews', 'rating', 'review_id',\n",
      "       'review_pagination_id', 'author_link', 'author_title', 'author_id',\n",
      "       'author_image', 'review_text', 'review_img_url', 'review_img_urls',\n",
      "       'review_questions', 'review_photo_ids', 'owner_answer',\n",
      "       'owner_answer_timestamp', 'owner_answer_timestamp_datetime_utc',\n",
      "       'review_link', 'review_rating', 'review_timestamp',\n",
      "       'review_datetime_utc', 'review_likes', 'reviews_id',\n",
      "       'reviews_per_score_1', 'reviews_per_score_2', 'reviews_per_score_3',\n",
      "       'reviews_per_score_4', 'reviews_per_score_5'],\n",
      "      dtype='object')\n"
     ]
    }
   ],
   "source": [
    "# load excel file as pandas dataframe\n",
    "reviews_df = pd.read_excel('3500_reviews_original.xlsx')\n",
    "print(reviews_df.columns)"
   ]
  },
  {
   "cell_type": "code",
   "execution_count": 13,
   "metadata": {},
   "outputs": [],
   "source": [
    "# Convert the 'review_text' column to string type\n",
    "reviews_df['review_text'] = reviews_df['review_text'].astype(str)\n",
    "\n",
    "# Function to translate text to English using Google Translate API\n",
    "def translate_to_english_with_googletrans(text):\n",
    "    \n",
    "        translator = Translator()\n",
    "        translation = translator.translate(text, dest='en')\n",
    "        translated_text = translation.text\n",
    "        return translated_text\n",
    "\n",
    "# Apply translation to non-English texts in the 'review_text' column\n",
    "reviews_df['review_text_english'] = reviews_df['review_text'].apply(translate_to_english_with_googletrans)\n",
    "\n",
    "# Create a new dataframe with the relevant columns\n",
    "en_reviews_df = reviews_df[['query', 'name', 'google_id', 'place_id', 'location_link',\n",
    "       'reviews_link', 'reviews', 'rating', 'review_id',\n",
    "       'review_pagination_id', 'author_id', 'review_text', 'review_text_english', 'review_img_url', 'review_img_urls',\n",
    "       'review_questions', 'review_photo_ids', 'owner_answer',\n",
    "       'owner_answer_timestamp', 'owner_answer_timestamp_datetime_utc',\n",
    "       'review_link', 'review_rating', 'review_timestamp',\n",
    "       'review_datetime_utc', 'review_likes', 'reviews_id',\n",
    "       'reviews_per_score_1', 'reviews_per_score_2', 'reviews_per_score_3',\n",
    "       'reviews_per_score_4', 'reviews_per_score_5']]\n",
    "\n",
    "# Save the new dataframe to a new Excel file\n",
    "en_reviews_df.to_excel('3500_reviews_english.xlsx', index=False) "
   ]
  },
  {
   "cell_type": "code",
   "execution_count": 22,
   "metadata": {},
   "outputs": [],
   "source": [
    "#merge the two files \n",
    "excel3500 = \"3500_reviews_english.xlsx\"\n",
    "# Read Excel file into DataFrame\n",
    "main = pd.read_excel(excel3500)\n",
    "main = main[:-204]\n",
    "\n",
    "# Read Excel file into DataFrame\n",
    "\n",
    "excel200 = \"204_reviews_english.xlsx\"\n",
    "\n",
    "# Read Excel file into DataFrame\n",
    "secondary = pd.read_excel(excel200)\n",
    "\n",
    "df_merged = pd.concat([main, secondary], ignore_index=True)\n",
    "\n",
    "df_merged.to_excel(\"3800_reviews_english.xlsx\", index=False)"
   ]
  },
  {
   "cell_type": "code",
   "execution_count": null,
   "metadata": {},
   "outputs": [],
   "source": []
  }
 ],
 "metadata": {
  "kernelspec": {
   "display_name": "base",
   "language": "python",
   "name": "python3"
  },
  "language_info": {
   "codemirror_mode": {
    "name": "ipython",
    "version": 3
   },
   "file_extension": ".py",
   "mimetype": "text/x-python",
   "name": "python",
   "nbconvert_exporter": "python",
   "pygments_lexer": "ipython3",
   "version": "3.9.6"
  }
 },
 "nbformat": 4,
 "nbformat_minor": 2
}
