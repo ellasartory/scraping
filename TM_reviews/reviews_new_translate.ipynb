{
 "cells": [
  {
   "cell_type": "code",
   "execution_count": null,
   "metadata": {},
   "outputs": [],
   "source": [
    "# Translate the Google Maps reviews with the Google API\n",
    "%pip install googletrans==4.0.0rc1\n",
    "%pip install --upgrade googletrans==4.0.0-rc1\n",
    "\n",
    "from googletrans import Translator\n",
    "import pandas as pd"
   ]
  },
  {
   "cell_type": "code",
   "execution_count": null,
   "metadata": {},
   "outputs": [],
   "source": [
    "# load excel file as pandas dataframe\n",
    "reviews_df = pd.read_excel('3500_reviews_original.xlsx')\n",
    "print(reviews_df.columns)"
   ]
  },
  {
   "cell_type": "code",
   "execution_count": null,
   "metadata": {},
   "outputs": [],
   "source": [
    "# Convert the 'review_text' column to string type\n",
    "reviews_df['review_text'] = reviews_df['review_text'].astype(str)\n",
    "\n",
    "# Function to translate text to English using Google Translate API\n",
    "def translate_to_english_with_googletrans(text):\n",
    "    \n",
    "        translator = Translator()\n",
    "        translation = translator.translate(text, dest='en')\n",
    "        translated_text = translation.text\n",
    "        return translated_text\n",
    "\n",
    "# Apply translation to non-English texts in the 'review_text' column\n",
    "reviews_df['review_text_english'] = reviews_df['review_text'].apply(translate_to_english_with_googletrans)\n",
    "\n",
    "# Create a new dataframe with the relevant columns\n",
    "en_reviews_df = reviews_df[['query', 'name', 'google_id', 'place_id', 'location_link',\n",
    "       'reviews_link', 'reviews', 'rating', 'review_id',\n",
    "       'review_pagination_id', 'author_id', 'review_text', 'review_text_english', 'review_img_url', 'review_img_urls',\n",
    "       'review_questions', 'review_photo_ids', 'owner_answer',\n",
    "       'owner_answer_timestamp', 'owner_answer_timestamp_datetime_utc',\n",
    "       'review_link', 'review_rating', 'review_timestamp',\n",
    "       'review_datetime_utc', 'review_likes', 'reviews_id',\n",
    "       'reviews_per_score_1', 'reviews_per_score_2', 'reviews_per_score_3',\n",
    "       'reviews_per_score_4', 'reviews_per_score_5']]\n",
    "\n",
    "# Save the new dataframe to a new Excel file\n",
    "en_reviews_df.to_excel('3500_reviews_english.xlsx', index=False) "
   ]
  },
  {
   "cell_type": "code",
   "execution_count": null,
   "metadata": {},
   "outputs": [],
   "source": []
  }
 ],
 "metadata": {
  "kernelspec": {
   "display_name": "base",
   "language": "python",
   "name": "python3"
  },
  "language_info": {
   "codemirror_mode": {
    "name": "ipython",
    "version": 3
   },
   "file_extension": ".py",
   "mimetype": "text/x-python",
   "name": "python",
   "nbconvert_exporter": "python",
   "pygments_lexer": "ipython3",
   "version": "3.9.12"
  }
 },
 "nbformat": 4,
 "nbformat_minor": 2
}
