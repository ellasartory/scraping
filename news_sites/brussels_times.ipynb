{
 "cells": [
  {
   "cell_type": "code",
   "execution_count": 1,
   "metadata": {},
   "outputs": [
    {
     "name": "stdout",
     "output_type": "stream",
     "text": [
      "Defaulting to user installation because normal site-packages is not writeable\n",
      "Requirement already satisfied: selenium in /Users/ellasartory/Library/Python/3.9/lib/python/site-packages (4.14.0)\n",
      "Requirement already satisfied: urllib3<3,>=1.26 in /Users/ellasartory/Library/Python/3.9/lib/python/site-packages (from urllib3[socks]<3,>=1.26->selenium) (2.0.6)\n",
      "Requirement already satisfied: trio~=0.17 in /Users/ellasartory/Library/Python/3.9/lib/python/site-packages (from selenium) (0.22.2)\n",
      "Requirement already satisfied: trio-websocket~=0.9 in /Users/ellasartory/Library/Python/3.9/lib/python/site-packages (from selenium) (0.11.1)\n",
      "Requirement already satisfied: certifi>=2021.10.8 in /Users/ellasartory/Library/Python/3.9/lib/python/site-packages (from selenium) (2023.7.22)\n",
      "Requirement already satisfied: attrs>=20.1.0 in /Users/ellasartory/Library/Python/3.9/lib/python/site-packages (from trio~=0.17->selenium) (22.1.0)\n",
      "Requirement already satisfied: sortedcontainers in /Users/ellasartory/Library/Python/3.9/lib/python/site-packages (from trio~=0.17->selenium) (2.4.0)\n",
      "Requirement already satisfied: idna in /Users/ellasartory/Library/Python/3.9/lib/python/site-packages (from trio~=0.17->selenium) (3.4)\n",
      "Requirement already satisfied: outcome in /Users/ellasartory/Library/Python/3.9/lib/python/site-packages (from trio~=0.17->selenium) (1.2.0)\n",
      "Requirement already satisfied: sniffio in /Users/ellasartory/Library/Python/3.9/lib/python/site-packages (from trio~=0.17->selenium) (1.3.0)\n",
      "Requirement already satisfied: exceptiongroup>=1.0.0rc9 in /Users/ellasartory/Library/Python/3.9/lib/python/site-packages (from trio~=0.17->selenium) (1.1.3)\n",
      "Requirement already satisfied: wsproto>=0.14 in /Users/ellasartory/Library/Python/3.9/lib/python/site-packages (from trio-websocket~=0.9->selenium) (1.2.0)\n",
      "Requirement already satisfied: pysocks!=1.5.7,<2.0,>=1.5.6 in /Users/ellasartory/Library/Python/3.9/lib/python/site-packages (from urllib3[socks]<3,>=1.26->selenium) (1.7.1)\n",
      "Requirement already satisfied: h11<1,>=0.9.0 in /Users/ellasartory/Library/Python/3.9/lib/python/site-packages (from wsproto>=0.14->trio-websocket~=0.9->selenium) (0.14.0)\n",
      "Note: you may need to restart the kernel to use updated packages.\n",
      "Defaulting to user installation because normal site-packages is not writeable\n",
      "Requirement already satisfied: webdriver-manager in /Users/ellasartory/Library/Python/3.9/lib/python/site-packages (4.0.1)\n",
      "Requirement already satisfied: requests in /Users/ellasartory/Library/Python/3.9/lib/python/site-packages (from webdriver-manager) (2.31.0)\n",
      "Requirement already satisfied: python-dotenv in /Users/ellasartory/Library/Python/3.9/lib/python/site-packages (from webdriver-manager) (1.0.0)\n",
      "Requirement already satisfied: packaging in /Users/ellasartory/Library/Python/3.9/lib/python/site-packages (from webdriver-manager) (22.0)\n",
      "Requirement already satisfied: charset-normalizer<4,>=2 in /Users/ellasartory/Library/Python/3.9/lib/python/site-packages (from requests->webdriver-manager) (3.3.0)\n",
      "Requirement already satisfied: idna<4,>=2.5 in /Users/ellasartory/Library/Python/3.9/lib/python/site-packages (from requests->webdriver-manager) (3.4)\n",
      "Requirement already satisfied: urllib3<3,>=1.21.1 in /Users/ellasartory/Library/Python/3.9/lib/python/site-packages (from requests->webdriver-manager) (2.0.6)\n",
      "Requirement already satisfied: certifi>=2017.4.17 in /Users/ellasartory/Library/Python/3.9/lib/python/site-packages (from requests->webdriver-manager) (2023.7.22)\n",
      "Note: you may need to restart the kernel to use updated packages.\n"
     ]
    },
    {
     "name": "stderr",
     "output_type": "stream",
     "text": [
      "/Users/ellasartory/Library/Python/3.9/lib/python/site-packages/urllib3/__init__.py:34: NotOpenSSLWarning: urllib3 v2.0 only supports OpenSSL 1.1.1+, currently the 'ssl' module is compiled with 'LibreSSL 2.8.3'. See: https://github.com/urllib3/urllib3/issues/3020\n",
      "  warnings.warn(\n"
     ]
    }
   ],
   "source": [
    "%pip install selenium\n",
    "%pip install webdriver-manager\n",
    "\n",
    "from selenium import webdriver\n",
    "from selenium.webdriver.chrome.service import Service\n",
    "from webdriver_manager.chrome import ChromeDriverManager\n",
    "import time\n",
    "from selenium.webdriver.common.by import By\n",
    "from selenium.webdriver.common.keys import Keys"
   ]
  },
  {
   "cell_type": "code",
   "execution_count": 2,
   "metadata": {},
   "outputs": [],
   "source": [
    "driver = webdriver.Chrome(service=Service(ChromeDriverManager().install()))\n",
    "driver.get(\"https://www.brusselstimes.com/\")"
   ]
  },
  {
   "cell_type": "code",
   "execution_count": 3,
   "metadata": {},
   "outputs": [
    {
     "ename": "NoSuchElementException",
     "evalue": "Message: no such element: Unable to locate element: {\"method\":\"css selector\",\"selector\":\"[name=\"q\"]\"}\n  (Session info: chrome=107.0.5304.87); For documentation on this error, please visit: https://www.selenium.dev/documentation/webdriver/troubleshooting/errors#no-such-element-exception\nStacktrace:\n0   chromedriver                        0x000000010331aa88 chromedriver + 4123272\n1   chromedriver                        0x00000001032a6778 chromedriver + 3647352\n2   chromedriver                        0x0000000102f68ac4 chromedriver + 248516\n3   chromedriver                        0x0000000102f9ef68 chromedriver + 470888\n4   chromedriver                        0x0000000102fd1020 chromedriver + 675872\n5   chromedriver                        0x0000000102f92b10 chromedriver + 420624\n6   chromedriver                        0x0000000102f93c30 chromedriver + 425008\n7   chromedriver                        0x00000001032ecae4 chromedriver + 3934948\n8   chromedriver                        0x00000001032eff24 chromedriver + 3948324\n9   chromedriver                        0x00000001032f0508 chromedriver + 3949832\n10  chromedriver                        0x00000001032f6b30 chromedriver + 3975984\n11  chromedriver                        0x00000001032f0b24 chromedriver + 3951396\n12  chromedriver                        0x00000001032cb71c chromedriver + 3798812\n13  chromedriver                        0x000000010330d2f0 chromedriver + 4068080\n14  chromedriver                        0x000000010330d444 chromedriver + 4068420\n15  chromedriver                        0x0000000103321450 chromedriver + 4150352\n16  libsystem_pthread.dylib             0x000000018739bfa8 _pthread_start + 148\n17  libsystem_pthread.dylib             0x0000000187396da0 thread_start + 8\n",
     "output_type": "error",
     "traceback": [
      "\u001b[0;31m---------------------------------------------------------------------------\u001b[0m",
      "\u001b[0;31mNoSuchElementException\u001b[0m                    Traceback (most recent call last)",
      "\u001b[1;32m/Users/ellasartory/Library/CloudStorage/OneDrive-UvA/scraping/news_sites/brussels_times.ipynb Cell 3\u001b[0m line \u001b[0;36m2\n\u001b[1;32m      <a href='vscode-notebook-cell:/Users/ellasartory/Library/CloudStorage/OneDrive-UvA/scraping/news_sites/brussels_times.ipynb#W2sZmlsZQ%3D%3D?line=0'>1</a>\u001b[0m \u001b[39m# Find the search bar using the name of the input field\u001b[39;00m\n\u001b[0;32m----> <a href='vscode-notebook-cell:/Users/ellasartory/Library/CloudStorage/OneDrive-UvA/scraping/news_sites/brussels_times.ipynb#W2sZmlsZQ%3D%3D?line=1'>2</a>\u001b[0m search_bar \u001b[39m=\u001b[39m driver\u001b[39m.\u001b[39;49mfind_element(\u001b[39m\"\u001b[39;49m\u001b[39mname\u001b[39;49m\u001b[39m\"\u001b[39;49m, \u001b[39m\"\u001b[39;49m\u001b[39mq\u001b[39;49m\u001b[39m\"\u001b[39;49m)\n\u001b[1;32m      <a href='vscode-notebook-cell:/Users/ellasartory/Library/CloudStorage/OneDrive-UvA/scraping/news_sites/brussels_times.ipynb#W2sZmlsZQ%3D%3D?line=3'>4</a>\u001b[0m \u001b[39m# Type the search term and hit ENTER\u001b[39;00m\n\u001b[1;32m      <a href='vscode-notebook-cell:/Users/ellasartory/Library/CloudStorage/OneDrive-UvA/scraping/news_sites/brussels_times.ipynb#W2sZmlsZQ%3D%3D?line=4'>5</a>\u001b[0m search_bar\u001b[39m.\u001b[39msend_keys(\u001b[39m\"\u001b[39m\u001b[39muniversity of amsterdam\u001b[39m\u001b[39m\"\u001b[39m)\n",
      "File \u001b[0;32m~/Library/Python/3.9/lib/python/site-packages/selenium/webdriver/remote/webdriver.py:738\u001b[0m, in \u001b[0;36mWebDriver.find_element\u001b[0;34m(self, by, value)\u001b[0m\n\u001b[1;32m    735\u001b[0m     by \u001b[39m=\u001b[39m By\u001b[39m.\u001b[39mCSS_SELECTOR\n\u001b[1;32m    736\u001b[0m     value \u001b[39m=\u001b[39m \u001b[39mf\u001b[39m\u001b[39m'\u001b[39m\u001b[39m[name=\u001b[39m\u001b[39m\"\u001b[39m\u001b[39m{\u001b[39;00mvalue\u001b[39m}\u001b[39;00m\u001b[39m\"\u001b[39m\u001b[39m]\u001b[39m\u001b[39m'\u001b[39m\n\u001b[0;32m--> 738\u001b[0m \u001b[39mreturn\u001b[39;00m \u001b[39mself\u001b[39;49m\u001b[39m.\u001b[39;49mexecute(Command\u001b[39m.\u001b[39;49mFIND_ELEMENT, {\u001b[39m\"\u001b[39;49m\u001b[39musing\u001b[39;49m\u001b[39m\"\u001b[39;49m: by, \u001b[39m\"\u001b[39;49m\u001b[39mvalue\u001b[39;49m\u001b[39m\"\u001b[39;49m: value})[\u001b[39m\"\u001b[39m\u001b[39mvalue\u001b[39m\u001b[39m\"\u001b[39m]\n",
      "File \u001b[0;32m~/Library/Python/3.9/lib/python/site-packages/selenium/webdriver/remote/webdriver.py:344\u001b[0m, in \u001b[0;36mWebDriver.execute\u001b[0;34m(self, driver_command, params)\u001b[0m\n\u001b[1;32m    342\u001b[0m response \u001b[39m=\u001b[39m \u001b[39mself\u001b[39m\u001b[39m.\u001b[39mcommand_executor\u001b[39m.\u001b[39mexecute(driver_command, params)\n\u001b[1;32m    343\u001b[0m \u001b[39mif\u001b[39;00m response:\n\u001b[0;32m--> 344\u001b[0m     \u001b[39mself\u001b[39;49m\u001b[39m.\u001b[39;49merror_handler\u001b[39m.\u001b[39;49mcheck_response(response)\n\u001b[1;32m    345\u001b[0m     response[\u001b[39m\"\u001b[39m\u001b[39mvalue\u001b[39m\u001b[39m\"\u001b[39m] \u001b[39m=\u001b[39m \u001b[39mself\u001b[39m\u001b[39m.\u001b[39m_unwrap_value(response\u001b[39m.\u001b[39mget(\u001b[39m\"\u001b[39m\u001b[39mvalue\u001b[39m\u001b[39m\"\u001b[39m, \u001b[39mNone\u001b[39;00m))\n\u001b[1;32m    346\u001b[0m     \u001b[39mreturn\u001b[39;00m response\n",
      "File \u001b[0;32m~/Library/Python/3.9/lib/python/site-packages/selenium/webdriver/remote/errorhandler.py:229\u001b[0m, in \u001b[0;36mErrorHandler.check_response\u001b[0;34m(self, response)\u001b[0m\n\u001b[1;32m    227\u001b[0m         alert_text \u001b[39m=\u001b[39m value[\u001b[39m\"\u001b[39m\u001b[39malert\u001b[39m\u001b[39m\"\u001b[39m]\u001b[39m.\u001b[39mget(\u001b[39m\"\u001b[39m\u001b[39mtext\u001b[39m\u001b[39m\"\u001b[39m)\n\u001b[1;32m    228\u001b[0m     \u001b[39mraise\u001b[39;00m exception_class(message, screen, stacktrace, alert_text)  \u001b[39m# type: ignore[call-arg]  # mypy is not smart enough here\u001b[39;00m\n\u001b[0;32m--> 229\u001b[0m \u001b[39mraise\u001b[39;00m exception_class(message, screen, stacktrace)\n",
      "\u001b[0;31mNoSuchElementException\u001b[0m: Message: no such element: Unable to locate element: {\"method\":\"css selector\",\"selector\":\"[name=\"q\"]\"}\n  (Session info: chrome=107.0.5304.87); For documentation on this error, please visit: https://www.selenium.dev/documentation/webdriver/troubleshooting/errors#no-such-element-exception\nStacktrace:\n0   chromedriver                        0x000000010331aa88 chromedriver + 4123272\n1   chromedriver                        0x00000001032a6778 chromedriver + 3647352\n2   chromedriver                        0x0000000102f68ac4 chromedriver + 248516\n3   chromedriver                        0x0000000102f9ef68 chromedriver + 470888\n4   chromedriver                        0x0000000102fd1020 chromedriver + 675872\n5   chromedriver                        0x0000000102f92b10 chromedriver + 420624\n6   chromedriver                        0x0000000102f93c30 chromedriver + 425008\n7   chromedriver                        0x00000001032ecae4 chromedriver + 3934948\n8   chromedriver                        0x00000001032eff24 chromedriver + 3948324\n9   chromedriver                        0x00000001032f0508 chromedriver + 3949832\n10  chromedriver                        0x00000001032f6b30 chromedriver + 3975984\n11  chromedriver                        0x00000001032f0b24 chromedriver + 3951396\n12  chromedriver                        0x00000001032cb71c chromedriver + 3798812\n13  chromedriver                        0x000000010330d2f0 chromedriver + 4068080\n14  chromedriver                        0x000000010330d444 chromedriver + 4068420\n15  chromedriver                        0x0000000103321450 chromedriver + 4150352\n16  libsystem_pthread.dylib             0x000000018739bfa8 _pthread_start + 148\n17  libsystem_pthread.dylib             0x0000000187396da0 thread_start + 8\n"
     ]
    }
   ],
   "source": [
    "# Find the search bar using the name of the input field\n",
    "search_bar = driver.find_element(\"name\", \"q\")\n",
    "\n",
    "# Type the search term and hit ENTER\n",
    "search_bar.send_keys(\"university of amsterdam\")"
   ]
  },
  {
   "cell_type": "code",
   "execution_count": null,
   "metadata": {},
   "outputs": [],
   "source": []
  }
 ],
 "metadata": {
  "kernelspec": {
   "display_name": "Python 3",
   "language": "python",
   "name": "python3"
  },
  "language_info": {
   "codemirror_mode": {
    "name": "ipython",
    "version": 3
   },
   "file_extension": ".py",
   "mimetype": "text/x-python",
   "name": "python",
   "nbconvert_exporter": "python",
   "pygments_lexer": "ipython3",
   "version": "3.9.6"
  }
 },
 "nbformat": 4,
 "nbformat_minor": 2
}
