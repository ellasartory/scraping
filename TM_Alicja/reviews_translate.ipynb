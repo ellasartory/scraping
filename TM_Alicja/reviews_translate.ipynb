{
 "cells": [
  {
   "cell_type": "code",
   "execution_count": null,
   "metadata": {},
   "outputs": [],
   "source": [
    "# Translate the Google Maps reviewa with the Google API\n",
    "%pip install googletrans==4.0.0rc1\n",
    "from googletrans import Translator\n",
    "import pandas as pd\n"
   ]
  },
  {
   "cell_type": "code",
   "execution_count": null,
   "metadata": {},
   "outputs": [],
   "source": [
    "\n",
    "# load excel file as pandas dataframe\n",
    "reviews_df = pd.read_excel('google_maps_reviews_correct.xlsx')\n",
    "\n",
    "\n",
    "# Convert the 'review_text' column to string type\n",
    "reviews_df['review_text'] = reviews_df['review_text'].astype(str)\n",
    "\n",
    "# Function to translate text to English using Google Translate API\n",
    "def translate_to_english_with_googletrans(text):\n",
    "    try:\n",
    "        translator = Translator()\n",
    "        translation = translator.translate(text, dest='en')\n",
    "        translated_text = translation.text\n",
    "        \n",
    "        return translated_text\n",
    "    except Exception as e:\n",
    "        print(f\"Error translating text: {e}\")\n",
    "        return text\n",
    "\n",
    "# Apply translation to non-English texts in the 'review_text' column\n",
    "reviews_df['review_text_english_googletrans'] = reviews_df['review_text'].apply(translate_to_english_with_googletrans)\n",
    "\n",
    "# Create a new dataframe with the relevant columns\n",
    "en_reviews_df_googletrans = reviews_df[['name', 'place_id', 'location_link', 'reviews_total', 'rating',\n",
    "                                       'review_text', 'review_rating', 'review_datetime_utc',\n",
    "                                       'reviews_per_score_1', 'reviews_per_score_2', 'reviews_per_score_3',\n",
    "                                       'reviews_per_score_4', 'reviews_per_score_5', 'review_text_english_googletrans']]\n",
    "\n",
    "# Save the new dataframe to a new Excel file\n",
    "en_reviews_df_googletrans.to_excel('google_maps_reviews_english_googletrans.xlsx', index=False)"
   ]
  }
 ],
 "metadata": {
  "kernelspec": {
   "display_name": "base",
   "language": "python",
   "name": "python3"
  },
  "language_info": {
   "codemirror_mode": {
    "name": "ipython",
    "version": 3
   },
   "file_extension": ".py",
   "mimetype": "text/x-python",
   "name": "python",
   "nbconvert_exporter": "python",
   "pygments_lexer": "ipython3",
   "version": "3.9.12"
  }
 },
 "nbformat": 4,
 "nbformat_minor": 2
}
