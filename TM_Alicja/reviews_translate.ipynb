{
 "cells": [
  {
   "cell_type": "code",
   "execution_count": 18,
   "metadata": {},
   "outputs": [
    {
     "name": "stderr",
     "output_type": "stream",
     "text": [
      "[nltk_data] Downloading package stopwords to\n",
      "[nltk_data]     C:\\Users\\hp\\AppData\\Roaming\\nltk_data...\n",
      "[nltk_data]   Package stopwords is already up-to-date!\n",
      "[nltk_data] Downloading package wordnet to\n",
      "[nltk_data]     C:\\Users\\hp\\AppData\\Roaming\\nltk_data...\n",
      "[nltk_data]   Package wordnet is already up-to-date!\n"
     ]
    },
    {
     "name": "stdout",
     "output_type": "stream",
     "text": [
      "Requirement already satisfied: openpyxl in c:\\users\\hp\\anaconda3\\lib\\site-packages (3.1.2)\n",
      "Requirement already satisfied: et-xmlfile in c:\\users\\hp\\anaconda3\\lib\\site-packages (from openpyxl) (1.1.0)\n",
      "Note: you may need to restart the kernel to use updated packages.\n",
      "Requirement already satisfied: googletrans==4.0.0rc1 in c:\\users\\hp\\anaconda3\\lib\\site-packages (4.0.0rc1)\n",
      "Requirement already satisfied: httpx==0.13.3 in c:\\users\\hp\\anaconda3\\lib\\site-packages (from googletrans==4.0.0rc1) (0.13.3)\n",
      "Requirement already satisfied: httpcore==0.9.* in c:\\users\\hp\\anaconda3\\lib\\site-packages (from httpx==0.13.3->googletrans==4.0.0rc1) (0.9.1)\n",
      "Requirement already satisfied: idna==2.* in c:\\users\\hp\\anaconda3\\lib\\site-packages (from httpx==0.13.3->googletrans==4.0.0rc1) (2.10)\n",
      "Requirement already satisfied: rfc3986<2,>=1.3 in c:\\users\\hp\\anaconda3\\lib\\site-packages (from httpx==0.13.3->googletrans==4.0.0rc1) (1.5.0)\n",
      "Requirement already satisfied: chardet==3.* in c:\\users\\hp\\anaconda3\\lib\\site-packages (from httpx==0.13.3->googletrans==4.0.0rc1) (3.0.4)\n",
      "Requirement already satisfied: certifi in c:\\users\\hp\\anaconda3\\lib\\site-packages (from httpx==0.13.3->googletrans==4.0.0rc1) (2021.10.8)\n",
      "Requirement already satisfied: hstspreload in c:\\users\\hp\\anaconda3\\lib\\site-packages (from httpx==0.13.3->googletrans==4.0.0rc1) (2023.1.1)\n",
      "Requirement already satisfied: sniffio in c:\\users\\hp\\anaconda3\\lib\\site-packages (from httpx==0.13.3->googletrans==4.0.0rc1) (1.2.0)\n",
      "Requirement already satisfied: h2==3.* in c:\\users\\hp\\anaconda3\\lib\\site-packages (from httpcore==0.9.*->httpx==0.13.3->googletrans==4.0.0rc1) (3.2.0)\n",
      "Requirement already satisfied: h11<0.10,>=0.8 in c:\\users\\hp\\anaconda3\\lib\\site-packages (from httpcore==0.9.*->httpx==0.13.3->googletrans==4.0.0rc1) (0.9.0)\n",
      "Requirement already satisfied: hyperframe<6,>=5.2.0 in c:\\users\\hp\\anaconda3\\lib\\site-packages (from h2==3.*->httpcore==0.9.*->httpx==0.13.3->googletrans==4.0.0rc1) (5.2.0)\n",
      "Requirement already satisfied: hpack<4,>=3.0 in c:\\users\\hp\\anaconda3\\lib\\site-packages (from h2==3.*->httpcore==0.9.*->httpx==0.13.3->googletrans==4.0.0rc1) (3.0.0)\n",
      "Note: you may need to restart the kernel to use updated packages.\n"
     ]
    }
   ],
   "source": [
    "# topic modelling for the Google MAps reviews (1215 reviews)\n",
    "\n",
    "import numpy as np\n",
    "import pandas as pd\n",
    "import matplotlib.pyplot as plt\n",
    "from sklearn.feature_extraction.text import CountVectorizer\n",
    "import gensim\n",
    "from gensim import corpora, models\n",
    "import nltk\n",
    "nltk.download('stopwords')\n",
    "nltk.download('wordnet')\n",
    "%pip install openpyxl --upgrade\n",
    "# import nltk\n",
    "from nltk.corpus import stopwords\n",
    "from nltk.tokenize import word_tokenize\n",
    "import string\n",
    "import re\n",
    "%pip install googletrans==4.0.0rc1\n",
    "from googletrans import Translator\n",
    " \n",
    "\n",
    "from nltk.stem import WordNetLemmatizer\n",
    "from gensim import corpora\n",
    "from gensim.models.ldamodel import LdaModel\n",
    "from gensim.models.coherencemodel import CoherenceModel"
   ]
  },
  {
   "cell_type": "code",
   "execution_count": 25,
   "metadata": {},
   "outputs": [
    {
     "name": "stderr",
     "output_type": "stream",
     "text": [
      "c:\\Users\\hp\\anaconda3\\lib\\site-packages\\textblob\\blob.py:563: DeprecationWarning: TextBlob.translate is deprecated and will be removed in a future release. Use the official Google Translate API instead.\n",
      "  warnings.warn(\n",
      "c:\\Users\\hp\\anaconda3\\lib\\site-packages\\textblob\\blob.py:563: DeprecationWarning: TextBlob.translate is deprecated and will be removed in a future release. Use the official Google Translate API instead.\n",
      "  warnings.warn(\n",
      "c:\\Users\\hp\\anaconda3\\lib\\site-packages\\textblob\\blob.py:563: DeprecationWarning: TextBlob.translate is deprecated and will be removed in a future release. Use the official Google Translate API instead.\n",
      "  warnings.warn(\n"
     ]
    },
    {
     "name": "stdout",
     "output_type": "stream",
     "text": [
      "Error translating text: 'list' object has no attribute 'strip'\n",
      "Error translating text: 'list' object has no attribute 'strip'\n",
      "Error translating text: 'list' object has no attribute 'strip'\n",
      "Error translating text: 'list' object has no attribute 'strip'\n",
      "Error translating text: 'list' object has no attribute 'strip'\n",
      "Error translating text: 'list' object has no attribute 'strip'\n"
     ]
    },
    {
     "name": "stderr",
     "output_type": "stream",
     "text": [
      "c:\\Users\\hp\\anaconda3\\lib\\site-packages\\textblob\\blob.py:563: DeprecationWarning: TextBlob.translate is deprecated and will be removed in a future release. Use the official Google Translate API instead.\n",
      "  warnings.warn(\n",
      "c:\\Users\\hp\\anaconda3\\lib\\site-packages\\textblob\\blob.py:563: DeprecationWarning: TextBlob.translate is deprecated and will be removed in a future release. Use the official Google Translate API instead.\n",
      "  warnings.warn(\n",
      "c:\\Users\\hp\\anaconda3\\lib\\site-packages\\textblob\\blob.py:563: DeprecationWarning: TextBlob.translate is deprecated and will be removed in a future release. Use the official Google Translate API instead.\n",
      "  warnings.warn(\n",
      "c:\\Users\\hp\\anaconda3\\lib\\site-packages\\textblob\\blob.py:563: DeprecationWarning: TextBlob.translate is deprecated and will be removed in a future release. Use the official Google Translate API instead.\n",
      "  warnings.warn(\n"
     ]
    },
    {
     "name": "stdout",
     "output_type": "stream",
     "text": [
      "Error translating text: 'list' object has no attribute 'strip'\n",
      "Error translating text: 'list' object has no attribute 'strip'\n",
      "Error translating text: 'list' object has no attribute 'strip'\n",
      "Error translating text: 'list' object has no attribute 'strip'\n",
      "Error translating text: 'list' object has no attribute 'strip'\n",
      "Error translating text: 'list' object has no attribute 'strip'\n"
     ]
    },
    {
     "name": "stderr",
     "output_type": "stream",
     "text": [
      "c:\\Users\\hp\\anaconda3\\lib\\site-packages\\textblob\\blob.py:563: DeprecationWarning: TextBlob.translate is deprecated and will be removed in a future release. Use the official Google Translate API instead.\n",
      "  warnings.warn(\n",
      "c:\\Users\\hp\\anaconda3\\lib\\site-packages\\textblob\\blob.py:563: DeprecationWarning: TextBlob.translate is deprecated and will be removed in a future release. Use the official Google Translate API instead.\n",
      "  warnings.warn(\n",
      "c:\\Users\\hp\\anaconda3\\lib\\site-packages\\textblob\\blob.py:563: DeprecationWarning: TextBlob.translate is deprecated and will be removed in a future release. Use the official Google Translate API instead.\n",
      "  warnings.warn(\n",
      "c:\\Users\\hp\\anaconda3\\lib\\site-packages\\textblob\\blob.py:563: DeprecationWarning: TextBlob.translate is deprecated and will be removed in a future release. Use the official Google Translate API instead.\n",
      "  warnings.warn(\n",
      "c:\\Users\\hp\\anaconda3\\lib\\site-packages\\textblob\\blob.py:563: DeprecationWarning: TextBlob.translate is deprecated and will be removed in a future release. Use the official Google Translate API instead.\n",
      "  warnings.warn(\n",
      "c:\\Users\\hp\\anaconda3\\lib\\site-packages\\textblob\\blob.py:563: DeprecationWarning: TextBlob.translate is deprecated and will be removed in a future release. Use the official Google Translate API instead.\n",
      "  warnings.warn(\n"
     ]
    },
    {
     "name": "stdout",
     "output_type": "stream",
     "text": [
      "Error translating text: 'list' object has no attribute 'strip'\n",
      "Error translating text: 'list' object has no attribute 'strip'\n",
      "Error translating text: 'list' object has no attribute 'strip'\n"
     ]
    },
    {
     "name": "stderr",
     "output_type": "stream",
     "text": [
      "c:\\Users\\hp\\anaconda3\\lib\\site-packages\\textblob\\blob.py:563: DeprecationWarning: TextBlob.translate is deprecated and will be removed in a future release. Use the official Google Translate API instead.\n",
      "  warnings.warn(\n",
      "c:\\Users\\hp\\anaconda3\\lib\\site-packages\\textblob\\blob.py:563: DeprecationWarning: TextBlob.translate is deprecated and will be removed in a future release. Use the official Google Translate API instead.\n",
      "  warnings.warn(\n",
      "c:\\Users\\hp\\anaconda3\\lib\\site-packages\\textblob\\blob.py:563: DeprecationWarning: TextBlob.translate is deprecated and will be removed in a future release. Use the official Google Translate API instead.\n",
      "  warnings.warn(\n"
     ]
    },
    {
     "name": "stdout",
     "output_type": "stream",
     "text": [
      "Error translating text: 'list' object has no attribute 'strip'\n",
      "Error translating text: 'list' object has no attribute 'strip'\n",
      "Error translating text: 'list' object has no attribute 'strip'\n"
     ]
    },
    {
     "name": "stderr",
     "output_type": "stream",
     "text": [
      "c:\\Users\\hp\\anaconda3\\lib\\site-packages\\textblob\\blob.py:563: DeprecationWarning: TextBlob.translate is deprecated and will be removed in a future release. Use the official Google Translate API instead.\n",
      "  warnings.warn(\n",
      "c:\\Users\\hp\\anaconda3\\lib\\site-packages\\textblob\\blob.py:563: DeprecationWarning: TextBlob.translate is deprecated and will be removed in a future release. Use the official Google Translate API instead.\n",
      "  warnings.warn(\n",
      "c:\\Users\\hp\\anaconda3\\lib\\site-packages\\textblob\\blob.py:563: DeprecationWarning: TextBlob.translate is deprecated and will be removed in a future release. Use the official Google Translate API instead.\n",
      "  warnings.warn(\n"
     ]
    },
    {
     "name": "stdout",
     "output_type": "stream",
     "text": [
      "Error translating text: 'list' object has no attribute 'strip'\n",
      "Error translating text: 'list' object has no attribute 'strip'\n",
      "Error translating text: 'list' object has no attribute 'strip'\n",
      "Error translating text: 'list' object has no attribute 'strip'\n",
      "Error translating text: 'list' object has no attribute 'strip'\n"
     ]
    },
    {
     "name": "stderr",
     "output_type": "stream",
     "text": [
      "c:\\Users\\hp\\anaconda3\\lib\\site-packages\\textblob\\blob.py:563: DeprecationWarning: TextBlob.translate is deprecated and will be removed in a future release. Use the official Google Translate API instead.\n",
      "  warnings.warn(\n",
      "c:\\Users\\hp\\anaconda3\\lib\\site-packages\\textblob\\blob.py:563: DeprecationWarning: TextBlob.translate is deprecated and will be removed in a future release. Use the official Google Translate API instead.\n",
      "  warnings.warn(\n",
      "c:\\Users\\hp\\anaconda3\\lib\\site-packages\\textblob\\blob.py:563: DeprecationWarning: TextBlob.translate is deprecated and will be removed in a future release. Use the official Google Translate API instead.\n",
      "  warnings.warn(\n",
      "c:\\Users\\hp\\anaconda3\\lib\\site-packages\\textblob\\blob.py:563: DeprecationWarning: TextBlob.translate is deprecated and will be removed in a future release. Use the official Google Translate API instead.\n",
      "  warnings.warn(\n",
      "c:\\Users\\hp\\anaconda3\\lib\\site-packages\\textblob\\blob.py:563: DeprecationWarning: TextBlob.translate is deprecated and will be removed in a future release. Use the official Google Translate API instead.\n",
      "  warnings.warn(\n"
     ]
    },
    {
     "name": "stdout",
     "output_type": "stream",
     "text": [
      "Error translating text: 'list' object has no attribute 'strip'\n",
      "Error translating text: 'list' object has no attribute 'strip'\n",
      "Error translating text: 'list' object has no attribute 'strip'\n"
     ]
    },
    {
     "name": "stderr",
     "output_type": "stream",
     "text": [
      "c:\\Users\\hp\\anaconda3\\lib\\site-packages\\textblob\\blob.py:563: DeprecationWarning: TextBlob.translate is deprecated and will be removed in a future release. Use the official Google Translate API instead.\n",
      "  warnings.warn(\n",
      "c:\\Users\\hp\\anaconda3\\lib\\site-packages\\textblob\\blob.py:563: DeprecationWarning: TextBlob.translate is deprecated and will be removed in a future release. Use the official Google Translate API instead.\n",
      "  warnings.warn(\n",
      "c:\\Users\\hp\\anaconda3\\lib\\site-packages\\textblob\\blob.py:563: DeprecationWarning: TextBlob.translate is deprecated and will be removed in a future release. Use the official Google Translate API instead.\n",
      "  warnings.warn(\n"
     ]
    },
    {
     "name": "stdout",
     "output_type": "stream",
     "text": [
      "Error translating text: 'list' object has no attribute 'strip'\n",
      "Error translating text: 'list' object has no attribute 'strip'\n",
      "Error translating text: 'list' object has no attribute 'strip'\n",
      "Error translating text: 'list' object has no attribute 'strip'\n",
      "Error translating text: 'list' object has no attribute 'strip'\n"
     ]
    },
    {
     "name": "stderr",
     "output_type": "stream",
     "text": [
      "c:\\Users\\hp\\anaconda3\\lib\\site-packages\\textblob\\blob.py:563: DeprecationWarning: TextBlob.translate is deprecated and will be removed in a future release. Use the official Google Translate API instead.\n",
      "  warnings.warn(\n",
      "c:\\Users\\hp\\anaconda3\\lib\\site-packages\\textblob\\blob.py:563: DeprecationWarning: TextBlob.translate is deprecated and will be removed in a future release. Use the official Google Translate API instead.\n",
      "  warnings.warn(\n",
      "c:\\Users\\hp\\anaconda3\\lib\\site-packages\\textblob\\blob.py:563: DeprecationWarning: TextBlob.translate is deprecated and will be removed in a future release. Use the official Google Translate API instead.\n",
      "  warnings.warn(\n",
      "c:\\Users\\hp\\anaconda3\\lib\\site-packages\\textblob\\blob.py:563: DeprecationWarning: TextBlob.translate is deprecated and will be removed in a future release. Use the official Google Translate API instead.\n",
      "  warnings.warn(\n",
      "c:\\Users\\hp\\anaconda3\\lib\\site-packages\\textblob\\blob.py:563: DeprecationWarning: TextBlob.translate is deprecated and will be removed in a future release. Use the official Google Translate API instead.\n",
      "  warnings.warn(\n"
     ]
    },
    {
     "name": "stdout",
     "output_type": "stream",
     "text": [
      "Error translating text: 'list' object has no attribute 'strip'\n",
      "Error translating text: 'list' object has no attribute 'strip'\n",
      "Error translating text: 'list' object has no attribute 'strip'\n",
      "Error translating text: 'list' object has no attribute 'strip'\n",
      "Error translating text: 'list' object has no attribute 'strip'\n",
      "Error translating text: 'list' object has no attribute 'strip'\n"
     ]
    },
    {
     "name": "stderr",
     "output_type": "stream",
     "text": [
      "c:\\Users\\hp\\anaconda3\\lib\\site-packages\\textblob\\blob.py:563: DeprecationWarning: TextBlob.translate is deprecated and will be removed in a future release. Use the official Google Translate API instead.\n",
      "  warnings.warn(\n",
      "c:\\Users\\hp\\anaconda3\\lib\\site-packages\\textblob\\blob.py:563: DeprecationWarning: TextBlob.translate is deprecated and will be removed in a future release. Use the official Google Translate API instead.\n",
      "  warnings.warn(\n",
      "c:\\Users\\hp\\anaconda3\\lib\\site-packages\\textblob\\blob.py:563: DeprecationWarning: TextBlob.translate is deprecated and will be removed in a future release. Use the official Google Translate API instead.\n",
      "  warnings.warn(\n",
      "c:\\Users\\hp\\anaconda3\\lib\\site-packages\\textblob\\blob.py:563: DeprecationWarning: TextBlob.translate is deprecated and will be removed in a future release. Use the official Google Translate API instead.\n",
      "  warnings.warn(\n",
      "c:\\Users\\hp\\anaconda3\\lib\\site-packages\\textblob\\blob.py:563: DeprecationWarning: TextBlob.translate is deprecated and will be removed in a future release. Use the official Google Translate API instead.\n",
      "  warnings.warn(\n",
      "c:\\Users\\hp\\anaconda3\\lib\\site-packages\\textblob\\blob.py:563: DeprecationWarning: TextBlob.translate is deprecated and will be removed in a future release. Use the official Google Translate API instead.\n",
      "  warnings.warn(\n"
     ]
    },
    {
     "name": "stdout",
     "output_type": "stream",
     "text": [
      "Error translating text: 'list' object has no attribute 'strip'\n",
      "Error translating text: 'list' object has no attribute 'strip'\n",
      "Error translating text: 'list' object has no attribute 'strip'\n",
      "Error translating text: 'list' object has no attribute 'strip'\n"
     ]
    },
    {
     "name": "stderr",
     "output_type": "stream",
     "text": [
      "c:\\Users\\hp\\anaconda3\\lib\\site-packages\\textblob\\blob.py:563: DeprecationWarning: TextBlob.translate is deprecated and will be removed in a future release. Use the official Google Translate API instead.\n",
      "  warnings.warn(\n",
      "c:\\Users\\hp\\anaconda3\\lib\\site-packages\\textblob\\blob.py:563: DeprecationWarning: TextBlob.translate is deprecated and will be removed in a future release. Use the official Google Translate API instead.\n",
      "  warnings.warn(\n",
      "c:\\Users\\hp\\anaconda3\\lib\\site-packages\\textblob\\blob.py:563: DeprecationWarning: TextBlob.translate is deprecated and will be removed in a future release. Use the official Google Translate API instead.\n",
      "  warnings.warn(\n",
      "c:\\Users\\hp\\anaconda3\\lib\\site-packages\\textblob\\blob.py:563: DeprecationWarning: TextBlob.translate is deprecated and will be removed in a future release. Use the official Google Translate API instead.\n",
      "  warnings.warn(\n"
     ]
    },
    {
     "name": "stdout",
     "output_type": "stream",
     "text": [
      "Error translating text: 'list' object has no attribute 'strip'\n",
      "Error translating text: 'list' object has no attribute 'strip'\n",
      "Error translating text: 'list' object has no attribute 'strip'\n",
      "Error translating text: 'list' object has no attribute 'strip'\n",
      "Error translating text: 'list' object has no attribute 'strip'\n",
      "Error translating text: 'list' object has no attribute 'strip'\n"
     ]
    },
    {
     "name": "stderr",
     "output_type": "stream",
     "text": [
      "c:\\Users\\hp\\anaconda3\\lib\\site-packages\\textblob\\blob.py:563: DeprecationWarning: TextBlob.translate is deprecated and will be removed in a future release. Use the official Google Translate API instead.\n",
      "  warnings.warn(\n",
      "c:\\Users\\hp\\anaconda3\\lib\\site-packages\\textblob\\blob.py:563: DeprecationWarning: TextBlob.translate is deprecated and will be removed in a future release. Use the official Google Translate API instead.\n",
      "  warnings.warn(\n",
      "c:\\Users\\hp\\anaconda3\\lib\\site-packages\\textblob\\blob.py:563: DeprecationWarning: TextBlob.translate is deprecated and will be removed in a future release. Use the official Google Translate API instead.\n",
      "  warnings.warn(\n",
      "c:\\Users\\hp\\anaconda3\\lib\\site-packages\\textblob\\blob.py:563: DeprecationWarning: TextBlob.translate is deprecated and will be removed in a future release. Use the official Google Translate API instead.\n",
      "  warnings.warn(\n",
      "c:\\Users\\hp\\anaconda3\\lib\\site-packages\\textblob\\blob.py:563: DeprecationWarning: TextBlob.translate is deprecated and will be removed in a future release. Use the official Google Translate API instead.\n",
      "  warnings.warn(\n",
      "c:\\Users\\hp\\anaconda3\\lib\\site-packages\\textblob\\blob.py:563: DeprecationWarning: TextBlob.translate is deprecated and will be removed in a future release. Use the official Google Translate API instead.\n",
      "  warnings.warn(\n"
     ]
    },
    {
     "name": "stdout",
     "output_type": "stream",
     "text": [
      "Error translating text: 'list' object has no attribute 'strip'\n",
      "Error translating text: 'list' object has no attribute 'strip'\n",
      "Error translating text: 'list' object has no attribute 'strip'\n",
      "Error translating text: 'list' object has no attribute 'strip'\n"
     ]
    },
    {
     "name": "stderr",
     "output_type": "stream",
     "text": [
      "c:\\Users\\hp\\anaconda3\\lib\\site-packages\\textblob\\blob.py:563: DeprecationWarning: TextBlob.translate is deprecated and will be removed in a future release. Use the official Google Translate API instead.\n",
      "  warnings.warn(\n",
      "c:\\Users\\hp\\anaconda3\\lib\\site-packages\\textblob\\blob.py:563: DeprecationWarning: TextBlob.translate is deprecated and will be removed in a future release. Use the official Google Translate API instead.\n",
      "  warnings.warn(\n",
      "c:\\Users\\hp\\anaconda3\\lib\\site-packages\\textblob\\blob.py:563: DeprecationWarning: TextBlob.translate is deprecated and will be removed in a future release. Use the official Google Translate API instead.\n",
      "  warnings.warn(\n",
      "c:\\Users\\hp\\anaconda3\\lib\\site-packages\\textblob\\blob.py:563: DeprecationWarning: TextBlob.translate is deprecated and will be removed in a future release. Use the official Google Translate API instead.\n",
      "  warnings.warn(\n"
     ]
    },
    {
     "name": "stdout",
     "output_type": "stream",
     "text": [
      "Error translating text: 'list' object has no attribute 'strip'\n",
      "Error translating text: 'list' object has no attribute 'strip'\n",
      "Error translating text: 'list' object has no attribute 'strip'\n",
      "Error translating text: 'list' object has no attribute 'strip'\n",
      "Error translating text: 'list' object has no attribute 'strip'\n",
      "Error translating text: 'list' object has no attribute 'strip'\n"
     ]
    },
    {
     "name": "stderr",
     "output_type": "stream",
     "text": [
      "c:\\Users\\hp\\anaconda3\\lib\\site-packages\\textblob\\blob.py:563: DeprecationWarning: TextBlob.translate is deprecated and will be removed in a future release. Use the official Google Translate API instead.\n",
      "  warnings.warn(\n",
      "c:\\Users\\hp\\anaconda3\\lib\\site-packages\\textblob\\blob.py:563: DeprecationWarning: TextBlob.translate is deprecated and will be removed in a future release. Use the official Google Translate API instead.\n",
      "  warnings.warn(\n",
      "c:\\Users\\hp\\anaconda3\\lib\\site-packages\\textblob\\blob.py:563: DeprecationWarning: TextBlob.translate is deprecated and will be removed in a future release. Use the official Google Translate API instead.\n",
      "  warnings.warn(\n",
      "c:\\Users\\hp\\anaconda3\\lib\\site-packages\\textblob\\blob.py:563: DeprecationWarning: TextBlob.translate is deprecated and will be removed in a future release. Use the official Google Translate API instead.\n",
      "  warnings.warn(\n",
      "c:\\Users\\hp\\anaconda3\\lib\\site-packages\\textblob\\blob.py:563: DeprecationWarning: TextBlob.translate is deprecated and will be removed in a future release. Use the official Google Translate API instead.\n",
      "  warnings.warn(\n",
      "c:\\Users\\hp\\anaconda3\\lib\\site-packages\\textblob\\blob.py:563: DeprecationWarning: TextBlob.translate is deprecated and will be removed in a future release. Use the official Google Translate API instead.\n",
      "  warnings.warn(\n"
     ]
    },
    {
     "name": "stdout",
     "output_type": "stream",
     "text": [
      "Error translating text: 'list' object has no attribute 'strip'\n",
      "Error translating text: 'list' object has no attribute 'strip'\n",
      "Error translating text: 'list' object has no attribute 'strip'\n",
      "Error translating text: 'list' object has no attribute 'strip'\n",
      "Error translating text: 'list' object has no attribute 'strip'\n"
     ]
    },
    {
     "name": "stderr",
     "output_type": "stream",
     "text": [
      "c:\\Users\\hp\\anaconda3\\lib\\site-packages\\textblob\\blob.py:563: DeprecationWarning: TextBlob.translate is deprecated and will be removed in a future release. Use the official Google Translate API instead.\n",
      "  warnings.warn(\n",
      "c:\\Users\\hp\\anaconda3\\lib\\site-packages\\textblob\\blob.py:563: DeprecationWarning: TextBlob.translate is deprecated and will be removed in a future release. Use the official Google Translate API instead.\n",
      "  warnings.warn(\n",
      "c:\\Users\\hp\\anaconda3\\lib\\site-packages\\textblob\\blob.py:563: DeprecationWarning: TextBlob.translate is deprecated and will be removed in a future release. Use the official Google Translate API instead.\n",
      "  warnings.warn(\n",
      "c:\\Users\\hp\\anaconda3\\lib\\site-packages\\textblob\\blob.py:563: DeprecationWarning: TextBlob.translate is deprecated and will be removed in a future release. Use the official Google Translate API instead.\n",
      "  warnings.warn(\n",
      "c:\\Users\\hp\\anaconda3\\lib\\site-packages\\textblob\\blob.py:563: DeprecationWarning: TextBlob.translate is deprecated and will be removed in a future release. Use the official Google Translate API instead.\n",
      "  warnings.warn(\n"
     ]
    },
    {
     "name": "stdout",
     "output_type": "stream",
     "text": [
      "Error translating text: 'list' object has no attribute 'strip'\n",
      "Error translating text: 'list' object has no attribute 'strip'\n",
      "Error translating text: 'list' object has no attribute 'strip'\n",
      "Error translating text: 'list' object has no attribute 'strip'\n",
      "Error translating text: 'list' object has no attribute 'strip'\n",
      "Error translating text: 'list' object has no attribute 'strip'\n"
     ]
    },
    {
     "name": "stderr",
     "output_type": "stream",
     "text": [
      "c:\\Users\\hp\\anaconda3\\lib\\site-packages\\textblob\\blob.py:563: DeprecationWarning: TextBlob.translate is deprecated and will be removed in a future release. Use the official Google Translate API instead.\n",
      "  warnings.warn(\n",
      "c:\\Users\\hp\\anaconda3\\lib\\site-packages\\textblob\\blob.py:563: DeprecationWarning: TextBlob.translate is deprecated and will be removed in a future release. Use the official Google Translate API instead.\n",
      "  warnings.warn(\n",
      "c:\\Users\\hp\\anaconda3\\lib\\site-packages\\textblob\\blob.py:563: DeprecationWarning: TextBlob.translate is deprecated and will be removed in a future release. Use the official Google Translate API instead.\n",
      "  warnings.warn(\n",
      "c:\\Users\\hp\\anaconda3\\lib\\site-packages\\textblob\\blob.py:563: DeprecationWarning: TextBlob.translate is deprecated and will be removed in a future release. Use the official Google Translate API instead.\n",
      "  warnings.warn(\n",
      "c:\\Users\\hp\\anaconda3\\lib\\site-packages\\textblob\\blob.py:563: DeprecationWarning: TextBlob.translate is deprecated and will be removed in a future release. Use the official Google Translate API instead.\n",
      "  warnings.warn(\n",
      "c:\\Users\\hp\\anaconda3\\lib\\site-packages\\textblob\\blob.py:563: DeprecationWarning: TextBlob.translate is deprecated and will be removed in a future release. Use the official Google Translate API instead.\n",
      "  warnings.warn(\n"
     ]
    },
    {
     "name": "stdout",
     "output_type": "stream",
     "text": [
      "Error translating text: 'list' object has no attribute 'strip'\n",
      "Error translating text: 'list' object has no attribute 'strip'\n",
      "Error translating text: 'list' object has no attribute 'strip'\n",
      "Error translating text: 'list' object has no attribute 'strip'\n"
     ]
    },
    {
     "name": "stderr",
     "output_type": "stream",
     "text": [
      "c:\\Users\\hp\\anaconda3\\lib\\site-packages\\textblob\\blob.py:563: DeprecationWarning: TextBlob.translate is deprecated and will be removed in a future release. Use the official Google Translate API instead.\n",
      "  warnings.warn(\n",
      "c:\\Users\\hp\\anaconda3\\lib\\site-packages\\textblob\\blob.py:563: DeprecationWarning: TextBlob.translate is deprecated and will be removed in a future release. Use the official Google Translate API instead.\n",
      "  warnings.warn(\n",
      "c:\\Users\\hp\\anaconda3\\lib\\site-packages\\textblob\\blob.py:563: DeprecationWarning: TextBlob.translate is deprecated and will be removed in a future release. Use the official Google Translate API instead.\n",
      "  warnings.warn(\n",
      "c:\\Users\\hp\\anaconda3\\lib\\site-packages\\textblob\\blob.py:563: DeprecationWarning: TextBlob.translate is deprecated and will be removed in a future release. Use the official Google Translate API instead.\n",
      "  warnings.warn(\n"
     ]
    },
    {
     "name": "stdout",
     "output_type": "stream",
     "text": [
      "Error translating text: 'list' object has no attribute 'strip'\n",
      "Error translating text: 'list' object has no attribute 'strip'\n",
      "Error translating text: 'list' object has no attribute 'strip'\n",
      "Error translating text: 'list' object has no attribute 'strip'\n",
      "Error translating text: 'list' object has no attribute 'strip'\n",
      "Error translating text: 'list' object has no attribute 'strip'\n"
     ]
    },
    {
     "name": "stderr",
     "output_type": "stream",
     "text": [
      "c:\\Users\\hp\\anaconda3\\lib\\site-packages\\textblob\\blob.py:563: DeprecationWarning: TextBlob.translate is deprecated and will be removed in a future release. Use the official Google Translate API instead.\n",
      "  warnings.warn(\n",
      "c:\\Users\\hp\\anaconda3\\lib\\site-packages\\textblob\\blob.py:563: DeprecationWarning: TextBlob.translate is deprecated and will be removed in a future release. Use the official Google Translate API instead.\n",
      "  warnings.warn(\n",
      "c:\\Users\\hp\\anaconda3\\lib\\site-packages\\textblob\\blob.py:563: DeprecationWarning: TextBlob.translate is deprecated and will be removed in a future release. Use the official Google Translate API instead.\n",
      "  warnings.warn(\n",
      "c:\\Users\\hp\\anaconda3\\lib\\site-packages\\textblob\\blob.py:563: DeprecationWarning: TextBlob.translate is deprecated and will be removed in a future release. Use the official Google Translate API instead.\n",
      "  warnings.warn(\n",
      "c:\\Users\\hp\\anaconda3\\lib\\site-packages\\textblob\\blob.py:563: DeprecationWarning: TextBlob.translate is deprecated and will be removed in a future release. Use the official Google Translate API instead.\n",
      "  warnings.warn(\n",
      "c:\\Users\\hp\\anaconda3\\lib\\site-packages\\textblob\\blob.py:563: DeprecationWarning: TextBlob.translate is deprecated and will be removed in a future release. Use the official Google Translate API instead.\n",
      "  warnings.warn(\n"
     ]
    },
    {
     "name": "stdout",
     "output_type": "stream",
     "text": [
      "Error translating text: 'list' object has no attribute 'strip'\n",
      "Error translating text: 'list' object has no attribute 'strip'\n",
      "Error translating text: 'list' object has no attribute 'strip'\n",
      "Error translating text: 'list' object has no attribute 'strip'\n",
      "Error translating text: 'list' object has no attribute 'strip'\n"
     ]
    },
    {
     "name": "stderr",
     "output_type": "stream",
     "text": [
      "c:\\Users\\hp\\anaconda3\\lib\\site-packages\\textblob\\blob.py:563: DeprecationWarning: TextBlob.translate is deprecated and will be removed in a future release. Use the official Google Translate API instead.\n",
      "  warnings.warn(\n",
      "c:\\Users\\hp\\anaconda3\\lib\\site-packages\\textblob\\blob.py:563: DeprecationWarning: TextBlob.translate is deprecated and will be removed in a future release. Use the official Google Translate API instead.\n",
      "  warnings.warn(\n",
      "c:\\Users\\hp\\anaconda3\\lib\\site-packages\\textblob\\blob.py:563: DeprecationWarning: TextBlob.translate is deprecated and will be removed in a future release. Use the official Google Translate API instead.\n",
      "  warnings.warn(\n",
      "c:\\Users\\hp\\anaconda3\\lib\\site-packages\\textblob\\blob.py:563: DeprecationWarning: TextBlob.translate is deprecated and will be removed in a future release. Use the official Google Translate API instead.\n",
      "  warnings.warn(\n",
      "c:\\Users\\hp\\anaconda3\\lib\\site-packages\\textblob\\blob.py:563: DeprecationWarning: TextBlob.translate is deprecated and will be removed in a future release. Use the official Google Translate API instead.\n",
      "  warnings.warn(\n"
     ]
    },
    {
     "name": "stdout",
     "output_type": "stream",
     "text": [
      "Error translating text: 'list' object has no attribute 'strip'\n",
      "Error translating text: 'list' object has no attribute 'strip'\n",
      "Error translating text: 'list' object has no attribute 'strip'\n",
      "Error translating text: 'list' object has no attribute 'strip'\n",
      "Error translating text: 'list' object has no attribute 'strip'\n"
     ]
    },
    {
     "name": "stderr",
     "output_type": "stream",
     "text": [
      "c:\\Users\\hp\\anaconda3\\lib\\site-packages\\textblob\\blob.py:563: DeprecationWarning: TextBlob.translate is deprecated and will be removed in a future release. Use the official Google Translate API instead.\n",
      "  warnings.warn(\n",
      "c:\\Users\\hp\\anaconda3\\lib\\site-packages\\textblob\\blob.py:563: DeprecationWarning: TextBlob.translate is deprecated and will be removed in a future release. Use the official Google Translate API instead.\n",
      "  warnings.warn(\n",
      "c:\\Users\\hp\\anaconda3\\lib\\site-packages\\textblob\\blob.py:563: DeprecationWarning: TextBlob.translate is deprecated and will be removed in a future release. Use the official Google Translate API instead.\n",
      "  warnings.warn(\n",
      "c:\\Users\\hp\\anaconda3\\lib\\site-packages\\textblob\\blob.py:563: DeprecationWarning: TextBlob.translate is deprecated and will be removed in a future release. Use the official Google Translate API instead.\n",
      "  warnings.warn(\n",
      "c:\\Users\\hp\\anaconda3\\lib\\site-packages\\textblob\\blob.py:563: DeprecationWarning: TextBlob.translate is deprecated and will be removed in a future release. Use the official Google Translate API instead.\n",
      "  warnings.warn(\n"
     ]
    },
    {
     "name": "stdout",
     "output_type": "stream",
     "text": [
      "Error translating text: 'list' object has no attribute 'strip'\n",
      "Error translating text: 'list' object has no attribute 'strip'\n",
      "Error translating text: 'list' object has no attribute 'strip'\n",
      "Error translating text: 'list' object has no attribute 'strip'\n",
      "Error translating text: 'list' object has no attribute 'strip'\n",
      "Error translating text: 'list' object has no attribute 'strip'\n",
      "Error translating text: 'list' object has no attribute 'strip'\n"
     ]
    },
    {
     "name": "stderr",
     "output_type": "stream",
     "text": [
      "c:\\Users\\hp\\anaconda3\\lib\\site-packages\\textblob\\blob.py:563: DeprecationWarning: TextBlob.translate is deprecated and will be removed in a future release. Use the official Google Translate API instead.\n",
      "  warnings.warn(\n",
      "c:\\Users\\hp\\anaconda3\\lib\\site-packages\\textblob\\blob.py:563: DeprecationWarning: TextBlob.translate is deprecated and will be removed in a future release. Use the official Google Translate API instead.\n",
      "  warnings.warn(\n",
      "c:\\Users\\hp\\anaconda3\\lib\\site-packages\\textblob\\blob.py:563: DeprecationWarning: TextBlob.translate is deprecated and will be removed in a future release. Use the official Google Translate API instead.\n",
      "  warnings.warn(\n",
      "c:\\Users\\hp\\anaconda3\\lib\\site-packages\\textblob\\blob.py:563: DeprecationWarning: TextBlob.translate is deprecated and will be removed in a future release. Use the official Google Translate API instead.\n",
      "  warnings.warn(\n",
      "c:\\Users\\hp\\anaconda3\\lib\\site-packages\\textblob\\blob.py:563: DeprecationWarning: TextBlob.translate is deprecated and will be removed in a future release. Use the official Google Translate API instead.\n",
      "  warnings.warn(\n",
      "c:\\Users\\hp\\anaconda3\\lib\\site-packages\\textblob\\blob.py:563: DeprecationWarning: TextBlob.translate is deprecated and will be removed in a future release. Use the official Google Translate API instead.\n",
      "  warnings.warn(\n",
      "c:\\Users\\hp\\anaconda3\\lib\\site-packages\\textblob\\blob.py:563: DeprecationWarning: TextBlob.translate is deprecated and will be removed in a future release. Use the official Google Translate API instead.\n",
      "  warnings.warn(\n"
     ]
    },
    {
     "name": "stdout",
     "output_type": "stream",
     "text": [
      "Error translating text: 'list' object has no attribute 'strip'\n",
      "Error translating text: 'list' object has no attribute 'strip'\n",
      "Error translating text: 'list' object has no attribute 'strip'\n",
      "Error translating text: 'list' object has no attribute 'strip'\n",
      "Error translating text: 'list' object has no attribute 'strip'\n",
      "Error translating text: 'list' object has no attribute 'strip'\n"
     ]
    },
    {
     "name": "stderr",
     "output_type": "stream",
     "text": [
      "c:\\Users\\hp\\anaconda3\\lib\\site-packages\\textblob\\blob.py:563: DeprecationWarning: TextBlob.translate is deprecated and will be removed in a future release. Use the official Google Translate API instead.\n",
      "  warnings.warn(\n",
      "c:\\Users\\hp\\anaconda3\\lib\\site-packages\\textblob\\blob.py:563: DeprecationWarning: TextBlob.translate is deprecated and will be removed in a future release. Use the official Google Translate API instead.\n",
      "  warnings.warn(\n",
      "c:\\Users\\hp\\anaconda3\\lib\\site-packages\\textblob\\blob.py:563: DeprecationWarning: TextBlob.translate is deprecated and will be removed in a future release. Use the official Google Translate API instead.\n",
      "  warnings.warn(\n",
      "c:\\Users\\hp\\anaconda3\\lib\\site-packages\\textblob\\blob.py:563: DeprecationWarning: TextBlob.translate is deprecated and will be removed in a future release. Use the official Google Translate API instead.\n",
      "  warnings.warn(\n",
      "c:\\Users\\hp\\anaconda3\\lib\\site-packages\\textblob\\blob.py:563: DeprecationWarning: TextBlob.translate is deprecated and will be removed in a future release. Use the official Google Translate API instead.\n",
      "  warnings.warn(\n",
      "c:\\Users\\hp\\anaconda3\\lib\\site-packages\\textblob\\blob.py:563: DeprecationWarning: TextBlob.translate is deprecated and will be removed in a future release. Use the official Google Translate API instead.\n",
      "  warnings.warn(\n"
     ]
    },
    {
     "name": "stdout",
     "output_type": "stream",
     "text": [
      "Error translating text: 'list' object has no attribute 'strip'\n",
      "Error translating text: 'list' object has no attribute 'strip'\n",
      "Error translating text: 'list' object has no attribute 'strip'\n",
      "Error translating text: 'list' object has no attribute 'strip'\n",
      "Error translating text: 'list' object has no attribute 'strip'\n"
     ]
    },
    {
     "name": "stderr",
     "output_type": "stream",
     "text": [
      "c:\\Users\\hp\\anaconda3\\lib\\site-packages\\textblob\\blob.py:563: DeprecationWarning: TextBlob.translate is deprecated and will be removed in a future release. Use the official Google Translate API instead.\n",
      "  warnings.warn(\n",
      "c:\\Users\\hp\\anaconda3\\lib\\site-packages\\textblob\\blob.py:563: DeprecationWarning: TextBlob.translate is deprecated and will be removed in a future release. Use the official Google Translate API instead.\n",
      "  warnings.warn(\n",
      "c:\\Users\\hp\\anaconda3\\lib\\site-packages\\textblob\\blob.py:563: DeprecationWarning: TextBlob.translate is deprecated and will be removed in a future release. Use the official Google Translate API instead.\n",
      "  warnings.warn(\n",
      "c:\\Users\\hp\\anaconda3\\lib\\site-packages\\textblob\\blob.py:563: DeprecationWarning: TextBlob.translate is deprecated and will be removed in a future release. Use the official Google Translate API instead.\n",
      "  warnings.warn(\n",
      "c:\\Users\\hp\\anaconda3\\lib\\site-packages\\textblob\\blob.py:563: DeprecationWarning: TextBlob.translate is deprecated and will be removed in a future release. Use the official Google Translate API instead.\n",
      "  warnings.warn(\n"
     ]
    },
    {
     "name": "stdout",
     "output_type": "stream",
     "text": [
      "Error translating text: 'list' object has no attribute 'strip'\n"
     ]
    },
    {
     "name": "stderr",
     "output_type": "stream",
     "text": [
      "c:\\Users\\hp\\anaconda3\\lib\\site-packages\\textblob\\blob.py:563: DeprecationWarning: TextBlob.translate is deprecated and will be removed in a future release. Use the official Google Translate API instead.\n",
      "  warnings.warn(\n"
     ]
    },
    {
     "name": "stdout",
     "output_type": "stream",
     "text": [
      "Error translating text: 'list' object has no attribute 'strip'\n",
      "Error translating text: 'list' object has no attribute 'strip'\n",
      "Error translating text: 'list' object has no attribute 'strip'\n",
      "Error translating text: 'list' object has no attribute 'strip'\n",
      "Error translating text: 'list' object has no attribute 'strip'\n"
     ]
    },
    {
     "name": "stderr",
     "output_type": "stream",
     "text": [
      "c:\\Users\\hp\\anaconda3\\lib\\site-packages\\textblob\\blob.py:563: DeprecationWarning: TextBlob.translate is deprecated and will be removed in a future release. Use the official Google Translate API instead.\n",
      "  warnings.warn(\n",
      "c:\\Users\\hp\\anaconda3\\lib\\site-packages\\textblob\\blob.py:563: DeprecationWarning: TextBlob.translate is deprecated and will be removed in a future release. Use the official Google Translate API instead.\n",
      "  warnings.warn(\n",
      "c:\\Users\\hp\\anaconda3\\lib\\site-packages\\textblob\\blob.py:563: DeprecationWarning: TextBlob.translate is deprecated and will be removed in a future release. Use the official Google Translate API instead.\n",
      "  warnings.warn(\n",
      "c:\\Users\\hp\\anaconda3\\lib\\site-packages\\textblob\\blob.py:563: DeprecationWarning: TextBlob.translate is deprecated and will be removed in a future release. Use the official Google Translate API instead.\n",
      "  warnings.warn(\n",
      "c:\\Users\\hp\\anaconda3\\lib\\site-packages\\textblob\\blob.py:563: DeprecationWarning: TextBlob.translate is deprecated and will be removed in a future release. Use the official Google Translate API instead.\n",
      "  warnings.warn(\n"
     ]
    },
    {
     "name": "stdout",
     "output_type": "stream",
     "text": [
      "Error translating text: 'list' object has no attribute 'strip'\n",
      "Error translating text: 'list' object has no attribute 'strip'\n",
      "Error translating text: 'list' object has no attribute 'strip'\n",
      "Error translating text: 'list' object has no attribute 'strip'\n",
      "Error translating text: 'list' object has no attribute 'strip'\n",
      "Error translating text: 'list' object has no attribute 'strip'\n"
     ]
    },
    {
     "name": "stderr",
     "output_type": "stream",
     "text": [
      "c:\\Users\\hp\\anaconda3\\lib\\site-packages\\textblob\\blob.py:563: DeprecationWarning: TextBlob.translate is deprecated and will be removed in a future release. Use the official Google Translate API instead.\n",
      "  warnings.warn(\n",
      "c:\\Users\\hp\\anaconda3\\lib\\site-packages\\textblob\\blob.py:563: DeprecationWarning: TextBlob.translate is deprecated and will be removed in a future release. Use the official Google Translate API instead.\n",
      "  warnings.warn(\n",
      "c:\\Users\\hp\\anaconda3\\lib\\site-packages\\textblob\\blob.py:563: DeprecationWarning: TextBlob.translate is deprecated and will be removed in a future release. Use the official Google Translate API instead.\n",
      "  warnings.warn(\n",
      "c:\\Users\\hp\\anaconda3\\lib\\site-packages\\textblob\\blob.py:563: DeprecationWarning: TextBlob.translate is deprecated and will be removed in a future release. Use the official Google Translate API instead.\n",
      "  warnings.warn(\n",
      "c:\\Users\\hp\\anaconda3\\lib\\site-packages\\textblob\\blob.py:563: DeprecationWarning: TextBlob.translate is deprecated and will be removed in a future release. Use the official Google Translate API instead.\n",
      "  warnings.warn(\n",
      "c:\\Users\\hp\\anaconda3\\lib\\site-packages\\textblob\\blob.py:563: DeprecationWarning: TextBlob.translate is deprecated and will be removed in a future release. Use the official Google Translate API instead.\n",
      "  warnings.warn(\n"
     ]
    },
    {
     "name": "stdout",
     "output_type": "stream",
     "text": [
      "Error translating text: 'list' object has no attribute 'strip'\n",
      "Error translating text: 'list' object has no attribute 'strip'\n",
      "Error translating text: 'list' object has no attribute 'strip'\n",
      "Error translating text: 'list' object has no attribute 'strip'\n",
      "Error translating text: 'list' object has no attribute 'strip'\n",
      "Error translating text: 'list' object has no attribute 'strip'\n"
     ]
    },
    {
     "name": "stderr",
     "output_type": "stream",
     "text": [
      "c:\\Users\\hp\\anaconda3\\lib\\site-packages\\textblob\\blob.py:563: DeprecationWarning: TextBlob.translate is deprecated and will be removed in a future release. Use the official Google Translate API instead.\n",
      "  warnings.warn(\n",
      "c:\\Users\\hp\\anaconda3\\lib\\site-packages\\textblob\\blob.py:563: DeprecationWarning: TextBlob.translate is deprecated and will be removed in a future release. Use the official Google Translate API instead.\n",
      "  warnings.warn(\n",
      "c:\\Users\\hp\\anaconda3\\lib\\site-packages\\textblob\\blob.py:563: DeprecationWarning: TextBlob.translate is deprecated and will be removed in a future release. Use the official Google Translate API instead.\n",
      "  warnings.warn(\n",
      "c:\\Users\\hp\\anaconda3\\lib\\site-packages\\textblob\\blob.py:563: DeprecationWarning: TextBlob.translate is deprecated and will be removed in a future release. Use the official Google Translate API instead.\n",
      "  warnings.warn(\n",
      "c:\\Users\\hp\\anaconda3\\lib\\site-packages\\textblob\\blob.py:563: DeprecationWarning: TextBlob.translate is deprecated and will be removed in a future release. Use the official Google Translate API instead.\n",
      "  warnings.warn(\n",
      "c:\\Users\\hp\\anaconda3\\lib\\site-packages\\textblob\\blob.py:563: DeprecationWarning: TextBlob.translate is deprecated and will be removed in a future release. Use the official Google Translate API instead.\n",
      "  warnings.warn(\n"
     ]
    },
    {
     "name": "stdout",
     "output_type": "stream",
     "text": [
      "Error translating text: 'list' object has no attribute 'strip'\n",
      "Error translating text: 'list' object has no attribute 'strip'\n",
      "Error translating text: 'list' object has no attribute 'strip'\n",
      "Error translating text: 'list' object has no attribute 'strip'\n",
      "Error translating text: 'list' object has no attribute 'strip'\n",
      "Error translating text: 'list' object has no attribute 'strip'\n"
     ]
    },
    {
     "name": "stderr",
     "output_type": "stream",
     "text": [
      "c:\\Users\\hp\\anaconda3\\lib\\site-packages\\textblob\\blob.py:563: DeprecationWarning: TextBlob.translate is deprecated and will be removed in a future release. Use the official Google Translate API instead.\n",
      "  warnings.warn(\n",
      "c:\\Users\\hp\\anaconda3\\lib\\site-packages\\textblob\\blob.py:563: DeprecationWarning: TextBlob.translate is deprecated and will be removed in a future release. Use the official Google Translate API instead.\n",
      "  warnings.warn(\n",
      "c:\\Users\\hp\\anaconda3\\lib\\site-packages\\textblob\\blob.py:563: DeprecationWarning: TextBlob.translate is deprecated and will be removed in a future release. Use the official Google Translate API instead.\n",
      "  warnings.warn(\n",
      "c:\\Users\\hp\\anaconda3\\lib\\site-packages\\textblob\\blob.py:563: DeprecationWarning: TextBlob.translate is deprecated and will be removed in a future release. Use the official Google Translate API instead.\n",
      "  warnings.warn(\n",
      "c:\\Users\\hp\\anaconda3\\lib\\site-packages\\textblob\\blob.py:563: DeprecationWarning: TextBlob.translate is deprecated and will be removed in a future release. Use the official Google Translate API instead.\n",
      "  warnings.warn(\n",
      "c:\\Users\\hp\\anaconda3\\lib\\site-packages\\textblob\\blob.py:563: DeprecationWarning: TextBlob.translate is deprecated and will be removed in a future release. Use the official Google Translate API instead.\n",
      "  warnings.warn(\n"
     ]
    },
    {
     "name": "stdout",
     "output_type": "stream",
     "text": [
      "Error translating text: 'list' object has no attribute 'strip'\n",
      "Error translating text: 'list' object has no attribute 'strip'\n",
      "Error translating text: 'list' object has no attribute 'strip'\n",
      "Error translating text: 'list' object has no attribute 'strip'\n",
      "Error translating text: 'list' object has no attribute 'strip'\n",
      "Error translating text: 'list' object has no attribute 'strip'\n",
      "Error translating text: 'list' object has no attribute 'strip'\n"
     ]
    },
    {
     "name": "stderr",
     "output_type": "stream",
     "text": [
      "c:\\Users\\hp\\anaconda3\\lib\\site-packages\\textblob\\blob.py:563: DeprecationWarning: TextBlob.translate is deprecated and will be removed in a future release. Use the official Google Translate API instead.\n",
      "  warnings.warn(\n",
      "c:\\Users\\hp\\anaconda3\\lib\\site-packages\\textblob\\blob.py:563: DeprecationWarning: TextBlob.translate is deprecated and will be removed in a future release. Use the official Google Translate API instead.\n",
      "  warnings.warn(\n",
      "c:\\Users\\hp\\anaconda3\\lib\\site-packages\\textblob\\blob.py:563: DeprecationWarning: TextBlob.translate is deprecated and will be removed in a future release. Use the official Google Translate API instead.\n",
      "  warnings.warn(\n",
      "c:\\Users\\hp\\anaconda3\\lib\\site-packages\\textblob\\blob.py:563: DeprecationWarning: TextBlob.translate is deprecated and will be removed in a future release. Use the official Google Translate API instead.\n",
      "  warnings.warn(\n",
      "c:\\Users\\hp\\anaconda3\\lib\\site-packages\\textblob\\blob.py:563: DeprecationWarning: TextBlob.translate is deprecated and will be removed in a future release. Use the official Google Translate API instead.\n",
      "  warnings.warn(\n",
      "c:\\Users\\hp\\anaconda3\\lib\\site-packages\\textblob\\blob.py:563: DeprecationWarning: TextBlob.translate is deprecated and will be removed in a future release. Use the official Google Translate API instead.\n",
      "  warnings.warn(\n",
      "c:\\Users\\hp\\anaconda3\\lib\\site-packages\\textblob\\blob.py:563: DeprecationWarning: TextBlob.translate is deprecated and will be removed in a future release. Use the official Google Translate API instead.\n",
      "  warnings.warn(\n"
     ]
    },
    {
     "name": "stdout",
     "output_type": "stream",
     "text": [
      "Error translating text: 'list' object has no attribute 'strip'\n",
      "Error translating text: 'list' object has no attribute 'strip'\n",
      "Error translating text: 'list' object has no attribute 'strip'\n",
      "Error translating text: 'list' object has no attribute 'strip'\n",
      "Error translating text: 'list' object has no attribute 'strip'\n"
     ]
    },
    {
     "name": "stderr",
     "output_type": "stream",
     "text": [
      "c:\\Users\\hp\\anaconda3\\lib\\site-packages\\textblob\\blob.py:563: DeprecationWarning: TextBlob.translate is deprecated and will be removed in a future release. Use the official Google Translate API instead.\n",
      "  warnings.warn(\n",
      "c:\\Users\\hp\\anaconda3\\lib\\site-packages\\textblob\\blob.py:563: DeprecationWarning: TextBlob.translate is deprecated and will be removed in a future release. Use the official Google Translate API instead.\n",
      "  warnings.warn(\n",
      "c:\\Users\\hp\\anaconda3\\lib\\site-packages\\textblob\\blob.py:563: DeprecationWarning: TextBlob.translate is deprecated and will be removed in a future release. Use the official Google Translate API instead.\n",
      "  warnings.warn(\n",
      "c:\\Users\\hp\\anaconda3\\lib\\site-packages\\textblob\\blob.py:563: DeprecationWarning: TextBlob.translate is deprecated and will be removed in a future release. Use the official Google Translate API instead.\n",
      "  warnings.warn(\n",
      "c:\\Users\\hp\\anaconda3\\lib\\site-packages\\textblob\\blob.py:563: DeprecationWarning: TextBlob.translate is deprecated and will be removed in a future release. Use the official Google Translate API instead.\n",
      "  warnings.warn(\n"
     ]
    },
    {
     "name": "stdout",
     "output_type": "stream",
     "text": [
      "Error translating text: 'list' object has no attribute 'strip'\n",
      "Error translating text: 'list' object has no attribute 'strip'\n",
      "Error translating text: 'list' object has no attribute 'strip'\n",
      "Error translating text: 'list' object has no attribute 'strip'\n",
      "Error translating text: 'list' object has no attribute 'strip'\n",
      "Error translating text: 'list' object has no attribute 'strip'\n",
      "Error translating text: 'list' object has no attribute 'strip'\n"
     ]
    },
    {
     "name": "stderr",
     "output_type": "stream",
     "text": [
      "c:\\Users\\hp\\anaconda3\\lib\\site-packages\\textblob\\blob.py:563: DeprecationWarning: TextBlob.translate is deprecated and will be removed in a future release. Use the official Google Translate API instead.\n",
      "  warnings.warn(\n",
      "c:\\Users\\hp\\anaconda3\\lib\\site-packages\\textblob\\blob.py:563: DeprecationWarning: TextBlob.translate is deprecated and will be removed in a future release. Use the official Google Translate API instead.\n",
      "  warnings.warn(\n",
      "c:\\Users\\hp\\anaconda3\\lib\\site-packages\\textblob\\blob.py:563: DeprecationWarning: TextBlob.translate is deprecated and will be removed in a future release. Use the official Google Translate API instead.\n",
      "  warnings.warn(\n",
      "c:\\Users\\hp\\anaconda3\\lib\\site-packages\\textblob\\blob.py:563: DeprecationWarning: TextBlob.translate is deprecated and will be removed in a future release. Use the official Google Translate API instead.\n",
      "  warnings.warn(\n",
      "c:\\Users\\hp\\anaconda3\\lib\\site-packages\\textblob\\blob.py:563: DeprecationWarning: TextBlob.translate is deprecated and will be removed in a future release. Use the official Google Translate API instead.\n",
      "  warnings.warn(\n",
      "c:\\Users\\hp\\anaconda3\\lib\\site-packages\\textblob\\blob.py:563: DeprecationWarning: TextBlob.translate is deprecated and will be removed in a future release. Use the official Google Translate API instead.\n",
      "  warnings.warn(\n",
      "c:\\Users\\hp\\anaconda3\\lib\\site-packages\\textblob\\blob.py:563: DeprecationWarning: TextBlob.translate is deprecated and will be removed in a future release. Use the official Google Translate API instead.\n",
      "  warnings.warn(\n"
     ]
    },
    {
     "name": "stdout",
     "output_type": "stream",
     "text": [
      "Error translating text: 'list' object has no attribute 'strip'\n",
      "Error translating text: 'list' object has no attribute 'strip'\n",
      "Error translating text: 'list' object has no attribute 'strip'\n",
      "Error translating text: 'list' object has no attribute 'strip'\n",
      "Error translating text: 'list' object has no attribute 'strip'\n"
     ]
    },
    {
     "name": "stderr",
     "output_type": "stream",
     "text": [
      "c:\\Users\\hp\\anaconda3\\lib\\site-packages\\textblob\\blob.py:563: DeprecationWarning: TextBlob.translate is deprecated and will be removed in a future release. Use the official Google Translate API instead.\n",
      "  warnings.warn(\n",
      "c:\\Users\\hp\\anaconda3\\lib\\site-packages\\textblob\\blob.py:563: DeprecationWarning: TextBlob.translate is deprecated and will be removed in a future release. Use the official Google Translate API instead.\n",
      "  warnings.warn(\n",
      "c:\\Users\\hp\\anaconda3\\lib\\site-packages\\textblob\\blob.py:563: DeprecationWarning: TextBlob.translate is deprecated and will be removed in a future release. Use the official Google Translate API instead.\n",
      "  warnings.warn(\n",
      "c:\\Users\\hp\\anaconda3\\lib\\site-packages\\textblob\\blob.py:563: DeprecationWarning: TextBlob.translate is deprecated and will be removed in a future release. Use the official Google Translate API instead.\n",
      "  warnings.warn(\n",
      "c:\\Users\\hp\\anaconda3\\lib\\site-packages\\textblob\\blob.py:563: DeprecationWarning: TextBlob.translate is deprecated and will be removed in a future release. Use the official Google Translate API instead.\n",
      "  warnings.warn(\n"
     ]
    },
    {
     "name": "stdout",
     "output_type": "stream",
     "text": [
      "Error translating text: 'list' object has no attribute 'strip'\n",
      "Error translating text: 'list' object has no attribute 'strip'\n",
      "Error translating text: 'list' object has no attribute 'strip'\n",
      "Error translating text: 'list' object has no attribute 'strip'\n",
      "Error translating text: 'list' object has no attribute 'strip'\n",
      "Error translating text: 'list' object has no attribute 'strip'\n"
     ]
    },
    {
     "name": "stderr",
     "output_type": "stream",
     "text": [
      "c:\\Users\\hp\\anaconda3\\lib\\site-packages\\textblob\\blob.py:563: DeprecationWarning: TextBlob.translate is deprecated and will be removed in a future release. Use the official Google Translate API instead.\n",
      "  warnings.warn(\n",
      "c:\\Users\\hp\\anaconda3\\lib\\site-packages\\textblob\\blob.py:563: DeprecationWarning: TextBlob.translate is deprecated and will be removed in a future release. Use the official Google Translate API instead.\n",
      "  warnings.warn(\n",
      "c:\\Users\\hp\\anaconda3\\lib\\site-packages\\textblob\\blob.py:563: DeprecationWarning: TextBlob.translate is deprecated and will be removed in a future release. Use the official Google Translate API instead.\n",
      "  warnings.warn(\n",
      "c:\\Users\\hp\\anaconda3\\lib\\site-packages\\textblob\\blob.py:563: DeprecationWarning: TextBlob.translate is deprecated and will be removed in a future release. Use the official Google Translate API instead.\n",
      "  warnings.warn(\n",
      "c:\\Users\\hp\\anaconda3\\lib\\site-packages\\textblob\\blob.py:563: DeprecationWarning: TextBlob.translate is deprecated and will be removed in a future release. Use the official Google Translate API instead.\n",
      "  warnings.warn(\n",
      "c:\\Users\\hp\\anaconda3\\lib\\site-packages\\textblob\\blob.py:563: DeprecationWarning: TextBlob.translate is deprecated and will be removed in a future release. Use the official Google Translate API instead.\n",
      "  warnings.warn(\n"
     ]
    },
    {
     "name": "stdout",
     "output_type": "stream",
     "text": [
      "Error translating text: 'list' object has no attribute 'strip'\n",
      "Error translating text: 'list' object has no attribute 'strip'\n",
      "Error translating text: 'list' object has no attribute 'strip'\n",
      "Error translating text: 'list' object has no attribute 'strip'\n",
      "Error translating text: 'list' object has no attribute 'strip'\n",
      "Error translating text: 'list' object has no attribute 'strip'\n"
     ]
    },
    {
     "name": "stderr",
     "output_type": "stream",
     "text": [
      "c:\\Users\\hp\\anaconda3\\lib\\site-packages\\textblob\\blob.py:563: DeprecationWarning: TextBlob.translate is deprecated and will be removed in a future release. Use the official Google Translate API instead.\n",
      "  warnings.warn(\n",
      "c:\\Users\\hp\\anaconda3\\lib\\site-packages\\textblob\\blob.py:563: DeprecationWarning: TextBlob.translate is deprecated and will be removed in a future release. Use the official Google Translate API instead.\n",
      "  warnings.warn(\n",
      "c:\\Users\\hp\\anaconda3\\lib\\site-packages\\textblob\\blob.py:563: DeprecationWarning: TextBlob.translate is deprecated and will be removed in a future release. Use the official Google Translate API instead.\n",
      "  warnings.warn(\n",
      "c:\\Users\\hp\\anaconda3\\lib\\site-packages\\textblob\\blob.py:563: DeprecationWarning: TextBlob.translate is deprecated and will be removed in a future release. Use the official Google Translate API instead.\n",
      "  warnings.warn(\n",
      "c:\\Users\\hp\\anaconda3\\lib\\site-packages\\textblob\\blob.py:563: DeprecationWarning: TextBlob.translate is deprecated and will be removed in a future release. Use the official Google Translate API instead.\n",
      "  warnings.warn(\n",
      "c:\\Users\\hp\\anaconda3\\lib\\site-packages\\textblob\\blob.py:563: DeprecationWarning: TextBlob.translate is deprecated and will be removed in a future release. Use the official Google Translate API instead.\n",
      "  warnings.warn(\n"
     ]
    },
    {
     "name": "stdout",
     "output_type": "stream",
     "text": [
      "Error translating text: 'list' object has no attribute 'strip'\n",
      "Error translating text: 'list' object has no attribute 'strip'\n",
      "Error translating text: 'list' object has no attribute 'strip'\n",
      "Error translating text: 'list' object has no attribute 'strip'\n",
      "Error translating text: 'list' object has no attribute 'strip'\n",
      "Error translating text: 'list' object has no attribute 'strip'\n"
     ]
    },
    {
     "name": "stderr",
     "output_type": "stream",
     "text": [
      "c:\\Users\\hp\\anaconda3\\lib\\site-packages\\textblob\\blob.py:563: DeprecationWarning: TextBlob.translate is deprecated and will be removed in a future release. Use the official Google Translate API instead.\n",
      "  warnings.warn(\n",
      "c:\\Users\\hp\\anaconda3\\lib\\site-packages\\textblob\\blob.py:563: DeprecationWarning: TextBlob.translate is deprecated and will be removed in a future release. Use the official Google Translate API instead.\n",
      "  warnings.warn(\n",
      "c:\\Users\\hp\\anaconda3\\lib\\site-packages\\textblob\\blob.py:563: DeprecationWarning: TextBlob.translate is deprecated and will be removed in a future release. Use the official Google Translate API instead.\n",
      "  warnings.warn(\n",
      "c:\\Users\\hp\\anaconda3\\lib\\site-packages\\textblob\\blob.py:563: DeprecationWarning: TextBlob.translate is deprecated and will be removed in a future release. Use the official Google Translate API instead.\n",
      "  warnings.warn(\n",
      "c:\\Users\\hp\\anaconda3\\lib\\site-packages\\textblob\\blob.py:563: DeprecationWarning: TextBlob.translate is deprecated and will be removed in a future release. Use the official Google Translate API instead.\n",
      "  warnings.warn(\n",
      "c:\\Users\\hp\\anaconda3\\lib\\site-packages\\textblob\\blob.py:563: DeprecationWarning: TextBlob.translate is deprecated and will be removed in a future release. Use the official Google Translate API instead.\n",
      "  warnings.warn(\n"
     ]
    },
    {
     "name": "stdout",
     "output_type": "stream",
     "text": [
      "Error translating text: 'list' object has no attribute 'strip'\n",
      "Error translating text: 'list' object has no attribute 'strip'\n",
      "Error translating text: 'list' object has no attribute 'strip'\n",
      "Error translating text: 'list' object has no attribute 'strip'\n",
      "Error translating text: 'list' object has no attribute 'strip'\n"
     ]
    },
    {
     "name": "stderr",
     "output_type": "stream",
     "text": [
      "c:\\Users\\hp\\anaconda3\\lib\\site-packages\\textblob\\blob.py:563: DeprecationWarning: TextBlob.translate is deprecated and will be removed in a future release. Use the official Google Translate API instead.\n",
      "  warnings.warn(\n",
      "c:\\Users\\hp\\anaconda3\\lib\\site-packages\\textblob\\blob.py:563: DeprecationWarning: TextBlob.translate is deprecated and will be removed in a future release. Use the official Google Translate API instead.\n",
      "  warnings.warn(\n",
      "c:\\Users\\hp\\anaconda3\\lib\\site-packages\\textblob\\blob.py:563: DeprecationWarning: TextBlob.translate is deprecated and will be removed in a future release. Use the official Google Translate API instead.\n",
      "  warnings.warn(\n",
      "c:\\Users\\hp\\anaconda3\\lib\\site-packages\\textblob\\blob.py:563: DeprecationWarning: TextBlob.translate is deprecated and will be removed in a future release. Use the official Google Translate API instead.\n",
      "  warnings.warn(\n",
      "c:\\Users\\hp\\anaconda3\\lib\\site-packages\\textblob\\blob.py:563: DeprecationWarning: TextBlob.translate is deprecated and will be removed in a future release. Use the official Google Translate API instead.\n",
      "  warnings.warn(\n"
     ]
    },
    {
     "name": "stdout",
     "output_type": "stream",
     "text": [
      "Error translating text: 'list' object has no attribute 'strip'\n",
      "Error translating text: 'list' object has no attribute 'strip'\n",
      "Error translating text: 'list' object has no attribute 'strip'\n",
      "Error translating text: 'list' object has no attribute 'strip'\n",
      "Error translating text: 'list' object has no attribute 'strip'\n",
      "Error translating text: 'list' object has no attribute 'strip'\n",
      "Error translating text: 'list' object has no attribute 'strip'\n"
     ]
    },
    {
     "name": "stderr",
     "output_type": "stream",
     "text": [
      "c:\\Users\\hp\\anaconda3\\lib\\site-packages\\textblob\\blob.py:563: DeprecationWarning: TextBlob.translate is deprecated and will be removed in a future release. Use the official Google Translate API instead.\n",
      "  warnings.warn(\n",
      "c:\\Users\\hp\\anaconda3\\lib\\site-packages\\textblob\\blob.py:563: DeprecationWarning: TextBlob.translate is deprecated and will be removed in a future release. Use the official Google Translate API instead.\n",
      "  warnings.warn(\n",
      "c:\\Users\\hp\\anaconda3\\lib\\site-packages\\textblob\\blob.py:563: DeprecationWarning: TextBlob.translate is deprecated and will be removed in a future release. Use the official Google Translate API instead.\n",
      "  warnings.warn(\n",
      "c:\\Users\\hp\\anaconda3\\lib\\site-packages\\textblob\\blob.py:563: DeprecationWarning: TextBlob.translate is deprecated and will be removed in a future release. Use the official Google Translate API instead.\n",
      "  warnings.warn(\n",
      "c:\\Users\\hp\\anaconda3\\lib\\site-packages\\textblob\\blob.py:563: DeprecationWarning: TextBlob.translate is deprecated and will be removed in a future release. Use the official Google Translate API instead.\n",
      "  warnings.warn(\n",
      "c:\\Users\\hp\\anaconda3\\lib\\site-packages\\textblob\\blob.py:563: DeprecationWarning: TextBlob.translate is deprecated and will be removed in a future release. Use the official Google Translate API instead.\n",
      "  warnings.warn(\n",
      "c:\\Users\\hp\\anaconda3\\lib\\site-packages\\textblob\\blob.py:563: DeprecationWarning: TextBlob.translate is deprecated and will be removed in a future release. Use the official Google Translate API instead.\n",
      "  warnings.warn(\n"
     ]
    },
    {
     "name": "stdout",
     "output_type": "stream",
     "text": [
      "Error translating text: 'list' object has no attribute 'strip'\n",
      "Error translating text: 'list' object has no attribute 'strip'\n",
      "Error translating text: 'list' object has no attribute 'strip'\n",
      "Error translating text: 'list' object has no attribute 'strip'\n",
      "Error translating text: 'list' object has no attribute 'strip'\n",
      "Error translating text: 'list' object has no attribute 'strip'\n",
      "Error translating text: 'list' object has no attribute 'strip'\n"
     ]
    },
    {
     "name": "stderr",
     "output_type": "stream",
     "text": [
      "c:\\Users\\hp\\anaconda3\\lib\\site-packages\\textblob\\blob.py:563: DeprecationWarning: TextBlob.translate is deprecated and will be removed in a future release. Use the official Google Translate API instead.\n",
      "  warnings.warn(\n",
      "c:\\Users\\hp\\anaconda3\\lib\\site-packages\\textblob\\blob.py:563: DeprecationWarning: TextBlob.translate is deprecated and will be removed in a future release. Use the official Google Translate API instead.\n",
      "  warnings.warn(\n",
      "c:\\Users\\hp\\anaconda3\\lib\\site-packages\\textblob\\blob.py:563: DeprecationWarning: TextBlob.translate is deprecated and will be removed in a future release. Use the official Google Translate API instead.\n",
      "  warnings.warn(\n",
      "c:\\Users\\hp\\anaconda3\\lib\\site-packages\\textblob\\blob.py:563: DeprecationWarning: TextBlob.translate is deprecated and will be removed in a future release. Use the official Google Translate API instead.\n",
      "  warnings.warn(\n",
      "c:\\Users\\hp\\anaconda3\\lib\\site-packages\\textblob\\blob.py:563: DeprecationWarning: TextBlob.translate is deprecated and will be removed in a future release. Use the official Google Translate API instead.\n",
      "  warnings.warn(\n",
      "c:\\Users\\hp\\anaconda3\\lib\\site-packages\\textblob\\blob.py:563: DeprecationWarning: TextBlob.translate is deprecated and will be removed in a future release. Use the official Google Translate API instead.\n",
      "  warnings.warn(\n",
      "c:\\Users\\hp\\anaconda3\\lib\\site-packages\\textblob\\blob.py:563: DeprecationWarning: TextBlob.translate is deprecated and will be removed in a future release. Use the official Google Translate API instead.\n",
      "  warnings.warn(\n"
     ]
    },
    {
     "name": "stdout",
     "output_type": "stream",
     "text": [
      "Error translating text: 'list' object has no attribute 'strip'\n",
      "Error translating text: 'list' object has no attribute 'strip'\n",
      "Error translating text: 'list' object has no attribute 'strip'\n",
      "Error translating text: 'list' object has no attribute 'strip'\n",
      "Error translating text: 'list' object has no attribute 'strip'\n",
      "Error translating text: 'list' object has no attribute 'strip'\n",
      "Error translating text: 'list' object has no attribute 'strip'\n"
     ]
    },
    {
     "name": "stderr",
     "output_type": "stream",
     "text": [
      "c:\\Users\\hp\\anaconda3\\lib\\site-packages\\textblob\\blob.py:563: DeprecationWarning: TextBlob.translate is deprecated and will be removed in a future release. Use the official Google Translate API instead.\n",
      "  warnings.warn(\n",
      "c:\\Users\\hp\\anaconda3\\lib\\site-packages\\textblob\\blob.py:563: DeprecationWarning: TextBlob.translate is deprecated and will be removed in a future release. Use the official Google Translate API instead.\n",
      "  warnings.warn(\n",
      "c:\\Users\\hp\\anaconda3\\lib\\site-packages\\textblob\\blob.py:563: DeprecationWarning: TextBlob.translate is deprecated and will be removed in a future release. Use the official Google Translate API instead.\n",
      "  warnings.warn(\n",
      "c:\\Users\\hp\\anaconda3\\lib\\site-packages\\textblob\\blob.py:563: DeprecationWarning: TextBlob.translate is deprecated and will be removed in a future release. Use the official Google Translate API instead.\n",
      "  warnings.warn(\n",
      "c:\\Users\\hp\\anaconda3\\lib\\site-packages\\textblob\\blob.py:563: DeprecationWarning: TextBlob.translate is deprecated and will be removed in a future release. Use the official Google Translate API instead.\n",
      "  warnings.warn(\n",
      "c:\\Users\\hp\\anaconda3\\lib\\site-packages\\textblob\\blob.py:563: DeprecationWarning: TextBlob.translate is deprecated and will be removed in a future release. Use the official Google Translate API instead.\n",
      "  warnings.warn(\n",
      "c:\\Users\\hp\\anaconda3\\lib\\site-packages\\textblob\\blob.py:563: DeprecationWarning: TextBlob.translate is deprecated and will be removed in a future release. Use the official Google Translate API instead.\n",
      "  warnings.warn(\n"
     ]
    },
    {
     "name": "stdout",
     "output_type": "stream",
     "text": [
      "Error translating text: 'list' object has no attribute 'strip'\n",
      "Error translating text: 'list' object has no attribute 'strip'\n",
      "Error translating text: 'list' object has no attribute 'strip'\n",
      "Error translating text: 'list' object has no attribute 'strip'\n",
      "Error translating text: 'list' object has no attribute 'strip'\n",
      "Error translating text: 'list' object has no attribute 'strip'\n",
      "Error translating text: 'list' object has no attribute 'strip'\n"
     ]
    },
    {
     "name": "stderr",
     "output_type": "stream",
     "text": [
      "c:\\Users\\hp\\anaconda3\\lib\\site-packages\\textblob\\blob.py:563: DeprecationWarning: TextBlob.translate is deprecated and will be removed in a future release. Use the official Google Translate API instead.\n",
      "  warnings.warn(\n",
      "c:\\Users\\hp\\anaconda3\\lib\\site-packages\\textblob\\blob.py:563: DeprecationWarning: TextBlob.translate is deprecated and will be removed in a future release. Use the official Google Translate API instead.\n",
      "  warnings.warn(\n",
      "c:\\Users\\hp\\anaconda3\\lib\\site-packages\\textblob\\blob.py:563: DeprecationWarning: TextBlob.translate is deprecated and will be removed in a future release. Use the official Google Translate API instead.\n",
      "  warnings.warn(\n",
      "c:\\Users\\hp\\anaconda3\\lib\\site-packages\\textblob\\blob.py:563: DeprecationWarning: TextBlob.translate is deprecated and will be removed in a future release. Use the official Google Translate API instead.\n",
      "  warnings.warn(\n",
      "c:\\Users\\hp\\anaconda3\\lib\\site-packages\\textblob\\blob.py:563: DeprecationWarning: TextBlob.translate is deprecated and will be removed in a future release. Use the official Google Translate API instead.\n",
      "  warnings.warn(\n",
      "c:\\Users\\hp\\anaconda3\\lib\\site-packages\\textblob\\blob.py:563: DeprecationWarning: TextBlob.translate is deprecated and will be removed in a future release. Use the official Google Translate API instead.\n",
      "  warnings.warn(\n",
      "c:\\Users\\hp\\anaconda3\\lib\\site-packages\\textblob\\blob.py:563: DeprecationWarning: TextBlob.translate is deprecated and will be removed in a future release. Use the official Google Translate API instead.\n",
      "  warnings.warn(\n"
     ]
    },
    {
     "name": "stdout",
     "output_type": "stream",
     "text": [
      "Error translating text: 'list' object has no attribute 'strip'\n",
      "Error translating text: 'list' object has no attribute 'strip'\n",
      "Error translating text: 'list' object has no attribute 'strip'\n",
      "Error translating text: 'list' object has no attribute 'strip'\n",
      "Error translating text: 'list' object has no attribute 'strip'\n",
      "Error translating text: 'list' object has no attribute 'strip'\n",
      "Error translating text: 'list' object has no attribute 'strip'\n",
      "Error translating text: 'list' object has no attribute 'strip'\n"
     ]
    },
    {
     "name": "stderr",
     "output_type": "stream",
     "text": [
      "c:\\Users\\hp\\anaconda3\\lib\\site-packages\\textblob\\blob.py:563: DeprecationWarning: TextBlob.translate is deprecated and will be removed in a future release. Use the official Google Translate API instead.\n",
      "  warnings.warn(\n",
      "c:\\Users\\hp\\anaconda3\\lib\\site-packages\\textblob\\blob.py:563: DeprecationWarning: TextBlob.translate is deprecated and will be removed in a future release. Use the official Google Translate API instead.\n",
      "  warnings.warn(\n",
      "c:\\Users\\hp\\anaconda3\\lib\\site-packages\\textblob\\blob.py:563: DeprecationWarning: TextBlob.translate is deprecated and will be removed in a future release. Use the official Google Translate API instead.\n",
      "  warnings.warn(\n",
      "c:\\Users\\hp\\anaconda3\\lib\\site-packages\\textblob\\blob.py:563: DeprecationWarning: TextBlob.translate is deprecated and will be removed in a future release. Use the official Google Translate API instead.\n",
      "  warnings.warn(\n",
      "c:\\Users\\hp\\anaconda3\\lib\\site-packages\\textblob\\blob.py:563: DeprecationWarning: TextBlob.translate is deprecated and will be removed in a future release. Use the official Google Translate API instead.\n",
      "  warnings.warn(\n",
      "c:\\Users\\hp\\anaconda3\\lib\\site-packages\\textblob\\blob.py:563: DeprecationWarning: TextBlob.translate is deprecated and will be removed in a future release. Use the official Google Translate API instead.\n",
      "  warnings.warn(\n",
      "c:\\Users\\hp\\anaconda3\\lib\\site-packages\\textblob\\blob.py:563: DeprecationWarning: TextBlob.translate is deprecated and will be removed in a future release. Use the official Google Translate API instead.\n",
      "  warnings.warn(\n",
      "c:\\Users\\hp\\anaconda3\\lib\\site-packages\\textblob\\blob.py:563: DeprecationWarning: TextBlob.translate is deprecated and will be removed in a future release. Use the official Google Translate API instead.\n",
      "  warnings.warn(\n"
     ]
    },
    {
     "name": "stdout",
     "output_type": "stream",
     "text": [
      "Error translating text: 'list' object has no attribute 'strip'\n",
      "Error translating text: 'list' object has no attribute 'strip'\n",
      "Error translating text: 'list' object has no attribute 'strip'\n",
      "Error translating text: 'list' object has no attribute 'strip'\n"
     ]
    },
    {
     "name": "stderr",
     "output_type": "stream",
     "text": [
      "c:\\Users\\hp\\anaconda3\\lib\\site-packages\\textblob\\blob.py:563: DeprecationWarning: TextBlob.translate is deprecated and will be removed in a future release. Use the official Google Translate API instead.\n",
      "  warnings.warn(\n",
      "c:\\Users\\hp\\anaconda3\\lib\\site-packages\\textblob\\blob.py:563: DeprecationWarning: TextBlob.translate is deprecated and will be removed in a future release. Use the official Google Translate API instead.\n",
      "  warnings.warn(\n",
      "c:\\Users\\hp\\anaconda3\\lib\\site-packages\\textblob\\blob.py:563: DeprecationWarning: TextBlob.translate is deprecated and will be removed in a future release. Use the official Google Translate API instead.\n",
      "  warnings.warn(\n",
      "c:\\Users\\hp\\anaconda3\\lib\\site-packages\\textblob\\blob.py:563: DeprecationWarning: TextBlob.translate is deprecated and will be removed in a future release. Use the official Google Translate API instead.\n",
      "  warnings.warn(\n"
     ]
    },
    {
     "name": "stdout",
     "output_type": "stream",
     "text": [
      "Error translating text: 'list' object has no attribute 'strip'\n",
      "Error translating text: 'list' object has no attribute 'strip'\n",
      "Error translating text: 'list' object has no attribute 'strip'\n",
      "Error translating text: 'list' object has no attribute 'strip'\n",
      "Error translating text: 'list' object has no attribute 'strip'\n"
     ]
    },
    {
     "name": "stderr",
     "output_type": "stream",
     "text": [
      "c:\\Users\\hp\\anaconda3\\lib\\site-packages\\textblob\\blob.py:563: DeprecationWarning: TextBlob.translate is deprecated and will be removed in a future release. Use the official Google Translate API instead.\n",
      "  warnings.warn(\n",
      "c:\\Users\\hp\\anaconda3\\lib\\site-packages\\textblob\\blob.py:563: DeprecationWarning: TextBlob.translate is deprecated and will be removed in a future release. Use the official Google Translate API instead.\n",
      "  warnings.warn(\n",
      "c:\\Users\\hp\\anaconda3\\lib\\site-packages\\textblob\\blob.py:563: DeprecationWarning: TextBlob.translate is deprecated and will be removed in a future release. Use the official Google Translate API instead.\n",
      "  warnings.warn(\n",
      "c:\\Users\\hp\\anaconda3\\lib\\site-packages\\textblob\\blob.py:563: DeprecationWarning: TextBlob.translate is deprecated and will be removed in a future release. Use the official Google Translate API instead.\n",
      "  warnings.warn(\n",
      "c:\\Users\\hp\\anaconda3\\lib\\site-packages\\textblob\\blob.py:563: DeprecationWarning: TextBlob.translate is deprecated and will be removed in a future release. Use the official Google Translate API instead.\n",
      "  warnings.warn(\n"
     ]
    },
    {
     "name": "stdout",
     "output_type": "stream",
     "text": [
      "Error translating text: 'list' object has no attribute 'strip'\n",
      "Error translating text: 'list' object has no attribute 'strip'\n",
      "Error translating text: 'list' object has no attribute 'strip'\n",
      "Error translating text: 'list' object has no attribute 'strip'\n",
      "Error translating text: 'list' object has no attribute 'strip'\n"
     ]
    },
    {
     "name": "stderr",
     "output_type": "stream",
     "text": [
      "c:\\Users\\hp\\anaconda3\\lib\\site-packages\\textblob\\blob.py:563: DeprecationWarning: TextBlob.translate is deprecated and will be removed in a future release. Use the official Google Translate API instead.\n",
      "  warnings.warn(\n",
      "c:\\Users\\hp\\anaconda3\\lib\\site-packages\\textblob\\blob.py:563: DeprecationWarning: TextBlob.translate is deprecated and will be removed in a future release. Use the official Google Translate API instead.\n",
      "  warnings.warn(\n",
      "c:\\Users\\hp\\anaconda3\\lib\\site-packages\\textblob\\blob.py:563: DeprecationWarning: TextBlob.translate is deprecated and will be removed in a future release. Use the official Google Translate API instead.\n",
      "  warnings.warn(\n",
      "c:\\Users\\hp\\anaconda3\\lib\\site-packages\\textblob\\blob.py:563: DeprecationWarning: TextBlob.translate is deprecated and will be removed in a future release. Use the official Google Translate API instead.\n",
      "  warnings.warn(\n",
      "c:\\Users\\hp\\anaconda3\\lib\\site-packages\\textblob\\blob.py:563: DeprecationWarning: TextBlob.translate is deprecated and will be removed in a future release. Use the official Google Translate API instead.\n",
      "  warnings.warn(\n"
     ]
    },
    {
     "name": "stdout",
     "output_type": "stream",
     "text": [
      "Error translating text: 'list' object has no attribute 'strip'\n",
      "Error translating text: 'list' object has no attribute 'strip'\n",
      "Error translating text: 'list' object has no attribute 'strip'\n",
      "Error translating text: 'list' object has no attribute 'strip'\n",
      "Error translating text: 'list' object has no attribute 'strip'\n",
      "Error translating text: 'list' object has no attribute 'strip'\n",
      "Error translating text: 'list' object has no attribute 'strip'\n"
     ]
    },
    {
     "name": "stderr",
     "output_type": "stream",
     "text": [
      "c:\\Users\\hp\\anaconda3\\lib\\site-packages\\textblob\\blob.py:563: DeprecationWarning: TextBlob.translate is deprecated and will be removed in a future release. Use the official Google Translate API instead.\n",
      "  warnings.warn(\n",
      "c:\\Users\\hp\\anaconda3\\lib\\site-packages\\textblob\\blob.py:563: DeprecationWarning: TextBlob.translate is deprecated and will be removed in a future release. Use the official Google Translate API instead.\n",
      "  warnings.warn(\n",
      "c:\\Users\\hp\\anaconda3\\lib\\site-packages\\textblob\\blob.py:563: DeprecationWarning: TextBlob.translate is deprecated and will be removed in a future release. Use the official Google Translate API instead.\n",
      "  warnings.warn(\n",
      "c:\\Users\\hp\\anaconda3\\lib\\site-packages\\textblob\\blob.py:563: DeprecationWarning: TextBlob.translate is deprecated and will be removed in a future release. Use the official Google Translate API instead.\n",
      "  warnings.warn(\n",
      "c:\\Users\\hp\\anaconda3\\lib\\site-packages\\textblob\\blob.py:563: DeprecationWarning: TextBlob.translate is deprecated and will be removed in a future release. Use the official Google Translate API instead.\n",
      "  warnings.warn(\n",
      "c:\\Users\\hp\\anaconda3\\lib\\site-packages\\textblob\\blob.py:563: DeprecationWarning: TextBlob.translate is deprecated and will be removed in a future release. Use the official Google Translate API instead.\n",
      "  warnings.warn(\n",
      "c:\\Users\\hp\\anaconda3\\lib\\site-packages\\textblob\\blob.py:563: DeprecationWarning: TextBlob.translate is deprecated and will be removed in a future release. Use the official Google Translate API instead.\n",
      "  warnings.warn(\n"
     ]
    },
    {
     "name": "stdout",
     "output_type": "stream",
     "text": [
      "Error translating text: 'list' object has no attribute 'strip'\n",
      "Error translating text: 'list' object has no attribute 'strip'\n",
      "Error translating text: 'list' object has no attribute 'strip'\n",
      "Error translating text: 'list' object has no attribute 'strip'\n",
      "Error translating text: 'list' object has no attribute 'strip'\n",
      "Error translating text: 'list' object has no attribute 'strip'\n"
     ]
    },
    {
     "name": "stderr",
     "output_type": "stream",
     "text": [
      "c:\\Users\\hp\\anaconda3\\lib\\site-packages\\textblob\\blob.py:563: DeprecationWarning: TextBlob.translate is deprecated and will be removed in a future release. Use the official Google Translate API instead.\n",
      "  warnings.warn(\n",
      "c:\\Users\\hp\\anaconda3\\lib\\site-packages\\textblob\\blob.py:563: DeprecationWarning: TextBlob.translate is deprecated and will be removed in a future release. Use the official Google Translate API instead.\n",
      "  warnings.warn(\n",
      "c:\\Users\\hp\\anaconda3\\lib\\site-packages\\textblob\\blob.py:563: DeprecationWarning: TextBlob.translate is deprecated and will be removed in a future release. Use the official Google Translate API instead.\n",
      "  warnings.warn(\n",
      "c:\\Users\\hp\\anaconda3\\lib\\site-packages\\textblob\\blob.py:563: DeprecationWarning: TextBlob.translate is deprecated and will be removed in a future release. Use the official Google Translate API instead.\n",
      "  warnings.warn(\n",
      "c:\\Users\\hp\\anaconda3\\lib\\site-packages\\textblob\\blob.py:563: DeprecationWarning: TextBlob.translate is deprecated and will be removed in a future release. Use the official Google Translate API instead.\n",
      "  warnings.warn(\n",
      "c:\\Users\\hp\\anaconda3\\lib\\site-packages\\textblob\\blob.py:563: DeprecationWarning: TextBlob.translate is deprecated and will be removed in a future release. Use the official Google Translate API instead.\n",
      "  warnings.warn(\n"
     ]
    },
    {
     "name": "stdout",
     "output_type": "stream",
     "text": [
      "Error translating text: 'list' object has no attribute 'strip'\n",
      "Error translating text: 'list' object has no attribute 'strip'\n",
      "Error translating text: 'list' object has no attribute 'strip'\n",
      "Error translating text: 'list' object has no attribute 'strip'\n",
      "Error translating text: 'list' object has no attribute 'strip'\n",
      "Error translating text: 'list' object has no attribute 'strip'\n"
     ]
    },
    {
     "name": "stderr",
     "output_type": "stream",
     "text": [
      "c:\\Users\\hp\\anaconda3\\lib\\site-packages\\textblob\\blob.py:563: DeprecationWarning: TextBlob.translate is deprecated and will be removed in a future release. Use the official Google Translate API instead.\n",
      "  warnings.warn(\n",
      "c:\\Users\\hp\\anaconda3\\lib\\site-packages\\textblob\\blob.py:563: DeprecationWarning: TextBlob.translate is deprecated and will be removed in a future release. Use the official Google Translate API instead.\n",
      "  warnings.warn(\n",
      "c:\\Users\\hp\\anaconda3\\lib\\site-packages\\textblob\\blob.py:563: DeprecationWarning: TextBlob.translate is deprecated and will be removed in a future release. Use the official Google Translate API instead.\n",
      "  warnings.warn(\n",
      "c:\\Users\\hp\\anaconda3\\lib\\site-packages\\textblob\\blob.py:563: DeprecationWarning: TextBlob.translate is deprecated and will be removed in a future release. Use the official Google Translate API instead.\n",
      "  warnings.warn(\n",
      "c:\\Users\\hp\\anaconda3\\lib\\site-packages\\textblob\\blob.py:563: DeprecationWarning: TextBlob.translate is deprecated and will be removed in a future release. Use the official Google Translate API instead.\n",
      "  warnings.warn(\n",
      "c:\\Users\\hp\\anaconda3\\lib\\site-packages\\textblob\\blob.py:563: DeprecationWarning: TextBlob.translate is deprecated and will be removed in a future release. Use the official Google Translate API instead.\n",
      "  warnings.warn(\n"
     ]
    },
    {
     "name": "stdout",
     "output_type": "stream",
     "text": [
      "Error translating text: 'list' object has no attribute 'strip'\n",
      "Error translating text: 'list' object has no attribute 'strip'\n",
      "Error translating text: 'list' object has no attribute 'strip'\n"
     ]
    },
    {
     "name": "stderr",
     "output_type": "stream",
     "text": [
      "c:\\Users\\hp\\anaconda3\\lib\\site-packages\\textblob\\blob.py:563: DeprecationWarning: TextBlob.translate is deprecated and will be removed in a future release. Use the official Google Translate API instead.\n",
      "  warnings.warn(\n",
      "c:\\Users\\hp\\anaconda3\\lib\\site-packages\\textblob\\blob.py:563: DeprecationWarning: TextBlob.translate is deprecated and will be removed in a future release. Use the official Google Translate API instead.\n",
      "  warnings.warn(\n",
      "c:\\Users\\hp\\anaconda3\\lib\\site-packages\\textblob\\blob.py:563: DeprecationWarning: TextBlob.translate is deprecated and will be removed in a future release. Use the official Google Translate API instead.\n",
      "  warnings.warn(\n"
     ]
    },
    {
     "name": "stdout",
     "output_type": "stream",
     "text": [
      "Error translating text: 'list' object has no attribute 'strip'\n",
      "Error translating text: 'list' object has no attribute 'strip'\n",
      "Error translating text: 'list' object has no attribute 'strip'\n",
      "Error translating text: 'list' object has no attribute 'strip'\n",
      "Error translating text: 'list' object has no attribute 'strip'\n",
      "Error translating text: 'list' object has no attribute 'strip'\n",
      "Error translating text: 'list' object has no attribute 'strip'\n"
     ]
    },
    {
     "name": "stderr",
     "output_type": "stream",
     "text": [
      "c:\\Users\\hp\\anaconda3\\lib\\site-packages\\textblob\\blob.py:563: DeprecationWarning: TextBlob.translate is deprecated and will be removed in a future release. Use the official Google Translate API instead.\n",
      "  warnings.warn(\n",
      "c:\\Users\\hp\\anaconda3\\lib\\site-packages\\textblob\\blob.py:563: DeprecationWarning: TextBlob.translate is deprecated and will be removed in a future release. Use the official Google Translate API instead.\n",
      "  warnings.warn(\n",
      "c:\\Users\\hp\\anaconda3\\lib\\site-packages\\textblob\\blob.py:563: DeprecationWarning: TextBlob.translate is deprecated and will be removed in a future release. Use the official Google Translate API instead.\n",
      "  warnings.warn(\n",
      "c:\\Users\\hp\\anaconda3\\lib\\site-packages\\textblob\\blob.py:563: DeprecationWarning: TextBlob.translate is deprecated and will be removed in a future release. Use the official Google Translate API instead.\n",
      "  warnings.warn(\n",
      "c:\\Users\\hp\\anaconda3\\lib\\site-packages\\textblob\\blob.py:563: DeprecationWarning: TextBlob.translate is deprecated and will be removed in a future release. Use the official Google Translate API instead.\n",
      "  warnings.warn(\n",
      "c:\\Users\\hp\\anaconda3\\lib\\site-packages\\textblob\\blob.py:563: DeprecationWarning: TextBlob.translate is deprecated and will be removed in a future release. Use the official Google Translate API instead.\n",
      "  warnings.warn(\n",
      "c:\\Users\\hp\\anaconda3\\lib\\site-packages\\textblob\\blob.py:563: DeprecationWarning: TextBlob.translate is deprecated and will be removed in a future release. Use the official Google Translate API instead.\n",
      "  warnings.warn(\n"
     ]
    },
    {
     "name": "stdout",
     "output_type": "stream",
     "text": [
      "Error translating text: 'list' object has no attribute 'strip'\n",
      "Error translating text: 'list' object has no attribute 'strip'\n",
      "Error translating text: 'list' object has no attribute 'strip'\n",
      "Error translating text: 'list' object has no attribute 'strip'\n",
      "Error translating text: 'list' object has no attribute 'strip'\n"
     ]
    },
    {
     "name": "stderr",
     "output_type": "stream",
     "text": [
      "c:\\Users\\hp\\anaconda3\\lib\\site-packages\\textblob\\blob.py:563: DeprecationWarning: TextBlob.translate is deprecated and will be removed in a future release. Use the official Google Translate API instead.\n",
      "  warnings.warn(\n",
      "c:\\Users\\hp\\anaconda3\\lib\\site-packages\\textblob\\blob.py:563: DeprecationWarning: TextBlob.translate is deprecated and will be removed in a future release. Use the official Google Translate API instead.\n",
      "  warnings.warn(\n",
      "c:\\Users\\hp\\anaconda3\\lib\\site-packages\\textblob\\blob.py:563: DeprecationWarning: TextBlob.translate is deprecated and will be removed in a future release. Use the official Google Translate API instead.\n",
      "  warnings.warn(\n",
      "c:\\Users\\hp\\anaconda3\\lib\\site-packages\\textblob\\blob.py:563: DeprecationWarning: TextBlob.translate is deprecated and will be removed in a future release. Use the official Google Translate API instead.\n",
      "  warnings.warn(\n",
      "c:\\Users\\hp\\anaconda3\\lib\\site-packages\\textblob\\blob.py:563: DeprecationWarning: TextBlob.translate is deprecated and will be removed in a future release. Use the official Google Translate API instead.\n",
      "  warnings.warn(\n"
     ]
    },
    {
     "name": "stdout",
     "output_type": "stream",
     "text": [
      "Error translating text: 'list' object has no attribute 'strip'\n",
      "Error translating text: 'list' object has no attribute 'strip'\n"
     ]
    },
    {
     "name": "stderr",
     "output_type": "stream",
     "text": [
      "c:\\Users\\hp\\anaconda3\\lib\\site-packages\\textblob\\blob.py:563: DeprecationWarning: TextBlob.translate is deprecated and will be removed in a future release. Use the official Google Translate API instead.\n",
      "  warnings.warn(\n",
      "c:\\Users\\hp\\anaconda3\\lib\\site-packages\\textblob\\blob.py:563: DeprecationWarning: TextBlob.translate is deprecated and will be removed in a future release. Use the official Google Translate API instead.\n",
      "  warnings.warn(\n"
     ]
    },
    {
     "name": "stdout",
     "output_type": "stream",
     "text": [
      "Error translating text: 'list' object has no attribute 'strip'\n",
      "Error translating text: 'list' object has no attribute 'strip'\n",
      "Error translating text: 'list' object has no attribute 'strip'\n",
      "Error translating text: 'list' object has no attribute 'strip'\n"
     ]
    },
    {
     "name": "stderr",
     "output_type": "stream",
     "text": [
      "c:\\Users\\hp\\anaconda3\\lib\\site-packages\\textblob\\blob.py:563: DeprecationWarning: TextBlob.translate is deprecated and will be removed in a future release. Use the official Google Translate API instead.\n",
      "  warnings.warn(\n",
      "c:\\Users\\hp\\anaconda3\\lib\\site-packages\\textblob\\blob.py:563: DeprecationWarning: TextBlob.translate is deprecated and will be removed in a future release. Use the official Google Translate API instead.\n",
      "  warnings.warn(\n",
      "c:\\Users\\hp\\anaconda3\\lib\\site-packages\\textblob\\blob.py:563: DeprecationWarning: TextBlob.translate is deprecated and will be removed in a future release. Use the official Google Translate API instead.\n",
      "  warnings.warn(\n",
      "c:\\Users\\hp\\anaconda3\\lib\\site-packages\\textblob\\blob.py:563: DeprecationWarning: TextBlob.translate is deprecated and will be removed in a future release. Use the official Google Translate API instead.\n",
      "  warnings.warn(\n"
     ]
    },
    {
     "name": "stdout",
     "output_type": "stream",
     "text": [
      "Error translating text: 'list' object has no attribute 'strip'\n",
      "Error translating text: 'list' object has no attribute 'strip'\n",
      "Error translating text: 'list' object has no attribute 'strip'\n",
      "Error translating text: 'list' object has no attribute 'strip'\n",
      "Error translating text: 'list' object has no attribute 'strip'\n",
      "Error translating text: 'list' object has no attribute 'strip'\n",
      "Error translating text: 'list' object has no attribute 'strip'"
     ]
    },
    {
     "name": "stderr",
     "output_type": "stream",
     "text": [
      "c:\\Users\\hp\\anaconda3\\lib\\site-packages\\textblob\\blob.py:563: DeprecationWarning: TextBlob.translate is deprecated and will be removed in a future release. Use the official Google Translate API instead.\n",
      "  warnings.warn(\n",
      "c:\\Users\\hp\\anaconda3\\lib\\site-packages\\textblob\\blob.py:563: DeprecationWarning: TextBlob.translate is deprecated and will be removed in a future release. Use the official Google Translate API instead.\n",
      "  warnings.warn(\n",
      "c:\\Users\\hp\\anaconda3\\lib\\site-packages\\textblob\\blob.py:563: DeprecationWarning: TextBlob.translate is deprecated and will be removed in a future release. Use the official Google Translate API instead.\n",
      "  warnings.warn(\n",
      "c:\\Users\\hp\\anaconda3\\lib\\site-packages\\textblob\\blob.py:563: DeprecationWarning: TextBlob.translate is deprecated and will be removed in a future release. Use the official Google Translate API instead.\n",
      "  warnings.warn(\n",
      "c:\\Users\\hp\\anaconda3\\lib\\site-packages\\textblob\\blob.py:563: DeprecationWarning: TextBlob.translate is deprecated and will be removed in a future release. Use the official Google Translate API instead.\n",
      "  warnings.warn(\n",
      "c:\\Users\\hp\\anaconda3\\lib\\site-packages\\textblob\\blob.py:563: DeprecationWarning: TextBlob.translate is deprecated and will be removed in a future release. Use the official Google Translate API instead.\n",
      "  warnings.warn(\n"
     ]
    },
    {
     "name": "stdout",
     "output_type": "stream",
     "text": [
      "\n",
      "Error translating text: 'list' object has no attribute 'strip'\n",
      "Error translating text: 'list' object has no attribute 'strip'\n",
      "Error translating text: 'list' object has no attribute 'strip'\n",
      "Error translating text: 'list' object has no attribute 'strip'\n",
      "Error translating text: 'list' object has no attribute 'strip'\n",
      "Error translating text: 'list' object has no attribute 'strip'\n"
     ]
    },
    {
     "name": "stderr",
     "output_type": "stream",
     "text": [
      "c:\\Users\\hp\\anaconda3\\lib\\site-packages\\textblob\\blob.py:563: DeprecationWarning: TextBlob.translate is deprecated and will be removed in a future release. Use the official Google Translate API instead.\n",
      "  warnings.warn(\n",
      "c:\\Users\\hp\\anaconda3\\lib\\site-packages\\textblob\\blob.py:563: DeprecationWarning: TextBlob.translate is deprecated and will be removed in a future release. Use the official Google Translate API instead.\n",
      "  warnings.warn(\n",
      "c:\\Users\\hp\\anaconda3\\lib\\site-packages\\textblob\\blob.py:563: DeprecationWarning: TextBlob.translate is deprecated and will be removed in a future release. Use the official Google Translate API instead.\n",
      "  warnings.warn(\n",
      "c:\\Users\\hp\\anaconda3\\lib\\site-packages\\textblob\\blob.py:563: DeprecationWarning: TextBlob.translate is deprecated and will be removed in a future release. Use the official Google Translate API instead.\n",
      "  warnings.warn(\n",
      "c:\\Users\\hp\\anaconda3\\lib\\site-packages\\textblob\\blob.py:563: DeprecationWarning: TextBlob.translate is deprecated and will be removed in a future release. Use the official Google Translate API instead.\n",
      "  warnings.warn(\n",
      "c:\\Users\\hp\\anaconda3\\lib\\site-packages\\textblob\\blob.py:563: DeprecationWarning: TextBlob.translate is deprecated and will be removed in a future release. Use the official Google Translate API instead.\n",
      "  warnings.warn(\n",
      "c:\\Users\\hp\\anaconda3\\lib\\site-packages\\textblob\\blob.py:563: DeprecationWarning: TextBlob.translate is deprecated and will be removed in a future release. Use the official Google Translate API instead.\n",
      "  warnings.warn(\n"
     ]
    },
    {
     "name": "stdout",
     "output_type": "stream",
     "text": [
      "Error translating text: 'list' object has no attribute 'strip'\n",
      "Error translating text: 'list' object has no attribute 'strip'\n",
      "Error translating text: 'list' object has no attribute 'strip'\n",
      "Error translating text: 'list' object has no attribute 'strip'\n",
      "Error translating text: 'list' object has no attribute 'strip'\n"
     ]
    },
    {
     "name": "stderr",
     "output_type": "stream",
     "text": [
      "c:\\Users\\hp\\anaconda3\\lib\\site-packages\\textblob\\blob.py:563: DeprecationWarning: TextBlob.translate is deprecated and will be removed in a future release. Use the official Google Translate API instead.\n",
      "  warnings.warn(\n",
      "c:\\Users\\hp\\anaconda3\\lib\\site-packages\\textblob\\blob.py:563: DeprecationWarning: TextBlob.translate is deprecated and will be removed in a future release. Use the official Google Translate API instead.\n",
      "  warnings.warn(\n",
      "c:\\Users\\hp\\anaconda3\\lib\\site-packages\\textblob\\blob.py:563: DeprecationWarning: TextBlob.translate is deprecated and will be removed in a future release. Use the official Google Translate API instead.\n",
      "  warnings.warn(\n",
      "c:\\Users\\hp\\anaconda3\\lib\\site-packages\\textblob\\blob.py:563: DeprecationWarning: TextBlob.translate is deprecated and will be removed in a future release. Use the official Google Translate API instead.\n",
      "  warnings.warn(\n",
      "c:\\Users\\hp\\anaconda3\\lib\\site-packages\\textblob\\blob.py:563: DeprecationWarning: TextBlob.translate is deprecated and will be removed in a future release. Use the official Google Translate API instead.\n",
      "  warnings.warn(\n"
     ]
    },
    {
     "name": "stdout",
     "output_type": "stream",
     "text": [
      "Error translating text: 'list' object has no attribute 'strip'\n",
      "Error translating text: 'list' object has no attribute 'strip'\n",
      "Error translating text: 'list' object has no attribute 'strip'\n",
      "Error translating text: 'list' object has no attribute 'strip'\n",
      "Error translating text: 'list' object has no attribute 'strip'\n",
      "Error translating text: 'list' object has no attribute 'strip'\n"
     ]
    },
    {
     "name": "stderr",
     "output_type": "stream",
     "text": [
      "c:\\Users\\hp\\anaconda3\\lib\\site-packages\\textblob\\blob.py:563: DeprecationWarning: TextBlob.translate is deprecated and will be removed in a future release. Use the official Google Translate API instead.\n",
      "  warnings.warn(\n",
      "c:\\Users\\hp\\anaconda3\\lib\\site-packages\\textblob\\blob.py:563: DeprecationWarning: TextBlob.translate is deprecated and will be removed in a future release. Use the official Google Translate API instead.\n",
      "  warnings.warn(\n",
      "c:\\Users\\hp\\anaconda3\\lib\\site-packages\\textblob\\blob.py:563: DeprecationWarning: TextBlob.translate is deprecated and will be removed in a future release. Use the official Google Translate API instead.\n",
      "  warnings.warn(\n",
      "c:\\Users\\hp\\anaconda3\\lib\\site-packages\\textblob\\blob.py:563: DeprecationWarning: TextBlob.translate is deprecated and will be removed in a future release. Use the official Google Translate API instead.\n",
      "  warnings.warn(\n",
      "c:\\Users\\hp\\anaconda3\\lib\\site-packages\\textblob\\blob.py:563: DeprecationWarning: TextBlob.translate is deprecated and will be removed in a future release. Use the official Google Translate API instead.\n",
      "  warnings.warn(\n",
      "c:\\Users\\hp\\anaconda3\\lib\\site-packages\\textblob\\blob.py:563: DeprecationWarning: TextBlob.translate is deprecated and will be removed in a future release. Use the official Google Translate API instead.\n",
      "  warnings.warn(\n"
     ]
    },
    {
     "name": "stdout",
     "output_type": "stream",
     "text": [
      "Error translating text: 'list' object has no attribute 'strip'\n",
      "Error translating text: 'list' object has no attribute 'strip'\n",
      "Error translating text: 'list' object has no attribute 'strip'\n",
      "Error translating text: 'list' object has no attribute 'strip'\n"
     ]
    },
    {
     "name": "stderr",
     "output_type": "stream",
     "text": [
      "c:\\Users\\hp\\anaconda3\\lib\\site-packages\\textblob\\blob.py:563: DeprecationWarning: TextBlob.translate is deprecated and will be removed in a future release. Use the official Google Translate API instead.\n",
      "  warnings.warn(\n",
      "c:\\Users\\hp\\anaconda3\\lib\\site-packages\\textblob\\blob.py:563: DeprecationWarning: TextBlob.translate is deprecated and will be removed in a future release. Use the official Google Translate API instead.\n",
      "  warnings.warn(\n",
      "c:\\Users\\hp\\anaconda3\\lib\\site-packages\\textblob\\blob.py:563: DeprecationWarning: TextBlob.translate is deprecated and will be removed in a future release. Use the official Google Translate API instead.\n",
      "  warnings.warn(\n",
      "c:\\Users\\hp\\anaconda3\\lib\\site-packages\\textblob\\blob.py:563: DeprecationWarning: TextBlob.translate is deprecated and will be removed in a future release. Use the official Google Translate API instead.\n",
      "  warnings.warn(\n"
     ]
    },
    {
     "ename": "KeyboardInterrupt",
     "evalue": "",
     "output_type": "error",
     "traceback": [
      "\u001b[1;31m---------------------------------------------------------------------------\u001b[0m",
      "\u001b[1;31mKeyboardInterrupt\u001b[0m                         Traceback (most recent call last)",
      "\u001b[1;32mc:\\Users\\hp\\OneDrive\\Documenti\\CSSci_sem3\\coding_3SEM\\scraping\\reviews_ML\\reviews_topic_modelling.ipynb Cell 2\u001b[0m line \u001b[0;36m<cell line: 22>\u001b[1;34m()\u001b[0m\n\u001b[0;32m     <a href='vscode-notebook-cell:/c%3A/Users/hp/OneDrive/Documenti/CSSci_sem3/coding_3SEM/scraping/reviews_ML/reviews_topic_modelling.ipynb#W1sZmlsZQ%3D%3D?line=18'>19</a>\u001b[0m         \u001b[39mreturn\u001b[39;00m text\n\u001b[0;32m     <a href='vscode-notebook-cell:/c%3A/Users/hp/OneDrive/Documenti/CSSci_sem3/coding_3SEM/scraping/reviews_ML/reviews_topic_modelling.ipynb#W1sZmlsZQ%3D%3D?line=20'>21</a>\u001b[0m \u001b[39m# Apply translation to non-English texts in the 'review_text' column\u001b[39;00m\n\u001b[1;32m---> <a href='vscode-notebook-cell:/c%3A/Users/hp/OneDrive/Documenti/CSSci_sem3/coding_3SEM/scraping/reviews_ML/reviews_topic_modelling.ipynb#W1sZmlsZQ%3D%3D?line=21'>22</a>\u001b[0m reviews_df[\u001b[39m'\u001b[39m\u001b[39mreview_text_english_textblob\u001b[39m\u001b[39m'\u001b[39m] \u001b[39m=\u001b[39m reviews_df[\u001b[39m'\u001b[39;49m\u001b[39mreview_text\u001b[39;49m\u001b[39m'\u001b[39;49m]\u001b[39m.\u001b[39;49mapply(translate_to_english_with_textblob)\n\u001b[0;32m     <a href='vscode-notebook-cell:/c%3A/Users/hp/OneDrive/Documenti/CSSci_sem3/coding_3SEM/scraping/reviews_ML/reviews_topic_modelling.ipynb#W1sZmlsZQ%3D%3D?line=23'>24</a>\u001b[0m \u001b[39m# Create a new dataframe with the relevant columns\u001b[39;00m\n\u001b[0;32m     <a href='vscode-notebook-cell:/c%3A/Users/hp/OneDrive/Documenti/CSSci_sem3/coding_3SEM/scraping/reviews_ML/reviews_topic_modelling.ipynb#W1sZmlsZQ%3D%3D?line=24'>25</a>\u001b[0m en_reviews_df_textblob \u001b[39m=\u001b[39m reviews_df[[\u001b[39m'\u001b[39m\u001b[39mname\u001b[39m\u001b[39m'\u001b[39m, \u001b[39m'\u001b[39m\u001b[39mplace_id\u001b[39m\u001b[39m'\u001b[39m, \u001b[39m'\u001b[39m\u001b[39mlocation_link\u001b[39m\u001b[39m'\u001b[39m, \u001b[39m'\u001b[39m\u001b[39mreviews_total\u001b[39m\u001b[39m'\u001b[39m, \u001b[39m'\u001b[39m\u001b[39mrating\u001b[39m\u001b[39m'\u001b[39m,\n\u001b[0;32m     <a href='vscode-notebook-cell:/c%3A/Users/hp/OneDrive/Documenti/CSSci_sem3/coding_3SEM/scraping/reviews_ML/reviews_topic_modelling.ipynb#W1sZmlsZQ%3D%3D?line=25'>26</a>\u001b[0m                                      \u001b[39m'\u001b[39m\u001b[39mreview_text\u001b[39m\u001b[39m'\u001b[39m, \u001b[39m'\u001b[39m\u001b[39mreview_rating\u001b[39m\u001b[39m'\u001b[39m, \u001b[39m'\u001b[39m\u001b[39mreview_datetime_utc\u001b[39m\u001b[39m'\u001b[39m,\n\u001b[0;32m     <a href='vscode-notebook-cell:/c%3A/Users/hp/OneDrive/Documenti/CSSci_sem3/coding_3SEM/scraping/reviews_ML/reviews_topic_modelling.ipynb#W1sZmlsZQ%3D%3D?line=26'>27</a>\u001b[0m                                      \u001b[39m'\u001b[39m\u001b[39mreviews_per_score_1\u001b[39m\u001b[39m'\u001b[39m, \u001b[39m'\u001b[39m\u001b[39mreviews_per_score_2\u001b[39m\u001b[39m'\u001b[39m, \u001b[39m'\u001b[39m\u001b[39mreviews_per_score_3\u001b[39m\u001b[39m'\u001b[39m,\n\u001b[0;32m     <a href='vscode-notebook-cell:/c%3A/Users/hp/OneDrive/Documenti/CSSci_sem3/coding_3SEM/scraping/reviews_ML/reviews_topic_modelling.ipynb#W1sZmlsZQ%3D%3D?line=27'>28</a>\u001b[0m                                      \u001b[39m'\u001b[39m\u001b[39mreviews_per_score_4\u001b[39m\u001b[39m'\u001b[39m, \u001b[39m'\u001b[39m\u001b[39mreviews_per_score_5\u001b[39m\u001b[39m'\u001b[39m, \u001b[39m'\u001b[39m\u001b[39mreview_text_english_textblob\u001b[39m\u001b[39m'\u001b[39m]]\n",
      "File \u001b[1;32mc:\\Users\\hp\\anaconda3\\lib\\site-packages\\pandas\\core\\series.py:4753\u001b[0m, in \u001b[0;36mSeries.apply\u001b[1;34m(self, func, convert_dtype, args, by_row, **kwargs)\u001b[0m\n\u001b[0;32m   4625\u001b[0m \u001b[39mdef\u001b[39;00m \u001b[39mapply\u001b[39m(\n\u001b[0;32m   4626\u001b[0m     \u001b[39mself\u001b[39m,\n\u001b[0;32m   4627\u001b[0m     func: AggFuncType,\n\u001b[1;32m   (...)\u001b[0m\n\u001b[0;32m   4632\u001b[0m     \u001b[39m*\u001b[39m\u001b[39m*\u001b[39mkwargs,\n\u001b[0;32m   4633\u001b[0m ) \u001b[39m-\u001b[39m\u001b[39m>\u001b[39m DataFrame \u001b[39m|\u001b[39m Series:\n\u001b[0;32m   4634\u001b[0m     \u001b[39m\"\"\"\u001b[39;00m\n\u001b[0;32m   4635\u001b[0m \u001b[39m    Invoke function on values of Series.\u001b[39;00m\n\u001b[0;32m   4636\u001b[0m \n\u001b[1;32m   (...)\u001b[0m\n\u001b[0;32m   4751\u001b[0m \u001b[39m    dtype: float64\u001b[39;00m\n\u001b[0;32m   4752\u001b[0m \u001b[39m    \"\"\"\u001b[39;00m\n\u001b[1;32m-> 4753\u001b[0m     \u001b[39mreturn\u001b[39;00m SeriesApply(\n\u001b[0;32m   4754\u001b[0m         \u001b[39mself\u001b[39;49m,\n\u001b[0;32m   4755\u001b[0m         func,\n\u001b[0;32m   4756\u001b[0m         convert_dtype\u001b[39m=\u001b[39;49mconvert_dtype,\n\u001b[0;32m   4757\u001b[0m         by_row\u001b[39m=\u001b[39;49mby_row,\n\u001b[0;32m   4758\u001b[0m         args\u001b[39m=\u001b[39;49margs,\n\u001b[0;32m   4759\u001b[0m         kwargs\u001b[39m=\u001b[39;49mkwargs,\n\u001b[0;32m   4760\u001b[0m     )\u001b[39m.\u001b[39;49mapply()\n",
      "File \u001b[1;32mc:\\Users\\hp\\anaconda3\\lib\\site-packages\\pandas\\core\\apply.py:1207\u001b[0m, in \u001b[0;36mSeriesApply.apply\u001b[1;34m(self)\u001b[0m\n\u001b[0;32m   1204\u001b[0m     \u001b[39mreturn\u001b[39;00m \u001b[39mself\u001b[39m\u001b[39m.\u001b[39mapply_compat()\n\u001b[0;32m   1206\u001b[0m \u001b[39m# self.func is Callable\u001b[39;00m\n\u001b[1;32m-> 1207\u001b[0m \u001b[39mreturn\u001b[39;00m \u001b[39mself\u001b[39;49m\u001b[39m.\u001b[39;49mapply_standard()\n",
      "File \u001b[1;32mc:\\Users\\hp\\anaconda3\\lib\\site-packages\\pandas\\core\\apply.py:1287\u001b[0m, in \u001b[0;36mSeriesApply.apply_standard\u001b[1;34m(self)\u001b[0m\n\u001b[0;32m   1281\u001b[0m \u001b[39m# row-wise access\u001b[39;00m\n\u001b[0;32m   1282\u001b[0m \u001b[39m# apply doesn't have a `na_action` keyword and for backward compat reasons\u001b[39;00m\n\u001b[0;32m   1283\u001b[0m \u001b[39m# we need to give `na_action=\"ignore\"` for categorical data.\u001b[39;00m\n\u001b[0;32m   1284\u001b[0m \u001b[39m# TODO: remove the `na_action=\"ignore\"` when that default has been changed in\u001b[39;00m\n\u001b[0;32m   1285\u001b[0m \u001b[39m#  Categorical (GH51645).\u001b[39;00m\n\u001b[0;32m   1286\u001b[0m action \u001b[39m=\u001b[39m \u001b[39m\"\u001b[39m\u001b[39mignore\u001b[39m\u001b[39m\"\u001b[39m \u001b[39mif\u001b[39;00m \u001b[39misinstance\u001b[39m(obj\u001b[39m.\u001b[39mdtype, CategoricalDtype) \u001b[39melse\u001b[39;00m \u001b[39mNone\u001b[39;00m\n\u001b[1;32m-> 1287\u001b[0m mapped \u001b[39m=\u001b[39m obj\u001b[39m.\u001b[39;49m_map_values(\n\u001b[0;32m   1288\u001b[0m     mapper\u001b[39m=\u001b[39;49mcurried, na_action\u001b[39m=\u001b[39;49maction, convert\u001b[39m=\u001b[39;49m\u001b[39mself\u001b[39;49m\u001b[39m.\u001b[39;49mconvert_dtype\n\u001b[0;32m   1289\u001b[0m )\n\u001b[0;32m   1291\u001b[0m \u001b[39mif\u001b[39;00m \u001b[39mlen\u001b[39m(mapped) \u001b[39mand\u001b[39;00m \u001b[39misinstance\u001b[39m(mapped[\u001b[39m0\u001b[39m], ABCSeries):\n\u001b[0;32m   1292\u001b[0m     \u001b[39m# GH#43986 Need to do list(mapped) in order to get treated as nested\u001b[39;00m\n\u001b[0;32m   1293\u001b[0m     \u001b[39m#  See also GH#25959 regarding EA support\u001b[39;00m\n\u001b[0;32m   1294\u001b[0m     \u001b[39mreturn\u001b[39;00m obj\u001b[39m.\u001b[39m_constructor_expanddim(\u001b[39mlist\u001b[39m(mapped), index\u001b[39m=\u001b[39mobj\u001b[39m.\u001b[39mindex)\n",
      "File \u001b[1;32mc:\\Users\\hp\\anaconda3\\lib\\site-packages\\pandas\\core\\base.py:921\u001b[0m, in \u001b[0;36mIndexOpsMixin._map_values\u001b[1;34m(self, mapper, na_action, convert)\u001b[0m\n\u001b[0;32m    918\u001b[0m \u001b[39mif\u001b[39;00m \u001b[39misinstance\u001b[39m(arr, ExtensionArray):\n\u001b[0;32m    919\u001b[0m     \u001b[39mreturn\u001b[39;00m arr\u001b[39m.\u001b[39mmap(mapper, na_action\u001b[39m=\u001b[39mna_action)\n\u001b[1;32m--> 921\u001b[0m \u001b[39mreturn\u001b[39;00m algorithms\u001b[39m.\u001b[39;49mmap_array(arr, mapper, na_action\u001b[39m=\u001b[39;49mna_action, convert\u001b[39m=\u001b[39;49mconvert)\n",
      "File \u001b[1;32mc:\\Users\\hp\\anaconda3\\lib\\site-packages\\pandas\\core\\algorithms.py:1814\u001b[0m, in \u001b[0;36mmap_array\u001b[1;34m(arr, mapper, na_action, convert)\u001b[0m\n\u001b[0;32m   1812\u001b[0m values \u001b[39m=\u001b[39m arr\u001b[39m.\u001b[39mastype(\u001b[39mobject\u001b[39m, copy\u001b[39m=\u001b[39m\u001b[39mFalse\u001b[39;00m)\n\u001b[0;32m   1813\u001b[0m \u001b[39mif\u001b[39;00m na_action \u001b[39mis\u001b[39;00m \u001b[39mNone\u001b[39;00m:\n\u001b[1;32m-> 1814\u001b[0m     \u001b[39mreturn\u001b[39;00m lib\u001b[39m.\u001b[39;49mmap_infer(values, mapper, convert\u001b[39m=\u001b[39;49mconvert)\n\u001b[0;32m   1815\u001b[0m \u001b[39melse\u001b[39;00m:\n\u001b[0;32m   1816\u001b[0m     \u001b[39mreturn\u001b[39;00m lib\u001b[39m.\u001b[39mmap_infer_mask(\n\u001b[0;32m   1817\u001b[0m         values, mapper, mask\u001b[39m=\u001b[39misna(values)\u001b[39m.\u001b[39mview(np\u001b[39m.\u001b[39muint8), convert\u001b[39m=\u001b[39mconvert\n\u001b[0;32m   1818\u001b[0m     )\n",
      "File \u001b[1;32mlib.pyx:2920\u001b[0m, in \u001b[0;36mpandas._libs.lib.map_infer\u001b[1;34m()\u001b[0m\n",
      "\u001b[1;32mc:\\Users\\hp\\OneDrive\\Documenti\\CSSci_sem3\\coding_3SEM\\scraping\\reviews_ML\\reviews_topic_modelling.ipynb Cell 2\u001b[0m line \u001b[0;36mtranslate_to_english_with_textblob\u001b[1;34m(text)\u001b[0m\n\u001b[0;32m     <a href='vscode-notebook-cell:/c%3A/Users/hp/OneDrive/Documenti/CSSci_sem3/coding_3SEM/scraping/reviews_ML/reviews_topic_modelling.ipynb#W1sZmlsZQ%3D%3D?line=11'>12</a>\u001b[0m \u001b[39mtry\u001b[39;00m:\n\u001b[0;32m     <a href='vscode-notebook-cell:/c%3A/Users/hp/OneDrive/Documenti/CSSci_sem3/coding_3SEM/scraping/reviews_ML/reviews_topic_modelling.ipynb#W1sZmlsZQ%3D%3D?line=12'>13</a>\u001b[0m     blob \u001b[39m=\u001b[39m TextBlob(text)\n\u001b[1;32m---> <a href='vscode-notebook-cell:/c%3A/Users/hp/OneDrive/Documenti/CSSci_sem3/coding_3SEM/scraping/reviews_ML/reviews_topic_modelling.ipynb#W1sZmlsZQ%3D%3D?line=13'>14</a>\u001b[0m     translated_text \u001b[39m=\u001b[39m \u001b[39mstr\u001b[39m(blob\u001b[39m.\u001b[39;49mtranslate(to\u001b[39m=\u001b[39;49m\u001b[39m'\u001b[39;49m\u001b[39men\u001b[39;49m\u001b[39m'\u001b[39;49m))\n\u001b[0;32m     <a href='vscode-notebook-cell:/c%3A/Users/hp/OneDrive/Documenti/CSSci_sem3/coding_3SEM/scraping/reviews_ML/reviews_topic_modelling.ipynb#W1sZmlsZQ%3D%3D?line=15'>16</a>\u001b[0m     \u001b[39mreturn\u001b[39;00m translated_text\n\u001b[0;32m     <a href='vscode-notebook-cell:/c%3A/Users/hp/OneDrive/Documenti/CSSci_sem3/coding_3SEM/scraping/reviews_ML/reviews_topic_modelling.ipynb#W1sZmlsZQ%3D%3D?line=16'>17</a>\u001b[0m \u001b[39mexcept\u001b[39;00m \u001b[39mException\u001b[39;00m \u001b[39mas\u001b[39;00m e:\n",
      "File \u001b[1;32mc:\\Users\\hp\\anaconda3\\lib\\site-packages\\textblob\\blob.py:568\u001b[0m, in \u001b[0;36mBaseBlob.translate\u001b[1;34m(self, from_lang, to)\u001b[0m\n\u001b[0;32m    539\u001b[0m \u001b[39m\"\"\"Translate the blob to another language.\u001b[39;00m\n\u001b[0;32m    540\u001b[0m \u001b[39mUses the Google Translate API. Returns a new TextBlob.\u001b[39;00m\n\u001b[0;32m    541\u001b[0m \n\u001b[1;32m   (...)\u001b[0m\n\u001b[0;32m    561\u001b[0m \u001b[39m:rtype: :class:`BaseBlob <BaseBlob>`\u001b[39;00m\n\u001b[0;32m    562\u001b[0m \u001b[39m\"\"\"\u001b[39;00m\n\u001b[0;32m    563\u001b[0m warnings\u001b[39m.\u001b[39mwarn(\n\u001b[0;32m    564\u001b[0m     \u001b[39m'\u001b[39m\u001b[39mTextBlob.translate is deprecated and will be removed in a future release. \u001b[39m\u001b[39m'\u001b[39m\n\u001b[0;32m    565\u001b[0m     \u001b[39m'\u001b[39m\u001b[39mUse the official Google Translate API instead.\u001b[39m\u001b[39m'\u001b[39m,\n\u001b[0;32m    566\u001b[0m     \u001b[39mDeprecationWarning\u001b[39;00m\n\u001b[0;32m    567\u001b[0m )\n\u001b[1;32m--> 568\u001b[0m \u001b[39mreturn\u001b[39;00m \u001b[39mself\u001b[39m\u001b[39m.\u001b[39m\u001b[39m__class__\u001b[39m(\u001b[39mself\u001b[39;49m\u001b[39m.\u001b[39;49mtranslator\u001b[39m.\u001b[39;49mtranslate(\u001b[39mself\u001b[39;49m\u001b[39m.\u001b[39;49mraw,\n\u001b[0;32m    569\u001b[0m                       from_lang\u001b[39m=\u001b[39;49mfrom_lang, to_lang\u001b[39m=\u001b[39;49mto))\n",
      "File \u001b[1;32mc:\\Users\\hp\\anaconda3\\lib\\site-packages\\textblob\\translate.py:54\u001b[0m, in \u001b[0;36mTranslator.translate\u001b[1;34m(self, source, from_lang, to_lang, host, type_)\u001b[0m\n\u001b[0;32m     46\u001b[0m data \u001b[39m=\u001b[39m {\u001b[39m\"\u001b[39m\u001b[39mq\u001b[39m\u001b[39m\"\u001b[39m: source}\n\u001b[0;32m     47\u001b[0m url \u001b[39m=\u001b[39m \u001b[39mu\u001b[39m\u001b[39m'\u001b[39m\u001b[39m{url}\u001b[39;00m\u001b[39m&sl=\u001b[39m\u001b[39m{from_lang}\u001b[39;00m\u001b[39m&tl=\u001b[39m\u001b[39m{to_lang}\u001b[39;00m\u001b[39m&hl=\u001b[39m\u001b[39m{to_lang}\u001b[39;00m\u001b[39m&tk=\u001b[39m\u001b[39m{tk}\u001b[39;00m\u001b[39m&client=\u001b[39m\u001b[39m{client}\u001b[39;00m\u001b[39m'\u001b[39m\u001b[39m.\u001b[39mformat(\n\u001b[0;32m     48\u001b[0m     url\u001b[39m=\u001b[39m\u001b[39mself\u001b[39m\u001b[39m.\u001b[39murl,\n\u001b[0;32m     49\u001b[0m     from_lang\u001b[39m=\u001b[39mfrom_lang,\n\u001b[1;32m   (...)\u001b[0m\n\u001b[0;32m     52\u001b[0m     client\u001b[39m=\u001b[39m\u001b[39m\"\u001b[39m\u001b[39mte\u001b[39m\u001b[39m\"\u001b[39m,\n\u001b[0;32m     53\u001b[0m )\n\u001b[1;32m---> 54\u001b[0m response \u001b[39m=\u001b[39m \u001b[39mself\u001b[39;49m\u001b[39m.\u001b[39;49m_request(url, host\u001b[39m=\u001b[39;49mhost, type_\u001b[39m=\u001b[39;49mtype_, data\u001b[39m=\u001b[39;49mdata)\n\u001b[0;32m     55\u001b[0m result \u001b[39m=\u001b[39m json\u001b[39m.\u001b[39mloads(response)\n\u001b[0;32m     56\u001b[0m \u001b[39mif\u001b[39;00m \u001b[39misinstance\u001b[39m(result, \u001b[39mlist\u001b[39m):\n",
      "File \u001b[1;32mc:\\Users\\hp\\anaconda3\\lib\\site-packages\\textblob\\translate.py:96\u001b[0m, in \u001b[0;36mTranslator._request\u001b[1;34m(self, url, host, type_, data)\u001b[0m\n\u001b[0;32m     94\u001b[0m \u001b[39mif\u001b[39;00m host \u001b[39mor\u001b[39;00m type_:\n\u001b[0;32m     95\u001b[0m     req\u001b[39m.\u001b[39mset_proxy(host\u001b[39m=\u001b[39mhost, \u001b[39mtype\u001b[39m\u001b[39m=\u001b[39mtype_)\n\u001b[1;32m---> 96\u001b[0m resp \u001b[39m=\u001b[39m request\u001b[39m.\u001b[39;49murlopen(req)\n\u001b[0;32m     97\u001b[0m content \u001b[39m=\u001b[39m resp\u001b[39m.\u001b[39mread()\n\u001b[0;32m     98\u001b[0m \u001b[39mreturn\u001b[39;00m content\u001b[39m.\u001b[39mdecode(\u001b[39m'\u001b[39m\u001b[39mutf-8\u001b[39m\u001b[39m'\u001b[39m)\n",
      "File \u001b[1;32mc:\\Users\\hp\\anaconda3\\lib\\urllib\\request.py:214\u001b[0m, in \u001b[0;36murlopen\u001b[1;34m(url, data, timeout, cafile, capath, cadefault, context)\u001b[0m\n\u001b[0;32m    212\u001b[0m \u001b[39melse\u001b[39;00m:\n\u001b[0;32m    213\u001b[0m     opener \u001b[39m=\u001b[39m _opener\n\u001b[1;32m--> 214\u001b[0m \u001b[39mreturn\u001b[39;00m opener\u001b[39m.\u001b[39;49mopen(url, data, timeout)\n",
      "File \u001b[1;32mc:\\Users\\hp\\anaconda3\\lib\\urllib\\request.py:517\u001b[0m, in \u001b[0;36mOpenerDirector.open\u001b[1;34m(self, fullurl, data, timeout)\u001b[0m\n\u001b[0;32m    514\u001b[0m     req \u001b[39m=\u001b[39m meth(req)\n\u001b[0;32m    516\u001b[0m sys\u001b[39m.\u001b[39maudit(\u001b[39m'\u001b[39m\u001b[39murllib.Request\u001b[39m\u001b[39m'\u001b[39m, req\u001b[39m.\u001b[39mfull_url, req\u001b[39m.\u001b[39mdata, req\u001b[39m.\u001b[39mheaders, req\u001b[39m.\u001b[39mget_method())\n\u001b[1;32m--> 517\u001b[0m response \u001b[39m=\u001b[39m \u001b[39mself\u001b[39;49m\u001b[39m.\u001b[39;49m_open(req, data)\n\u001b[0;32m    519\u001b[0m \u001b[39m# post-process response\u001b[39;00m\n\u001b[0;32m    520\u001b[0m meth_name \u001b[39m=\u001b[39m protocol\u001b[39m+\u001b[39m\u001b[39m\"\u001b[39m\u001b[39m_response\u001b[39m\u001b[39m\"\u001b[39m\n",
      "File \u001b[1;32mc:\\Users\\hp\\anaconda3\\lib\\urllib\\request.py:534\u001b[0m, in \u001b[0;36mOpenerDirector._open\u001b[1;34m(self, req, data)\u001b[0m\n\u001b[0;32m    531\u001b[0m     \u001b[39mreturn\u001b[39;00m result\n\u001b[0;32m    533\u001b[0m protocol \u001b[39m=\u001b[39m req\u001b[39m.\u001b[39mtype\n\u001b[1;32m--> 534\u001b[0m result \u001b[39m=\u001b[39m \u001b[39mself\u001b[39;49m\u001b[39m.\u001b[39;49m_call_chain(\u001b[39mself\u001b[39;49m\u001b[39m.\u001b[39;49mhandle_open, protocol, protocol \u001b[39m+\u001b[39;49m\n\u001b[0;32m    535\u001b[0m                           \u001b[39m'\u001b[39;49m\u001b[39m_open\u001b[39;49m\u001b[39m'\u001b[39;49m, req)\n\u001b[0;32m    536\u001b[0m \u001b[39mif\u001b[39;00m result:\n\u001b[0;32m    537\u001b[0m     \u001b[39mreturn\u001b[39;00m result\n",
      "File \u001b[1;32mc:\\Users\\hp\\anaconda3\\lib\\urllib\\request.py:494\u001b[0m, in \u001b[0;36mOpenerDirector._call_chain\u001b[1;34m(self, chain, kind, meth_name, *args)\u001b[0m\n\u001b[0;32m    492\u001b[0m \u001b[39mfor\u001b[39;00m handler \u001b[39min\u001b[39;00m handlers:\n\u001b[0;32m    493\u001b[0m     func \u001b[39m=\u001b[39m \u001b[39mgetattr\u001b[39m(handler, meth_name)\n\u001b[1;32m--> 494\u001b[0m     result \u001b[39m=\u001b[39m func(\u001b[39m*\u001b[39;49margs)\n\u001b[0;32m    495\u001b[0m     \u001b[39mif\u001b[39;00m result \u001b[39mis\u001b[39;00m \u001b[39mnot\u001b[39;00m \u001b[39mNone\u001b[39;00m:\n\u001b[0;32m    496\u001b[0m         \u001b[39mreturn\u001b[39;00m result\n",
      "File \u001b[1;32mc:\\Users\\hp\\anaconda3\\lib\\urllib\\request.py:1375\u001b[0m, in \u001b[0;36mHTTPHandler.http_open\u001b[1;34m(self, req)\u001b[0m\n\u001b[0;32m   1374\u001b[0m \u001b[39mdef\u001b[39;00m \u001b[39mhttp_open\u001b[39m(\u001b[39mself\u001b[39m, req):\n\u001b[1;32m-> 1375\u001b[0m     \u001b[39mreturn\u001b[39;00m \u001b[39mself\u001b[39;49m\u001b[39m.\u001b[39;49mdo_open(http\u001b[39m.\u001b[39;49mclient\u001b[39m.\u001b[39;49mHTTPConnection, req)\n",
      "File \u001b[1;32mc:\\Users\\hp\\anaconda3\\lib\\urllib\\request.py:1350\u001b[0m, in \u001b[0;36mAbstractHTTPHandler.do_open\u001b[1;34m(self, http_class, req, **http_conn_args)\u001b[0m\n\u001b[0;32m   1348\u001b[0m     \u001b[39mexcept\u001b[39;00m \u001b[39mOSError\u001b[39;00m \u001b[39mas\u001b[39;00m err: \u001b[39m# timeout error\u001b[39;00m\n\u001b[0;32m   1349\u001b[0m         \u001b[39mraise\u001b[39;00m URLError(err)\n\u001b[1;32m-> 1350\u001b[0m     r \u001b[39m=\u001b[39m h\u001b[39m.\u001b[39;49mgetresponse()\n\u001b[0;32m   1351\u001b[0m \u001b[39mexcept\u001b[39;00m:\n\u001b[0;32m   1352\u001b[0m     h\u001b[39m.\u001b[39mclose()\n",
      "File \u001b[1;32mc:\\Users\\hp\\anaconda3\\lib\\http\\client.py:1377\u001b[0m, in \u001b[0;36mHTTPConnection.getresponse\u001b[1;34m(self)\u001b[0m\n\u001b[0;32m   1375\u001b[0m \u001b[39mtry\u001b[39;00m:\n\u001b[0;32m   1376\u001b[0m     \u001b[39mtry\u001b[39;00m:\n\u001b[1;32m-> 1377\u001b[0m         response\u001b[39m.\u001b[39;49mbegin()\n\u001b[0;32m   1378\u001b[0m     \u001b[39mexcept\u001b[39;00m \u001b[39mConnectionError\u001b[39;00m:\n\u001b[0;32m   1379\u001b[0m         \u001b[39mself\u001b[39m\u001b[39m.\u001b[39mclose()\n",
      "File \u001b[1;32mc:\\Users\\hp\\anaconda3\\lib\\http\\client.py:320\u001b[0m, in \u001b[0;36mHTTPResponse.begin\u001b[1;34m(self)\u001b[0m\n\u001b[0;32m    318\u001b[0m \u001b[39m# read until we get a non-100 response\u001b[39;00m\n\u001b[0;32m    319\u001b[0m \u001b[39mwhile\u001b[39;00m \u001b[39mTrue\u001b[39;00m:\n\u001b[1;32m--> 320\u001b[0m     version, status, reason \u001b[39m=\u001b[39m \u001b[39mself\u001b[39;49m\u001b[39m.\u001b[39;49m_read_status()\n\u001b[0;32m    321\u001b[0m     \u001b[39mif\u001b[39;00m status \u001b[39m!=\u001b[39m CONTINUE:\n\u001b[0;32m    322\u001b[0m         \u001b[39mbreak\u001b[39;00m\n",
      "File \u001b[1;32mc:\\Users\\hp\\anaconda3\\lib\\http\\client.py:281\u001b[0m, in \u001b[0;36mHTTPResponse._read_status\u001b[1;34m(self)\u001b[0m\n\u001b[0;32m    280\u001b[0m \u001b[39mdef\u001b[39;00m \u001b[39m_read_status\u001b[39m(\u001b[39mself\u001b[39m):\n\u001b[1;32m--> 281\u001b[0m     line \u001b[39m=\u001b[39m \u001b[39mstr\u001b[39m(\u001b[39mself\u001b[39;49m\u001b[39m.\u001b[39;49mfp\u001b[39m.\u001b[39;49mreadline(_MAXLINE \u001b[39m+\u001b[39;49m \u001b[39m1\u001b[39;49m), \u001b[39m\"\u001b[39m\u001b[39miso-8859-1\u001b[39m\u001b[39m\"\u001b[39m)\n\u001b[0;32m    282\u001b[0m     \u001b[39mif\u001b[39;00m \u001b[39mlen\u001b[39m(line) \u001b[39m>\u001b[39m _MAXLINE:\n\u001b[0;32m    283\u001b[0m         \u001b[39mraise\u001b[39;00m LineTooLong(\u001b[39m\"\u001b[39m\u001b[39mstatus line\u001b[39m\u001b[39m\"\u001b[39m)\n",
      "File \u001b[1;32mc:\\Users\\hp\\anaconda3\\lib\\socket.py:704\u001b[0m, in \u001b[0;36mSocketIO.readinto\u001b[1;34m(self, b)\u001b[0m\n\u001b[0;32m    702\u001b[0m \u001b[39mwhile\u001b[39;00m \u001b[39mTrue\u001b[39;00m:\n\u001b[0;32m    703\u001b[0m     \u001b[39mtry\u001b[39;00m:\n\u001b[1;32m--> 704\u001b[0m         \u001b[39mreturn\u001b[39;00m \u001b[39mself\u001b[39;49m\u001b[39m.\u001b[39;49m_sock\u001b[39m.\u001b[39;49mrecv_into(b)\n\u001b[0;32m    705\u001b[0m     \u001b[39mexcept\u001b[39;00m timeout:\n\u001b[0;32m    706\u001b[0m         \u001b[39mself\u001b[39m\u001b[39m.\u001b[39m_timeout_occurred \u001b[39m=\u001b[39m \u001b[39mTrue\u001b[39;00m\n",
      "\u001b[1;31mKeyboardInterrupt\u001b[0m: "
     ]
    }
   ],
   "source": [
    "\n",
    "# load excel file as pandas dataframe\n",
    "reviews_df = pd.read_excel('google_maps_reviews_correct.xlsx')\n",
    "\n",
    "\n",
    "# Convert the 'review_text' column to string type\n",
    "reviews_df['review_text'] = reviews_df['review_text'].astype(str)\n",
    "\n",
    "from textblob import TextBlob\n",
    "\n",
    "# Function to translate text to English using TextBlob\n",
    "def translate_to_english_with_textblob(text):\n",
    "    try:\n",
    "        blob = TextBlob(text)\n",
    "        translated_text = str(blob.translate(to='en'))\n",
    "        \n",
    "        return translated_text\n",
    "    except Exception as e:\n",
    "        print(f\"Error translating text: {e}\")\n",
    "        return text\n",
    "\n",
    "# Apply translation to non-English texts in the 'review_text' column\n",
    "reviews_df['review_text_english_textblob'] = reviews_df['review_text'].apply(translate_to_english_with_textblob)\n",
    "\n",
    "# Create a new dataframe with the relevant columns\n",
    "en_reviews_df_textblob = reviews_df[['name', 'place_id', 'location_link', 'reviews_total', 'rating',\n",
    "                                     'review_text', 'review_rating', 'review_datetime_utc',\n",
    "                                     'reviews_per_score_1', 'reviews_per_score_2', 'reviews_per_score_3',\n",
    "                                     'reviews_per_score_4', 'reviews_per_score_5', 'review_text_english_textblob']]\n",
    "\n",
    "# Save the new dataframe to a new Excel file\n",
    "en_reviews_df_textblob.to_excel('google_maps_reviews_english_textblob.xlsx', index=False)"
   ]
  },
  {
   "cell_type": "code",
   "execution_count": null,
   "metadata": {},
   "outputs": [
    {
     "name": "stdout",
     "output_type": "stream",
     "text": [
      "1215\n"
     ]
    }
   ],
   "source": [
    "# use the new df for topic modelling, store the text into a list\n",
    "english_texts = en_reviews_df[\"review_text_english\"].tolist()\n",
    "\n",
    "# pre process the text data\n",
    "lemmatizer = WordNetLemmatizer()\n",
    "\n",
    "def preprocess_text(text):\n",
    "    if isinstance(text, str):  # Check if the text is a non-null string\n",
    "        # Remove hashtags (but keep the word following the hashtag)\n",
    "        text = re.sub(r'#', '', text)\n",
    "        # Remove special characters and numbers\n",
    "        text = re.sub(r'[^A-Za-z\\s]', '', text)\n",
    "        # Remove additional white spaces\n",
    "        text = re.sub(r'\\s+', ' ', text).strip()\n",
    "        # Remove URLs\n",
    "        text = re.sub(r'http\\S+', '', text)\n",
    "        stop_words = set(stopwords.words('english'))\n",
    "        return [lemmatizer.lemmatize(word) for word in text.lower().split() if word not in stop_words and word.isalpha()]\n",
    "    else:\n",
    "        return []  # Return an empty list for NaN or non-string values\n",
    "\n",
    "processed_texts = [preprocess_text(text) for text in english_texts]\n",
    "\n",
    "print(len(processed_texts))\n",
    "# Create a corpus and a document-term matrix needed for Topic Modeling\n",
    "\n",
    "corpus = corpora.Dictionary(processed_texts) \n",
    "\n",
    "doc_term_matrix = [corpus.doc2bow(text) for text in processed_texts]"
   ]
  },
  {
   "cell_type": "code",
   "execution_count": null,
   "metadata": {},
   "outputs": [
    {
     "name": "stdout",
     "output_type": "stream",
     "text": [
      "Topic: 0 \n",
      "Words: 0.016*\"bike\" + 0.010*\"car\" + 0.008*\"station\" + 0.008*\"auto\" + 0.007*\"wel\" + 0.007*\"app\" + 0.005*\"parking\" + 0.005*\"electric\" + 0.004*\"good\" + 0.004*\"metro\"\n",
      "Topic: 1 \n",
      "Words: 0.008*\"fiets\" + 0.008*\"auto\" + 0.005*\"gaan\" + 0.005*\"car\" + 0.005*\"service\" + 0.004*\"station\" + 0.004*\"keer\" + 0.004*\"heel\" + 0.004*\"wel\" + 0.004*\"amsterdam\"\n",
      "Topic: 2 \n",
      "Words: 0.020*\"auto\" + 0.015*\"station\" + 0.005*\"goed\" + 0.005*\"car\" + 0.004*\"wel\" + 0.004*\"prima\" + 0.004*\"vaak\" + 0.004*\"metro\" + 0.004*\"amsterdam\" + 0.003*\"bus\"\n",
      "Topic: 3 \n",
      "Words: 0.013*\"station\" + 0.011*\"fiets\" + 0.006*\"service\" + 0.006*\"ov\" + 0.006*\"nan\" + 0.005*\"wel\" + 0.005*\"gewoon\" + 0.004*\"prima\" + 0.004*\"app\" + 0.004*\"fietsen\"\n",
      "Topic: 4 \n",
      "Words: 0.093*\"nan\" + 0.011*\"car\" + 0.010*\"station\" + 0.007*\"service\" + 0.006*\"app\" + 0.006*\"account\" + 0.006*\"metro\" + 0.005*\"fiets\" + 0.005*\"auto\" + 0.004*\"bike\"\n",
      "Topic: 5 \n",
      "Words: 0.011*\"station\" + 0.010*\"fiets\" + 0.006*\"car\" + 0.006*\"amsterdam\" + 0.006*\"auto\" + 0.005*\"app\" + 0.005*\"top\" + 0.004*\"slot\" + 0.004*\"goed\" + 0.004*\"wel\"\n",
      "Topic: 6 \n",
      "Words: 0.060*\"nan\" + 0.014*\"auto\" + 0.008*\"service\" + 0.007*\"app\" + 0.006*\"wel\" + 0.006*\"customer\" + 0.005*\"car\" + 0.005*\"time\" + 0.004*\"euro\" + 0.004*\"erg\"\n",
      "Topic: 7 \n",
      "Words: 0.033*\"nan\" + 0.012*\"station\" + 0.010*\"auto\" + 0.008*\"service\" + 0.007*\"car\" + 0.006*\"app\" + 0.006*\"train\" + 0.006*\"mywheels\" + 0.006*\"goed\" + 0.005*\"metro\"\n"
     ]
    }
   ],
   "source": [
    "num_topics = 8\n",
    "lda_model = LdaModel(corpus=doc_term_matrix, id2word=corpus, num_topics=num_topics)\n",
    "\n",
    "# Extract topic distributions for each document \n",
    "doc_topics = [lda_model.get_document_topics(bow) for bow in doc_term_matrix]\n",
    "\n",
    "# save the model\n",
    "lda_model.save('reviews_lda_model.model')\n",
    "\n",
    "# extract word distribution for each topic\n",
    "word_topics = lda_model.print_topics()\n",
    "\n",
    "# word distribution within topics\n",
    "for idx, topic in word_topics:\n",
    "    print('Topic: {} \\nWords: {}'.format(idx, topic)) "
   ]
  },
  {
   "cell_type": "code",
   "execution_count": null,
   "metadata": {},
   "outputs": [
    {
     "name": "stdout",
     "output_type": "stream",
     "text": [
      "Topic: 0 \n",
      "Words: 0.155*\"nan\" + 0.006*\"fietsen\" + 0.005*\"station\" + 0.004*\"garage\" + 0.004*\"bike\" + 0.004*\"keer\" + 0.004*\"car\" + 0.004*\"parking\" + 0.004*\"amsterdam\" + 0.004*\"service\"\n",
      "Topic: 1 \n",
      "Words: 0.022*\"auto\" + 0.007*\"app\" + 0.006*\"mywheels\" + 0.006*\"car\" + 0.005*\"nan\" + 0.005*\"goed\" + 0.005*\"station\" + 0.005*\"fiets\" + 0.004*\"account\" + 0.004*\"super\"\n",
      "Topic: 2 \n",
      "Words: 0.032*\"nan\" + 0.013*\"car\" + 0.009*\"fiets\" + 0.007*\"station\" + 0.006*\"auto\" + 0.006*\"electric\" + 0.004*\"service\" + 0.004*\"jongens\" + 0.004*\"mywheels\" + 0.004*\"even\"\n",
      "Topic: 3 \n",
      "Words: 0.020*\"station\" + 0.019*\"nan\" + 0.011*\"auto\" + 0.010*\"fiets\" + 0.008*\"service\" + 0.008*\"goed\" + 0.006*\"keer\" + 0.005*\"bike\" + 0.005*\"klantenservice\" + 0.005*\"wel\"\n",
      "Topic: 4 \n",
      "Words: 0.014*\"car\" + 0.010*\"metro\" + 0.008*\"service\" + 0.007*\"station\" + 0.007*\"app\" + 0.006*\"amsterdam\" + 0.006*\"fiets\" + 0.005*\"bike\" + 0.005*\"good\" + 0.005*\"mywheels\"\n",
      "Topic: 5 \n",
      "Words: 0.009*\"station\" + 0.008*\"car\" + 0.008*\"prima\" + 0.006*\"amsterdam\" + 0.006*\"service\" + 0.005*\"customer\" + 0.004*\"metro\" + 0.004*\"az\" + 0.004*\"app\" + 0.004*\"always\"\n",
      "Topic: 6 \n",
      "Words: 0.016*\"nan\" + 0.012*\"station\" + 0.009*\"wel\" + 0.006*\"auto\" + 0.006*\"fiets\" + 0.005*\"goed\" + 0.005*\"rit\" + 0.004*\"echt\" + 0.004*\"goede\" + 0.004*\"gaan\"\n",
      "Topic: 7 \n",
      "Words: 0.019*\"nan\" + 0.012*\"app\" + 0.011*\"auto\" + 0.006*\"station\" + 0.006*\"wel\" + 0.005*\"service\" + 0.005*\"fiets\" + 0.005*\"goed\" + 0.004*\"bike\" + 0.004*\"train\"\n"
     ]
    }
   ],
   "source": [
    "# enrich the stopwords \n",
    "custom_stopwords = set(['also','lot', 'go', 'one', 'get'])\n",
    "\n",
    "# re-run the preprocess\n",
    "def preprocess_text(text):\n",
    "    return [word for word in text if word not in custom_stopwords]\n",
    "\n",
    "new_processed = [preprocess_text(text) for text in processed_texts]\n",
    "\n",
    "# create corpus and matrix\n",
    "corpus = corpora.Dictionary(new_processed) \n",
    "\n",
    "doc_term_matrix = [corpus.doc2bow(text) for text in new_processed]\n",
    "\n",
    "# lda model\n",
    "num_topics = 8\n",
    "lda_model = LdaModel(corpus=doc_term_matrix, id2word=corpus, num_topics=num_topics)\n",
    "\n",
    "# Extract topic distributions for each document \n",
    "doc_topics = [lda_model.get_document_topics(bow) for bow in doc_term_matrix]\n",
    "\n",
    "# save the new model\n",
    "lda_model.save('reviews_lda_model_improved.model')\n",
    "\n",
    "\n",
    "# extract word distribution for each topic\n",
    "word_topics = lda_model.print_topics()\n",
    "\n",
    "# word distribution within topics\n",
    "for idx, topic in word_topics:\n",
    "    print('Topic: {} \\nWords: {}'.format(idx, topic))\n",
    "\n",
    "# visualization\n",
    "import pyLDAvis.gensim_models\n",
    "\n",
    "vis = pyLDAvis.gensim_models.prepare(lda_model, doc_term_matrix, corpus)\n",
    "pyLDAvis.save_html(vis, 'reviews_lda_visualization_ex.html')\n"
   ]
  }
 ],
 "metadata": {
  "kernelspec": {
   "display_name": "base",
   "language": "python",
   "name": "python3"
  },
  "language_info": {
   "codemirror_mode": {
    "name": "ipython",
    "version": 3
   },
   "file_extension": ".py",
   "mimetype": "text/x-python",
   "name": "python",
   "nbconvert_exporter": "python",
   "pygments_lexer": "ipython3",
   "version": "3.9.12"
  }
 },
 "nbformat": 4,
 "nbformat_minor": 2
}
